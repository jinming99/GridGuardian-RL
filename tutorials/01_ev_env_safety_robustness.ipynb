{
 "cells": [
  {
   "cell_type": "markdown",
   "id": "d4ed8cff",
   "metadata": {},
   "source": [
    "# Tutorial 01: Environment, Safety, and Robustness Primer\n",
    "\n",
    "**Author:** Ming Jin | [jinming.tech](https://jinming.tech) | jinming@vt.edu  \n",
    "**Series:** Safe and Robust RL for Power and Energy Systems | [Full References](https://github.com/username/repo/blob/main/REFERENCES.md)\n",
    "\n",
    "\n",
    "This notebook introduces the EVCharging environment, exploring its observation/action spaces, safety constraints, reward design, robustness features, and control modes.\n",
    "\n",
    "![EV Charging Station](https://images.unsplash.com/photo-1593941707882-a5bba14938c7?w=1200&h=400&fit=crop)\n",
    "*Modern EV charging infrastructure presents complex decision-making challenges*\n"
   ]
  },
  {
   "cell_type": "markdown",
   "id": "62142fe8",
   "metadata": {
    "lines_to_next_cell": 0
   },
   "source": [
    "## Background and Motivation\n",
    "\n",
    "Electric Vehicle charging optimization sits at the intersection of power systems, transportation, and sustainability. This tutorial explores a realistic charging environment based on [ACN-Sim from Caltech](https://ev.caltech.edu/simulator), using real-world data from university charging garages.\n",
    "\n",
    "The core challenge: How do we charge multiple vehicles efficiently while respecting physical network limits, minimizing carbon emissions during high-pollution periods, and maintaining profitability? This environment provides a sandbox to explore these trade-offs.\n",
    "\n",
    "\n",
    "### Objectives\n",
    "\n",
    "After completing this tutorial, you will understand:\n",
    "- The structure and meaning of observations (demands, departures, emissions forecasts)\n",
    "- How actions translate to physical charging rates\n",
    "- Network safety constraints and their enforcement\n",
    "- The multi-objective reward function design\n",
    "- Robustness testing through noise injection"
   ]
  },
  {
   "cell_type": "markdown",
   "id": "d69af182",
   "metadata": {
    "lines_to_next_cell": 2
   },
   "source": [
    "### Cost Convention (Per-step vs Cumulative)\n",
    "\n",
    "We treat safety as a per-step cost $c_t$, while constraints are enforced on episode totals.\n",
    "\n",
    "- Per-step safety cost:\n",
    "  $$c_t = \\max\\big(0, \\; \\lVert \\mathbf{I}^{\\text{grid}}_t \\rVert - \\mathbf{b}^{\\text{limit}} \\big).$$\n",
    "\n",
    "- Episode cumulative cost:\n",
    "  $$C^{(\\text{ep})} = \\sum_{t=0}^{T-1} c_t.$$\n",
    "\n",
    "- Constraint enforced in experiments:\n",
    "  $$\\mathbb{E}[\\,C^{(\\text{ep})}\\,] \\le d.$$\n",
    "\n",
    "Notes used across all tutorials:\n",
    "- The environment logs a cumulative series `info['reward_breakdown']['excess_charge']` within an episode.\n",
    "- Utilities/wrappers derive per-step `info['cost']` by differencing that series.\n",
    "- Algorithms learn from per-step costs but check safety using the episode total against the limit $d$.\n",
    "- Reported `mean_cost` is the mean of per-episode totals, aligning evaluation and training."
   ]
  },
  {
   "cell_type": "markdown",
   "id": "ce1b4a53",
   "metadata": {},
   "source": [
    "### Prerequisites and Setup\n"
   ]
  },
  {
   "cell_type": "code",
   "execution_count": 1,
   "id": "c2a33afa",
   "metadata": {},
   "outputs": [],
   "source": [
    "import sys\n",
    "from pathlib import Path\n",
    "\n",
    "try:\n",
    "    nb_dir = Path(__file__).parent\n",
    "except NameError:\n",
    "    nb_dir = Path.cwd()\n",
    "\n",
    "repo_root = nb_dir.parent  # tutorials/ -> repo root\n",
    "if str(repo_root) not in sys.path:\n",
    "    sys.path.insert(0, str(repo_root))\n",
    "\n",
    "import numpy as np\n",
    "import pandas as pd\n",
    "import matplotlib.pyplot as plt\n",
    "from matplotlib.patches import Rectangle\n",
    "from matplotlib.animation import FuncAnimation\n",
    "from IPython.display import HTML, display\n",
    "import ipywidgets as widgets\n",
    "from ipywidgets import interact, interactive, fixed\n",
    "from datetime import datetime, timedelta\n",
    "import warnings\n",
    "warnings.filterwarnings('ignore')\n",
    "\n",
    "# Optional imports with graceful fallback\n",
    "try:\n",
    "    import seaborn as sns\n",
    "    plt.style.use('seaborn-v0_8-darkgrid')\n",
    "    sns.set_palette(\"husl\")\n",
    "except ImportError:\n",
    "    print(\"Note: seaborn not installed, using default matplotlib style\")\n",
    "    plt.style.use('default')\n",
    "\n",
    "try:\n",
    "    import cvxpy as cp\n",
    "    CVXPY_AVAILABLE = True\n",
    "except ImportError:\n",
    "    CVXPY_AVAILABLE = False\n",
    "    print(\"Note: CVXPY not installed, some optimization demos will be skipped\")\n",
    "\n",
    "# Import EV charging components\n",
    "from envs.evcharging import EVChargingEnv, GMMsTraceGenerator, RealTraceGenerator\n",
    "from envs.evcharging import MultiAgentEVChargingEnv\n",
    "from envs.evcharging.env import magnitude_constraint\n",
    "from envs.evcharging.utils import site_str_to_site\n",
    "from data.load_moer import MOERLoader, load_monthly_moer\n",
    "\n",
    "# Import utilities from new structure\n",
    "from tutorials.utils import (\n",
    "    # Common\n",
    "    wrap_policy, extract_from_obs, solve_cvx_with_fallback, create_ev_env,\n",
    "    # EV-specific\n",
    "    evaluate_policy, sweep_noise, plot_robustness_heatmap,\n",
    "    plot_action_distribution, save_evaluation_results,\n",
    "    load_evaluation_results, save_timeseries, load_timeseries,\n",
    "    run_scenario_sweep, plot_algorithm_comparison_matrix,\n",
    "    # Diagnostics\n",
    "    pilot_signals_df, constraint_slack_t, constraint_slack_series,\n",
    "    plot_slack_from_env, interactive_critical_timeline, \n",
    "    policy_behavior_fingerprint,\n",
    "    # Notebook\n",
    "    show, show_metrics, quick_plot,\n",
    "    # Shared planning-friendly evaluation config\n",
    "    PlanningEvalConfig, get_planning_eval_env_fn,\n",
    ")\n",
    "\n",
    "# Style control\n",
    "plt.rcParams['figure.figsize'] = (14, 6)\n",
    "plt.rcParams['font.size'] = 11\n",
    "\n",
    "# Global density toggle for tutorial demos\n",
    "TUTORIAL_DENSE = True"
   ]
  },
  {
   "cell_type": "markdown",
   "id": "f36df4f6",
   "metadata": {},
   "source": [
    "### Note: Tutorial density mode\n",
    "\n",
    "This tutorial enables a denser, more demonstrable scenario when using the shared\n",
    "environment factory `create_ev_env()` by passing `dense_mode=True` (default 3x sessions).\n",
    "This improves interactivity and reduces flat segments during short horizons.\n",
    "For realistic benchmarking and research experiments, set `dense_mode=False`."
   ]
  },
  {
   "cell_type": "markdown",
   "id": "9240fb75",
   "metadata": {},
   "source": [
    "## Evaluation Environment Settings (Shared Across Tutorials)\n",
    "\n",
    "We use a common evaluation configuration to make planning advantages visible and comparisons fair across notebooks.\n",
    "These settings reduce oversaturation, emphasize carbon timing, and penalize violations more strongly.\n",
    "\n",
    "Settings used here (and recommended for other tutorials):\n",
    "- Density multiplier: 3.0\n",
    "- Violation weight: 5.0\n",
    "- Carbon multiplier: 3.0\n",
    "- Departure extension (steps): 24 (~2 hours optimistic extension)\n",
    "- Forecast error enabled: True (modest growth with horizon)\n",
    "- Demand charge: Disabled by default (can be enabled per experiment)"
   ]
  },
  {
   "cell_type": "code",
   "execution_count": null,
   "id": "f8e19f70",
   "metadata": {},
   "outputs": [],
   "source": [
    "EVAL_CFG = PlanningEvalConfig(\n",
    "    density_multiplier=3.0,\n",
    "    violation_weight=5.0,\n",
    "    carbon_multiplier=3.0,\n",
    "    departure_extension_steps=24,\n",
    "    enable_forecast_error=True,\n",
    "    enable_demand_charge=False,\n",
    "    demand_charge_per_kw=200.0,\n",
    "    seed=42,\n",
    ")\n",
    "\n",
    "# Build an evaluation env factory (single-agent) using the shared helper\n",
    "eval_env_fn = get_planning_eval_env_fn(\n",
    "    EVAL_CFG,\n",
    "    site='caltech',\n",
    "    date_range=('2019-05-01', '2019-08-31'),\n",
    "    flatten=False,\n",
    "    moer_forecast_steps=36,\n",
    "    project_action_in_env=False,\n",
    "    dense_mode=TUTORIAL_DENSE,\n",
    ")\n",
    "\n",
    "show(\"section: Evaluation Environment Settings (Shared)\")\n",
    "show_metrics({\n",
    "    'Density multiplier': EVAL_CFG.density_multiplier,\n",
    "    'Violation weight': EVAL_CFG.violation_weight,\n",
    "    'Carbon multiplier': EVAL_CFG.carbon_multiplier,\n",
    "    'Departure ext (steps)': EVAL_CFG.departure_extension_steps,\n",
    "    'Forecast error enabled': EVAL_CFG.enable_forecast_error,\n",
    "    'Demand charge enabled': EVAL_CFG.enable_demand_charge,\n",
    "    'Demand charge $/kW': EVAL_CFG.demand_charge_per_kw if EVAL_CFG.enable_demand_charge else 0.0,\n",
    "}, title='Standardized Evaluation Settings')\n",
    "\n",
    "# You can pass `eval_env_fn` to evaluation helpers, e.g.,\n",
    "# mean_ret, std_ret, mean_cost, metrics = evaluate_policy(policy_fn, eval_env_fn, episodes=10, ...)"
   ]
  },
  {
   "cell_type": "markdown",
   "id": "ddffffe5",
   "metadata": {},
   "source": [
    "## Section 1: Environment Deep Dive\n",
    "\n",
    "### Creating the Environment\n",
    "\n",
    "We'll use synthetic traces from Gaussian Mixture Models (GMMs) for reproducibility. These models are trained on real charging data and generate realistic arrival/departure patterns."
   ]
  },
  {
   "cell_type": "code",
   "execution_count": 2,
   "id": "3d056fb3",
   "metadata": {},
   "outputs": [
    {
     "data": {
      "text/html": [
       "\n",
       "            <div style=\"margin:0;padding:2px 6px;display:inline-block;border-left:4px solid #4F46E5;background:#F8FAFC;border-radius:6px;line-height:1.1;\">\n",
       "              <span style=\"font-weight:600;color:#1F2937;\">Environment Configuration</span>\n",
       "            </div>\n",
       "            "
      ],
      "text/plain": [
       "<IPython.core.display.HTML object>"
      ]
     },
     "metadata": {},
     "output_type": "display_data"
    },
    {
     "data": {
      "text/html": [
       "\n",
       "        <div style=\"margin:0;padding:6px 8px;border-radius:6px;border:1px solid #e5e7eb;background:#ffffff;display:block;line-height:1.15;\">\n",
       "          <div style=\"font-weight:700;color:#111827;margin-bottom:2px;\">Metrics</div>\n",
       "          <ul style=\"margin:0 0 0 10px;padding:0;color:#374151;list-style-position:inside;\"><li style='margin:2px 0;'><b>Site</b>: caltech</li><li style='margin:2px 0;'><b>Stations</b>: 54</li><li style='margin:2px 0;'><b>Period</b>: 24 hours (288 x 5-minute steps)</li><li style='margin:2px 0;'><b>Action scaling</b>: [0,1] → [0,32] Amps</li></ul>\n",
       "        </div>\n",
       "        "
      ],
      "text/plain": [
       "<IPython.core.display.HTML object>"
      ]
     },
     "metadata": {},
     "output_type": "display_data"
    }
   ],
   "source": [
    "# Initialize event generator with GMM for reproducible experiments\n",
    "gen = GMMsTraceGenerator(\n",
    "    site='caltech', \n",
    "    date_period=('2019-05-01', '2019-08-31'), \n",
    "    n_components=30,  # GMM components for modeling session diversity\n",
    "    seed=42\n",
    ")\n",
    "\n",
    "# Create environment with full feature set\n",
    "env = EVChargingEnv(\n",
    "    data_generator=gen,\n",
    "    moer_forecast_steps=36,  # 3-hour forecast horizon\n",
    "    project_action_in_env=True,  # Automatic safety projection\n",
    "    verbose=1\n",
    ")\n",
    "\n",
    "show(\"section: Environment Configuration\")\n",
    "show_metrics({\n",
    "    'Site': gen.site,\n",
    "    'Stations': env.num_stations,\n",
    "    'Period': '24 hours (288 x 5-minute steps)',\n",
    "    'Action scaling': '[0,1] → [0,32] Amps',\n",
    "})"
   ]
  },
  {
   "cell_type": "markdown",
   "id": "f08692b0",
   "metadata": {},
   "source": [
    "### Dataset Headers and Sample Rows\n",
    "\n",
    "Before diving into controls, let’s briefly inspect the underlying data sources to understand what the environment sees. We’ll look at MOER (marginal operating emissions rate) headers and a sample of real events (if available). This helps ensure your runs operate on data with the expected shapes and columns.\n"
   ]
  },
  {
   "cell_type": "code",
   "execution_count": 3,
   "id": "33e952cc",
   "metadata": {},
   "outputs": [
    {
     "data": {
      "text/html": [
       "\n",
       "            <div style=\"margin:0;padding:2px 6px;display:inline-block;border-left:4px solid #4F46E5;background:#F8FAFC;border-radius:6px;line-height:1.1;\">\n",
       "              <span style=\"font-weight:600;color:#1F2937;\">MOER Data Structure</span>\n",
       "            </div>\n",
       "            "
      ],
      "text/plain": [
       "<IPython.core.display.HTML object>"
      ]
     },
     "metadata": {},
     "output_type": "display_data"
    },
    {
     "data": {
      "text/html": [
       "<div>\n",
       "<style scoped>\n",
       "    .dataframe tbody tr th:only-of-type {\n",
       "        vertical-align: middle;\n",
       "    }\n",
       "\n",
       "    .dataframe tbody tr th {\n",
       "        vertical-align: top;\n",
       "    }\n",
       "\n",
       "    .dataframe thead th {\n",
       "        text-align: right;\n",
       "    }\n",
       "</style>\n",
       "<table border=\"1\" class=\"dataframe\">\n",
       "  <thead>\n",
       "    <tr style=\"text-align: right;\">\n",
       "      <th></th>\n",
       "      <th>moer</th>\n",
       "      <th>f1</th>\n",
       "      <th>f2</th>\n",
       "      <th>f3</th>\n",
       "      <th>f4</th>\n",
       "      <th>f5</th>\n",
       "      <th>f6</th>\n",
       "      <th>f7</th>\n",
       "      <th>f8</th>\n",
       "      <th>f9</th>\n",
       "      <th>...</th>\n",
       "      <th>f27</th>\n",
       "      <th>f28</th>\n",
       "      <th>f29</th>\n",
       "      <th>f30</th>\n",
       "      <th>f31</th>\n",
       "      <th>f32</th>\n",
       "      <th>f33</th>\n",
       "      <th>f34</th>\n",
       "      <th>f35</th>\n",
       "      <th>f36</th>\n",
       "    </tr>\n",
       "    <tr>\n",
       "      <th>time</th>\n",
       "      <th></th>\n",
       "      <th></th>\n",
       "      <th></th>\n",
       "      <th></th>\n",
       "      <th></th>\n",
       "      <th></th>\n",
       "      <th></th>\n",
       "      <th></th>\n",
       "      <th></th>\n",
       "      <th></th>\n",
       "      <th></th>\n",
       "      <th></th>\n",
       "      <th></th>\n",
       "      <th></th>\n",
       "      <th></th>\n",
       "      <th></th>\n",
       "      <th></th>\n",
       "      <th></th>\n",
       "      <th></th>\n",
       "      <th></th>\n",
       "      <th></th>\n",
       "    </tr>\n",
       "  </thead>\n",
       "  <tbody>\n",
       "    <tr>\n",
       "      <th>2019-05-31 00:00:00+00:00</th>\n",
       "      <td>0.121442</td>\n",
       "      <td>0.143301</td>\n",
       "      <td>0.140829</td>\n",
       "      <td>0.138640</td>\n",
       "      <td>0.136275</td>\n",
       "      <td>0.137925</td>\n",
       "      <td>0.145098</td>\n",
       "      <td>0.155275</td>\n",
       "      <td>0.169213</td>\n",
       "      <td>0.165420</td>\n",
       "      <td>...</td>\n",
       "      <td>0.191443</td>\n",
       "      <td>0.200999</td>\n",
       "      <td>0.204948</td>\n",
       "      <td>0.210293</td>\n",
       "      <td>0.222099</td>\n",
       "      <td>0.234960</td>\n",
       "      <td>0.233212</td>\n",
       "      <td>0.220456</td>\n",
       "      <td>0.214562</td>\n",
       "      <td>0.220264</td>\n",
       "    </tr>\n",
       "    <tr>\n",
       "      <th>2019-05-31 00:05:00+00:00</th>\n",
       "      <td>0.121442</td>\n",
       "      <td>0.123767</td>\n",
       "      <td>0.128867</td>\n",
       "      <td>0.130003</td>\n",
       "      <td>0.124601</td>\n",
       "      <td>0.137613</td>\n",
       "      <td>0.155275</td>\n",
       "      <td>0.169213</td>\n",
       "      <td>0.165420</td>\n",
       "      <td>0.162794</td>\n",
       "      <td>...</td>\n",
       "      <td>0.200999</td>\n",
       "      <td>0.204948</td>\n",
       "      <td>0.210293</td>\n",
       "      <td>0.222099</td>\n",
       "      <td>0.234960</td>\n",
       "      <td>0.233212</td>\n",
       "      <td>0.220456</td>\n",
       "      <td>0.214562</td>\n",
       "      <td>0.220264</td>\n",
       "      <td>0.213462</td>\n",
       "    </tr>\n",
       "    <tr>\n",
       "      <th>2019-05-31 00:10:00+00:00</th>\n",
       "      <td>0.122233</td>\n",
       "      <td>0.120110</td>\n",
       "      <td>0.121420</td>\n",
       "      <td>0.117840</td>\n",
       "      <td>0.128653</td>\n",
       "      <td>0.138215</td>\n",
       "      <td>0.169213</td>\n",
       "      <td>0.165420</td>\n",
       "      <td>0.162794</td>\n",
       "      <td>0.151170</td>\n",
       "      <td>...</td>\n",
       "      <td>0.204948</td>\n",
       "      <td>0.210293</td>\n",
       "      <td>0.222099</td>\n",
       "      <td>0.234960</td>\n",
       "      <td>0.233212</td>\n",
       "      <td>0.220456</td>\n",
       "      <td>0.214562</td>\n",
       "      <td>0.220264</td>\n",
       "      <td>0.213462</td>\n",
       "      <td>0.209941</td>\n",
       "    </tr>\n",
       "  </tbody>\n",
       "</table>\n",
       "<p>3 rows × 37 columns</p>\n",
       "</div>"
      ],
      "text/plain": [
       "                               moer        f1        f2        f3        f4  \\\n",
       "time                                                                          \n",
       "2019-05-31 00:00:00+00:00  0.121442  0.143301  0.140829  0.138640  0.136275   \n",
       "2019-05-31 00:05:00+00:00  0.121442  0.123767  0.128867  0.130003  0.124601   \n",
       "2019-05-31 00:10:00+00:00  0.122233  0.120110  0.121420  0.117840  0.128653   \n",
       "\n",
       "                                 f5        f6        f7        f8        f9  \\\n",
       "time                                                                          \n",
       "2019-05-31 00:00:00+00:00  0.137925  0.145098  0.155275  0.169213  0.165420   \n",
       "2019-05-31 00:05:00+00:00  0.137613  0.155275  0.169213  0.165420  0.162794   \n",
       "2019-05-31 00:10:00+00:00  0.138215  0.169213  0.165420  0.162794  0.151170   \n",
       "\n",
       "                           ...       f27       f28       f29       f30  \\\n",
       "time                       ...                                           \n",
       "2019-05-31 00:00:00+00:00  ...  0.191443  0.200999  0.204948  0.210293   \n",
       "2019-05-31 00:05:00+00:00  ...  0.200999  0.204948  0.210293  0.222099   \n",
       "2019-05-31 00:10:00+00:00  ...  0.204948  0.210293  0.222099  0.234960   \n",
       "\n",
       "                                f31       f32       f33       f34       f35  \\\n",
       "time                                                                          \n",
       "2019-05-31 00:00:00+00:00  0.222099  0.234960  0.233212  0.220456  0.214562   \n",
       "2019-05-31 00:05:00+00:00  0.234960  0.233212  0.220456  0.214562  0.220264   \n",
       "2019-05-31 00:10:00+00:00  0.233212  0.220456  0.214562  0.220264  0.213462   \n",
       "\n",
       "                                f36  \n",
       "time                                 \n",
       "2019-05-31 00:00:00+00:00  0.220264  \n",
       "2019-05-31 00:05:00+00:00  0.213462  \n",
       "2019-05-31 00:10:00+00:00  0.209941  \n",
       "\n",
       "[3 rows x 37 columns]"
      ]
     },
     "metadata": {},
     "output_type": "display_data"
    },
    {
     "data": {
      "text/html": [
       "\n",
       "            <div style=\"margin:0;padding:2px 6px;display:inline-block;border-left:4px solid #4F46E5;background:#F8FAFC;border-radius:6px;line-height:1.1;\">\n",
       "              <span style=\"font-weight:600;color:#1F2937;\">Real Events (sample)</span>\n",
       "            </div>\n",
       "            "
      ],
      "text/plain": [
       "<IPython.core.display.HTML object>"
      ]
     },
     "metadata": {},
     "output_type": "display_data"
    },
    {
     "data": {
      "text/html": [
       "<div>\n",
       "<style scoped>\n",
       "    .dataframe tbody tr th:only-of-type {\n",
       "        vertical-align: middle;\n",
       "    }\n",
       "\n",
       "    .dataframe tbody tr th {\n",
       "        vertical-align: top;\n",
       "    }\n",
       "\n",
       "    .dataframe thead th {\n",
       "        text-align: right;\n",
       "    }\n",
       "</style>\n",
       "<table border=\"1\" class=\"dataframe\">\n",
       "  <thead>\n",
       "    <tr style=\"text-align: right;\">\n",
       "      <th></th>\n",
       "      <th>arrival</th>\n",
       "      <th>departure</th>\n",
       "      <th>requested_energy (kWh)</th>\n",
       "      <th>delivered_energy (kWh)</th>\n",
       "      <th>station_id</th>\n",
       "      <th>session_id</th>\n",
       "      <th>estimated_departure</th>\n",
       "      <th>claimed</th>\n",
       "    </tr>\n",
       "  </thead>\n",
       "  <tbody>\n",
       "    <tr>\n",
       "      <th>0</th>\n",
       "      <td>2019-05-01 01:18:45-07:00</td>\n",
       "      <td>2019-05-01 15:52:36-07:00</td>\n",
       "      <td>60.00</td>\n",
       "      <td>44.069</td>\n",
       "      <td>CA-305</td>\n",
       "      <td>2_39_131_30_2019-05-01 08:18:44.595638</td>\n",
       "      <td>2019-05-01 09:20:45-07:00</td>\n",
       "      <td>True</td>\n",
       "    </tr>\n",
       "    <tr>\n",
       "      <th>1</th>\n",
       "      <td>2019-05-01 06:33:14-07:00</td>\n",
       "      <td>2019-05-01 11:50:55-07:00</td>\n",
       "      <td>21.84</td>\n",
       "      <td>17.666</td>\n",
       "      <td>CA-314</td>\n",
       "      <td>2_39_88_24_2019-05-01 13:33:13.958599</td>\n",
       "      <td>2019-05-01 11:27:14-07:00</td>\n",
       "      <td>True</td>\n",
       "    </tr>\n",
       "    <tr>\n",
       "      <th>2</th>\n",
       "      <td>2019-05-01 06:54:21-07:00</td>\n",
       "      <td>2019-05-01 15:21:59-07:00</td>\n",
       "      <td>4.00</td>\n",
       "      <td>2.908</td>\n",
       "      <td>CA-327</td>\n",
       "      <td>2_39_79_379_2019-05-01 13:54:21.241471</td>\n",
       "      <td>2019-05-01 10:54:21-07:00</td>\n",
       "      <td>True</td>\n",
       "    </tr>\n",
       "  </tbody>\n",
       "</table>\n",
       "</div>"
      ],
      "text/plain": [
       "                    arrival                 departure  requested_energy (kWh)  \\\n",
       "0 2019-05-01 01:18:45-07:00 2019-05-01 15:52:36-07:00                   60.00   \n",
       "1 2019-05-01 06:33:14-07:00 2019-05-01 11:50:55-07:00                   21.84   \n",
       "2 2019-05-01 06:54:21-07:00 2019-05-01 15:21:59-07:00                    4.00   \n",
       "\n",
       "   delivered_energy (kWh) station_id                              session_id  \\\n",
       "0                  44.069     CA-305  2_39_131_30_2019-05-01 08:18:44.595638   \n",
       "1                  17.666     CA-314   2_39_88_24_2019-05-01 13:33:13.958599   \n",
       "2                   2.908     CA-327  2_39_79_379_2019-05-01 13:54:21.241471   \n",
       "\n",
       "        estimated_departure  claimed  \n",
       "0 2019-05-01 09:20:45-07:00     True  \n",
       "1 2019-05-01 11:27:14-07:00     True  \n",
       "2 2019-05-01 10:54:21-07:00     True  "
      ]
     },
     "metadata": {},
     "output_type": "display_data"
    }
   ],
   "source": [
    "from data.load_moer import load_monthly_moer\n",
    "from envs.evcharging.utils import get_real_events, to_la_dt\n",
    "\n",
    "# MOER headers and sample\n",
    "moer_df = load_monthly_moer(2019, 6, ba='SGIP_CAISO_SCE')\n",
    "show(\"section: MOER Data Structure\")\n",
    "show(\"table\", df=moer_df.head(3))  # expected ['moer','f1',...,'f36']\n",
    "\n",
    "# Real events headers and samples (optional)\n",
    "start, end = to_la_dt('2019-05-01'), to_la_dt('2019-08-31')\n",
    "real_df = get_real_events(start, end, site='caltech')\n",
    "show(\"section: Real Events (sample)\")\n",
    "show(\"table\", df=real_df.head(3))"
   ]
  },
  {
   "cell_type": "markdown",
   "id": "373908f1",
   "metadata": {},
   "source": [
    "**Key messages:**\n",
    "- MOER frame should include the base signal and 36-step ahead forecasts.\n",
    "- Real events contain arrival/departure/energy columns per session; these shape the demands and timing in the environment."
   ]
  },
  {
   "cell_type": "markdown",
   "id": "48294a4c",
   "metadata": {},
   "source": [
    "### Problem Overview\n",
    "\n",
    "We consider a discrete-time setting with 5-minute steps:\n",
    "- Time steps: $t=0,1,\\dots,T-1$\n",
    "- Stations (agents): $i=1,\\dots,N$\n",
    "- Demand at station $i$: $d_{i,t} \\ge 0$\n",
    "- Action (normalized charging “pilot”): $a_{i,t} \\in [0,1]$\n",
    "\n",
    "A rollout produces:\n",
    "- A per-step reward $r_t$ from the environment\n",
    "- A reward breakdown in `info['reward_breakdown']` with components per-step (or cumulative):\n",
    "  - Profit (revenue): $p_t$\n",
    "  - Carbon cost: $c_t$\n",
    "  - Constraint violations (e.g., “excess charge”): $v_t$\n",
    "\n",
    "We also track a simple delivered-energy proxy:\n",
    "- Delivered at station $i$: $\\Delta e_{i,t} \\triangleq \\max\\{0,\\ d_{i,t} - d_{i,t+1}\\}$\n",
    "- Total delivered: $\\Delta E_t \\triangleq \\sum_{i=1}^N \\Delta e_{i,t}$"
   ]
  },
  {
   "cell_type": "markdown",
   "id": "3f38ea3f",
   "metadata": {},
   "source": [
    "### Observation States Overview\n",
    "\n",
    "- `timestep`: Fraction of the day in [0, 1] indicating how far the 24-hour episode has progressed.\n",
    "- `est_departures`: Per-station estimate (in 5-minute timesteps) until each connected EV departs; zero where no EV is present.\n",
    "- `demands`: Per-station remaining energy required (kWh) to fulfill active charging sessions; zero where no EV is present.\n",
    "- `prev_moer`: Current marginal operating emissions rate (normalized to [0, 1]) for this timestep.\n",
    "- `forecasted_moer`: Vector of the next k timesteps’ MOER forecasts (normalized to [0, 1]) used to anticipate cleaner or dirtier periods."
   ]
  },
  {
   "cell_type": "code",
   "execution_count": 4,
   "id": "718bf11d",
   "metadata": {},
   "outputs": [
    {
     "data": {
      "text/html": [
       "\n",
       "        <div style=\"font-family:ui-sans-serif, system-ui; margin:6px 0; padding:8px 10px; border-radius:6px; background:#f8fafc; color:#1f2937; border:1px solid rgba(0,0,0,0.05);\">\n",
       "          <span style=\"margin-right:6px;\">ℹ️</span>\n",
       "          <span>Simulating 36 events using 30-component GMM-based trace generator for Caltech garage (2019-05-01 to 2019-08-31)</span>\n",
       "        </div>\n",
       "        "
      ],
      "text/plain": [
       "<IPython.core.display.HTML object>"
      ]
     },
     "metadata": {},
     "output_type": "display_data"
    },
    {
     "data": {
      "application/vnd.jupyter.widget-view+json": {
       "model_id": "6237ba7f94ea4f099432422bad537360",
       "version_major": 2,
       "version_minor": 0
      },
      "text/plain": [
       "VBox(children=(Button(description='Step env', style=ButtonStyle()), Output()))"
      ]
     },
     "metadata": {},
     "output_type": "display_data"
    }
   ],
   "source": [
    "# Reset and get initial observation\n",
    "obs, info = env.reset(seed=42)\n",
    "\n",
    "# Compact observation summary (no plots)\n",
    "def summarize_observation(obs_dict, sample_k: int = 6) -> pd.DataFrame:\n",
    "    rows = []\n",
    "    for key, val in obs_dict.items():\n",
    "        row = {'key': key}\n",
    "        try:\n",
    "            if isinstance(val, (np.ndarray, list)):\n",
    "                a = np.asarray(val)\n",
    "                row['shape'] = str(tuple(a.shape))\n",
    "                row['dtype'] = str(a.dtype)\n",
    "                if a.size:\n",
    "                    row['min'] = float(np.nanmin(a))\n",
    "                    row['mean'] = float(np.nanmean(a))\n",
    "                    row['max'] = float(np.nanmax(a))\n",
    "                    row['nonzero'] = int(np.count_nonzero(a))\n",
    "                    # Choose informative samples\n",
    "                    if a.ndim == 1 and np.issubdtype(a.dtype, np.number):\n",
    "                        if key in ('demands', 'est_departures'):\n",
    "                            nz = np.flatnonzero(a)\n",
    "                            take = nz[:sample_k]\n",
    "                            vals = np.round(a[take], 3).tolist() if take.size else []\n",
    "                            row['sample'] = [f\"{int(i)}:{v}\" for i, v in zip(take, vals)]\n",
    "                        elif key == 'forecasted_moer':\n",
    "                            row['sample'] = np.round(a[:sample_k], 3).tolist()\n",
    "                        else:\n",
    "                            row['sample'] = np.round(a[:sample_k], 3).tolist()\n",
    "                    else:\n",
    "                        row['sample'] = np.round(a.reshape(-1)[:sample_k], 3).tolist()\n",
    "                else:\n",
    "                    row.update({'min': None, 'mean': None, 'max': None, 'nonzero': 0, 'sample': []})\n",
    "            elif isinstance(val, (int, float, np.number)):\n",
    "                x = float(val)\n",
    "                row.update({'shape': '-', 'dtype': type(val).__name__, 'min': x, 'mean': x, 'max': x, 'nonzero': '-', 'sample': [x]})\n",
    "            else:\n",
    "                s = str(val)\n",
    "                row.update({'shape': '-', 'dtype': type(val).__name__, 'min': None, 'mean': None, 'max': None, 'nonzero': '-', 'sample': [s[:40] + ('…' if len(s) > 40 else '')]})\n",
    "        except Exception as _e:\n",
    "            # Encode error in sample to avoid adding extra columns\n",
    "            row.setdefault('shape', '-')\n",
    "            row.setdefault('dtype', type(val).__name__)\n",
    "            row.setdefault('min', None)\n",
    "            row.setdefault('mean', None)\n",
    "            row.setdefault('max', None)\n",
    "            row.setdefault('nonzero', '-')\n",
    "            row['sample'] = [f\"error: {str(_e)[:30]}\"]\n",
    "        rows.append(row)\n",
    "    cols = ['key','shape','dtype','min','mean','max','nonzero','sample']\n",
    "    return pd.DataFrame(rows, columns=cols)\n",
    "\n",
    "# Interactive button to advance env by one step and refresh the table\n",
    "step_btn = widgets.Button(description='Step env', button_style='')\n",
    "out = widgets.Output()\n",
    "\n",
    "def _render_obs_summary():\n",
    "    df = summarize_observation(obs, sample_k=2)\n",
    "    with out:\n",
    "        out.clear_output()\n",
    "        show(\"section: Observation Summary\")\n",
    "        show(\"table\", df=df)\n",
    "\n",
    "def _on_step(_):\n",
    "    global obs\n",
    "    action = np.zeros(env.num_stations, dtype=np.float32)  # no-op step\n",
    "    obs, _, done, _, _ = env.step(action)\n",
    "    if done:\n",
    "        obs, _ = env.reset()\n",
    "    _render_obs_summary()\n",
    "\n",
    "_render_obs_summary()\n",
    "display(widgets.VBox([step_btn, out]))\n",
    "step_btn.on_click(_on_step)"
   ]
  },
  {
   "cell_type": "markdown",
   "id": "fa787278",
   "metadata": {},
   "source": [
    "### Action Space Overview\n",
    "\n",
    "Each action is a per-station normalized charging rate in [0, 1]. Before simulating, the environment may project actions to satisfy station demand limits and network safety constraints; it then scales them to Amps and applies EVSE-specific rounding to match hardware capabilities. Each 5-minute step converts current to energy, which drives rewards and state evolution.\n",
    "\n",
    "Implementation details:\n",
    "- Action space: `Box(low=0, high=1.0, shape=(num_stations,))` (per-station normalized rates).\n",
    "- Scaling to hardware: pilot signals are `action * ACTION_SCALE_FACTOR`, with `ACTION_SCALE_FACTOR = 32` Amps.\n",
    "- EVSE rounding: one EVSE type snaps to `{0, 8, 16, 24, 32}`; the other accepts `{0} ∪ {6, 7, 8, …, 32}` (signals under 6 A become 0).\n",
    "- Step timing and energy: each step is `TIMESTEP_DURATION = 5` minutes; `A_PERS_TO_KWH = (1/60) * (VOLTAGE/1000) * 5` converts Amp·period to kWh (`VOLTAGE = 208` V).\n",
    "- Feasibility projection (optional): if `project_action_in_env=True`, the env projects to the nearest feasible action that respects demand caps and the network magnitude constraint before simulation."
   ]
  },
  {
   "cell_type": "code",
   "execution_count": 5,
   "id": "9957fedc",
   "metadata": {},
   "outputs": [
    {
     "data": {
      "application/vnd.jupyter.widget-view+json": {
       "model_id": "38d3d98014ab4983a020b11f64da5b38",
       "version_major": 2,
       "version_minor": 0
      },
      "text/plain": [
       "VBox(children=(IntSlider(value=0, description='station', max=53), FloatSlider(value=0.5, description='action',…"
      ]
     },
     "metadata": {},
     "output_type": "display_data"
    }
   ],
   "source": [
    "import ipywidgets as widgets\n",
    "from IPython.display import display\n",
    "\n",
    "def compact_action_explorer():\n",
    "    station = widgets.IntSlider(description='station', min=0, max=env.num_stations-1, step=1, value=0)\n",
    "    aval = widgets.FloatSlider(description='action', min=0.0, max=1.0, step=0.05, value=0.5)\n",
    "    out = widgets.Output()\n",
    "\n",
    "    def summarize(st_idx: int, a: float):\n",
    "        # Build a test action vector with only one active station for clarity\n",
    "        act = np.zeros(env.num_stations, dtype=np.float32)\n",
    "        act[st_idx] = float(a)\n",
    "\n",
    "        # Hardware rounding behavior\n",
    "        evse_type = '6-32 flexible' if env.cn.min_pilot_signals[st_idx] == 6 else 'discrete 0/8/16/24/32'\n",
    "        amps_req = a * env.ACTION_SCALE_FACTOR\n",
    "        if evse_type == '6-32 flexible':\n",
    "            amps_hw = float(np.round(amps_req)) if amps_req >= 6 else 0.0\n",
    "        else:\n",
    "            amps_hw = float(np.round(amps_req / 8.0) * 8.0)\n",
    "\n",
    "        # Demand-limited cap (normalized)\n",
    "        demand_kwh = float(obs['demands'][st_idx])\n",
    "        cap_norm = float(min(1.0, demand_kwh / (env.A_PERS_TO_KWH * env.ACTION_SCALE_FACTOR))) if env.A_PERS_TO_KWH > 0 else 1.0\n",
    "        cap_amps = cap_norm * env.ACTION_SCALE_FACTOR\n",
    "\n",
    "        # Energy and power\n",
    "        power_kW = amps_hw * env.VOLTAGE / 1000.0\n",
    "        energy_per_step = power_kW * (env.TIMESTEP_DURATION/60.0)\n",
    "\n",
    "        # Constraint utilization estimate (no projection, single-station test)\n",
    "        phase_factor = np.exp(1j * np.deg2rad(env.cn._phase_angles))\n",
    "        A_tilde = env.cn.constraint_matrix * phase_factor[None, :]\n",
    "        agg_current = np.abs(A_tilde @ act) * env.ACTION_SCALE_FACTOR  # Amps per constraint\n",
    "        util = (agg_current / env.cn.magnitudes)\n",
    "        top_idx = int(np.argmax(util)) if util.size else 0\n",
    "        util_max = float(np.max(util)) if util.size else 0.0\n",
    "\n",
    "        # Output compact table\n",
    "        show(\"section: Action mapping summary\")\n",
    "        show_metrics({\n",
    "            'station': st_idx,\n",
    "            'input_action': round(a, 3),\n",
    "            'requested_current_A': round(amps_req, 3),\n",
    "            'hardware_type': evse_type,\n",
    "            'hardware_current_A': round(amps_hw, 3),\n",
    "            'power_kW': round(power_kW, 3),\n",
    "            'energy_kWh_per_step': round(energy_per_step, 4),\n",
    "            'demand_cap_norm': round(cap_norm, 3),\n",
    "            'demand_cap_A': round(cap_amps, 3),\n",
    "            'max_constraint_utilization': round(util_max, 3),\n",
    "            'most_stressed_constraint_idx': top_idx,\n",
    "        }, title='Action → pilot signal (no plots)')\n",
    "\n",
    "    def _on_change(_):\n",
    "        with out:\n",
    "            out.clear_output()\n",
    "            summarize(station.value, aval.value)\n",
    "\n",
    "    station.observe(_on_change, names='value')\n",
    "    aval.observe(_on_change, names='value')\n",
    "    _on_change(None)\n",
    "    display(widgets.VBox([station, aval, out]))\n",
    "\n",
    "compact_action_explorer()"
   ]
  },
  {
   "cell_type": "markdown",
   "id": "4d16e55c",
   "metadata": {},
   "source": [
    "## Section 2: Network Safety Constraints\n",
    "\n",
    "Physical equipment (feeders, transformers, etc.) caps the aggregate phasor current that the site can draw. Let $C\\in\\mathbb{R}^{m\\times n}$ be the constraint matrix, $\\theta\\in\\mathbb{R}^n$ the station phase angles (degrees), and $a\\in[0,1]^n$ the normalized action. Define the complex-weighted map\n",
    "\n",
    "$$\\tilde A \\;=\\; C\\;\\odot\\; e^{\\,i\\,\\mathrm{deg2rad}(\\theta)}\\, .$$\n",
    "\n",
    "The environment enforces the component-wise safety constraint\n",
    "\n",
    "$$\\big|\\,\\tilde A\\,a\\,\\big|\\;\\cdot\\;32\\ \\le\\ \\text{magnitudes}\\quad (\\text{in Amps}).$$\n",
    "\n",
    "What the next figure shows (and how to read it):\n",
    "- **The per-constraint current limits** (left): $\\text{magnitudes}$ — the per-constraint amp limits; short bars are most likely to bind first.\n",
    "- **The structure and strengths in the constraint matrix (i.e., coefficient heatmap)** (middle): $|C|\\equiv|\\tilde A|$. Darker cells mean station $j$ loads constraint $i$ more when $a_j=1$.\n",
    "- **The per-station phase angles used to compute aggregate magnitudes** (right): $\\theta$ for each station; phases matter when currents vector-sum as $|\\tilde A a|$."
   ]
  },
  {
   "cell_type": "code",
   "execution_count": 6,
   "id": "7a2fd996",
   "metadata": {},
   "outputs": [
    {
     "data": {
      "text/html": [
       "\n",
       "            <div style=\"margin:0;padding:2px 6px;display:inline-block;border-left:4px solid #4F46E5;background:#F8FAFC;border-radius:6px;line-height:1.1;\">\n",
       "              <span style=\"font-weight:600;color:#1F2937;\">Network Statistics</span>\n",
       "            </div>\n",
       "            "
      ],
      "text/plain": [
       "<IPython.core.display.HTML object>"
      ]
     },
     "metadata": {},
     "output_type": "display_data"
    },
    {
     "data": {
      "text/html": [
       "\n",
       "        <div style=\"margin:0;padding:6px 8px;border-radius:6px;border:1px solid #e5e7eb;background:#ffffff;display:block;line-height:1.15;\">\n",
       "          <div style=\"font-weight:700;color:#111827;margin-bottom:2px;\">Metrics</div>\n",
       "          <ul style=\"margin:0 0 0 10px;padding:0;color:#374151;list-style-position:inside;\"><li style='margin:2px 0;'><b>Total stations</b>: 54</li><li style='margin:2px 0;'><b>Constraint count</b>: 8</li><li style='margin:2px 0;'><b>Average limit (A)</b>: 243.9</li><li style='margin:2px 0;'><b>Tightest constraint (A)</b>: 80.0</li></ul>\n",
       "        </div>\n",
       "        "
      ],
      "text/plain": [
       "<IPython.core.display.HTML object>"
      ]
     },
     "metadata": {},
     "output_type": "display_data"
    },
    {
     "data": {
      "image/png": "[encoded data removed]",
      "text/plain": [
       "<Figure size 1500x500 with 4 Axes>"
      ]
     },
     "metadata": {},
     "output_type": "display_data"
    }
   ],
   "source": [
    "# Load the Caltech charging network\n",
    "# We instantiate the Caltech network via `site_str_to_site('caltech')`, \n",
    "# which returns an ACN-Sim `ChargingNetwork`.\n",
    "cn = site_str_to_site('caltech')\n",
    "\n",
    "# Visualize network topology and constraints\n",
    "# Constraint limits (`cn.magnitudes`): \n",
    "#   Each entry is a maximum allowable current (Amps) for a network constraint (e.g., feeder, transformer). These are the caps the env must respect.\n",
    "# Constraint matrix (`cn.constraint_matrix`): \n",
    "#   A linear map that aggregates per-station currents into each network constraint. Its absolute values highlight how strongly each station contributes to each constraint.\n",
    "# Station phase angles (`cn._phase_angles`): \n",
    "#   Electrical phases (degrees) for each station. The environment uses these to form complex phasors so aggregate current is computed as a magnitude, not a plain sum.\n",
    "\n",
    "idx_constraints = np.arange(len(cn.magnitudes))\n",
    "idx_angles = np.arange(len(cn._phase_angles))\n",
    "\n",
    "quick_plot({\n",
    "    'layout': '1x3', 'size': (15, 5), 'tight': True,\n",
    "    'plots': [\n",
    "        { 'type': 'bar', 'x': 'idx_constraints', 'y': 'limits', 'color': 'red', 'alpha': 0.6,\n",
    "          'title': f'Network Current Limits ({len(cn.magnitudes)} constraints)', 'xlabel': 'Constraint Index', 'ylabel': 'Maximum Current (A)' },\n",
    "        { 'type': 'heatmap', 'data': 'C_abs', 'cmap': 'YlOrRd', 'clabel': 'Coefficient Magnitude',\n",
    "          'title': 'Constraint Matrix Structure', 'xlabel': 'Station Index', 'ylabel': 'Constraint Index' },\n",
    "        { 'type': 'scatter', 'x': 'idx_angles', 'y': 'angles', 'alpha': 0.6, 'size': 30,\n",
    "          'title': 'Station Phase Angles', 'xlabel': 'Station Index', 'ylabel': 'Phase Angle (degrees)' },\n",
    "    ]\n",
    "}, {\n",
    "    'idx_constraints': idx_constraints,\n",
    "    'limits': cn.magnitudes,\n",
    "    'C_abs': np.abs(cn.constraint_matrix),\n",
    "    'idx_angles': idx_angles,\n",
    "    'angles': cn._phase_angles,\n",
    "})\n",
    "\n",
    "show(\"section: Network Statistics\")\n",
    "show_metrics({\n",
    "    'Total stations': env.num_stations,\n",
    "    'Constraint count': len(cn.magnitudes),\n",
    "    'Average limit (A)': f\"{np.mean(cn.magnitudes):.1f}\",\n",
    "    'Tightest constraint (A)': f\"{np.min(cn.magnitudes):.1f}\",\n",
    "})"
   ]
  },
  {
   "cell_type": "markdown",
   "id": "00a3079e",
   "metadata": {},
   "source": [
    "### CVXPY magnitude-constraint mini-demo\n",
    "\n",
    "Below we call the exact same constraint used by the environment, `envs/evcharging/env.py::magnitude_constraint`, inside CVXPY. We solve the minimal feasibility problem\n",
    "\n",
    "$$\\min_{\\,\\text{traj}\\ge0}\\ \\mathbf{1}^\\top\\text{traj}\\quad\\text{s.t.}\\quad \\big|\\tilde A\\,\\text{traj}\\big|\\cdot 32\\ \\le\\ \\text{magnitudes}.$$\n",
    "\n",
    "Because the objective minimizes the sum, the optimal solution is the all-zero action (any tiny nonzeros are numerical noise). In contrast, the environment’s projection finds the nearest feasible action to the policy’s proposal."
   ]
  },
  {
   "cell_type": "code",
   "execution_count": 7,
   "id": "40b7a5a6",
   "metadata": {},
   "outputs": [
    {
     "data": {
      "text/html": [
       "\n",
       "        <div style=\"font-family:ui-sans-serif, system-ui; margin:6px 0; padding:8px 10px; border-radius:6px; background:#f8fafc; color:#1f2937; border:1px solid rgba(0,0,0,0.05);\">\n",
       "          <span style=\"margin-right:6px;\">ℹ️</span>\n",
       "          <span>Solved with ECOS</span>\n",
       "        </div>\n",
       "        "
      ],
      "text/plain": [
       "<IPython.core.display.HTML object>"
      ]
     },
     "metadata": {},
     "output_type": "display_data"
    },
    {
     "data": {
      "text/html": [
       "\n",
       "            <div style=\"margin:0;padding:2px 6px;display:inline-block;border-left:4px solid #4F46E5;background:#F8FAFC;border-radius:6px;line-height:1.1;\">\n",
       "              <span style=\"font-weight:600;color:#1F2937;\">CVXPY Constraint Solver</span>\n",
       "            </div>\n",
       "            "
      ],
      "text/plain": [
       "<IPython.core.display.HTML object>"
      ]
     },
     "metadata": {},
     "output_type": "display_data"
    },
    {
     "data": {
      "text/html": [
       "\n",
       "        <div style=\"margin:0;padding:6px 8px;border-radius:6px;border:1px solid #e5e7eb;background:#ffffff;display:block;line-height:1.15;\">\n",
       "          <div style=\"font-weight:700;color:#111827;margin-bottom:2px;\">Metrics</div>\n",
       "          <ul style=\"margin:0 0 0 10px;padding:0;color:#374151;list-style-position:inside;\"><li style='margin:2px 0;'><b>Status</b>: optimal</li><li style='margin:2px 0;'><b>Feasible action (first 5)</b>: [1.164874840755735e-13, 1.164874840755735e-13, 1.164874840755735e-13, 1.164874840755735e-13, 1.164874840755735e-13]</li></ul>\n",
       "        </div>\n",
       "        "
      ],
      "text/plain": [
       "<IPython.core.display.HTML object>"
      ]
     },
     "metadata": {},
     "output_type": "display_data"
    }
   ],
   "source": [
    "if CVXPY_AVAILABLE:\n",
    "    import cvxpy as cp\n",
    "    from envs.evcharging.env import magnitude_constraint\n",
    "\n",
    "    num = env.num_stations\n",
    "    traj = cp.Variable((num, 1), nonneg=True)   # single-step action\n",
    "    constr = [magnitude_constraint(traj, env.cn)]\n",
    "    prob = cp.Problem(cp.Minimize(cp.sum(traj)), constr)\n",
    "    try:\n",
    "        status = solve_cvx_with_fallback(prob, verbose=True)\n",
    "        show(\"section: CVXPY Constraint Solver\")\n",
    "        show_metrics({\n",
    "            'Status': status,\n",
    "            'Feasible action (first 5)': traj.value[:5, 0].tolist() if traj.value is not None else 'N/A',\n",
    "        })\n",
    "    except RuntimeError as e:\n",
    "        show(\"warning: CVXPY solver failed: {error}\", error=str(e))\n",
    "else:\n",
    "    show(\"warning: CVXPY not installed, skipping constraint solver demo\")"
   ]
  },
  {
   "cell_type": "markdown",
   "id": "f3f2df9a",
   "metadata": {},
   "source": [
    "\n",
    "#### Interpretation\n",
    "- If Status is “optimal,” the constraint set is non-empty and the solver succeeded.\n",
    "- The reported feasible action is ~0 because we minimized $\\sum\\text{traj}$.\n",
    "- This is the same $\\tilde A$ and `magnitudes` shown in the visualization. To see non-zero safe capacity, change the objective to maximize $\\sum\\text{traj}$ with bounds $0\\le\\text{traj}\\le1$."
   ]
  },
  {
   "cell_type": "markdown",
   "id": "6c563209",
   "metadata": {},
   "source": [
    "### Interactive Constraint Violation Demo\n",
    "\n",
    "Why you might see no violations: at many timesteps only a few stations are active, so even large normalized actions don’t overload the smallest constraint. To make the mechanism obvious, the demo can either:\n",
    "\n",
    "- Seek a real timestep with nonzero demand and stress only active stations, or\n",
    "- Force a synthetic stress on the tightest constraint by energizing its top-k loading stations (ignores demand), then project to the nearest feasible action using the same constraint as above.\n"
   ]
  },
  {
   "cell_type": "code",
   "execution_count": 8,
   "id": "2cfa97d8",
   "metadata": {},
   "outputs": [
    {
     "data": {
      "text/html": [
       "\n",
       "            <div style=\"margin:0;padding:2px 6px;display:inline-block;border-left:4px solid #4F46E5;background:#F8FAFC;border-radius:6px;line-height:1.1;\">\n",
       "              <span style=\"font-weight:600;color:#1F2937;\">How to use this demo</span>\n",
       "            </div>\n",
       "            "
      ],
      "text/plain": [
       "<IPython.core.display.HTML object>"
      ]
     },
     "metadata": {},
     "output_type": "display_data"
    },
    {
     "data": {
      "text/html": [
       "\n",
       "            <div style=\"margin:8px 0;\">\n",
       "              <div style=\"font-weight:600;color:#111827;margin-bottom:4px;\">Parameters</div>\n",
       "              <ul style=\"margin:0 0 0 20px;color:#374151;\"><li style='margin:2px 0;'>aggression: scales requested action; &gt;1 over-requests before projection</li><li style='margin:2px 0;'>show_projection: when on, computes nearest feasible action via magnitude constraint + demand caps</li><li style='margin:2px 0;'>max_seek_steps: advance after reset to find a timestep with nonzero demand</li><li style='margin:2px 0;'>force_violation: ignore demand; energize top-k contributors to the tightest constraint</li><li style='margin:2px 0;'>k_loaders: number of stations to energize when force_violation is enabled</li></ul>\n",
       "            </div>\n",
       "            "
      ],
      "text/plain": [
       "<IPython.core.display.HTML object>"
      ]
     },
     "metadata": {},
     "output_type": "display_data"
    },
    {
     "data": {
      "application/vnd.jupyter.widget-view+json": {
       "model_id": "69569ea044b04aea84d81b9dcb86a416",
       "version_major": 2,
       "version_minor": 0
      },
      "text/plain": [
       "interactive(children=(FloatSlider(value=0.5, description='aggression', max=2.0), Checkbox(value=True, descript…"
      ]
     },
     "metadata": {},
     "output_type": "display_data"
    }
   ],
   "source": [
    "def constraint_violation_demo():\n",
    "    \"\"\"Interactive demonstration of constraint projection with options to force a violation.\"\"\"\n",
    "    \n",
    "    def test_action_level(aggression=0.5, show_projection=True, max_seek_steps=200, force_violation=False, k_loaders=8):\n",
    "        # Reset and seek a timestep that has any nonzero demand\n",
    "        obs, _ = env.reset(seed=42)\n",
    "        step = 0\n",
    "        while step < max_seek_steps and not np.any(obs['demands'] > 0):\n",
    "            obs, _, done, _, _ = env.step(np.zeros(env.num_stations, dtype=np.float32))\n",
    "            step += 1\n",
    "            if done:\n",
    "                obs, _ = env.reset()\n",
    "        \n",
    "        # Create a stressing requested action\n",
    "        if force_violation:\n",
    "            # Target the tightest constraint, turn on its top-k contributors\n",
    "            C = cn.constraint_matrix\n",
    "            tight_idx = int(np.argmin(cn.magnitudes))\n",
    "            top = np.argsort(np.abs(C[tight_idx]))[-int(max(1, k_loaders)) :]\n",
    "            test_action = np.zeros(env.num_stations, dtype=float)\n",
    "            test_action[top] = (0.5 + aggression)  # allow >1.0 to clearly stress before projection\n",
    "        else:\n",
    "            base_action = np.where(obs['demands'] > 0, 1.0, 0.0)\n",
    "            test_action = base_action * (0.5 + aggression)\n",
    "        \n",
    "        # Calculate aggregate currents\n",
    "        phase_factor = np.exp(1j * np.deg2rad(cn._phase_angles))\n",
    "        A_tilde = cn.constraint_matrix * phase_factor[None, :]\n",
    "        agg_current = np.abs(A_tilde @ test_action) * env.ACTION_SCALE_FACTOR\n",
    "        \n",
    "        # Get projected action if enabled (compute true projection with CVXPY if available)\n",
    "        if show_projection:\n",
    "            projected = np.clip(test_action, 0.0, 1.0)\n",
    "            try:\n",
    "                if CVXPY_AVAILABLE:\n",
    "                    import cvxpy as cp\n",
    "                    x = cp.Variable(env.num_stations, nonneg=True)\n",
    "                    # Demand-implied cap like env: cap = min(1, demand / (A_per_step * 32))\n",
    "                    cap = np.minimum(1.0, np.divide(obs['demands'], env.A_PERS_TO_KWH * env.ACTION_SCALE_FACTOR, out=np.ones_like(obs['demands']), where=(env.A_PERS_TO_KWH*env.ACTION_SCALE_FACTOR)>0))\n",
    "                    constr = [ x <= cap, magnitude_constraint(x, cn) ]\n",
    "                    prob = cp.Problem(cp.Minimize(cp.norm(x - test_action, 2)), constr)\n",
    "                    solve_cvx_with_fallback(prob, verbose=False)\n",
    "                    if x.value is not None:\n",
    "                        projected = np.asarray(x.value).reshape(-1)\n",
    "            except Exception as _e:\n",
    "                pass\n",
    "            agg_projected = np.abs(A_tilde @ projected) * env.ACTION_SCALE_FACTOR\n",
    "        else:\n",
    "            projected = test_action\n",
    "            agg_projected = agg_current\n",
    "        \n",
    "        # Find violations\n",
    "        violations = agg_current > cn.magnitudes\n",
    "        violation_indices = np.where(violations)[0]\n",
    "        violation_values = agg_current[violations] if any(violations) else []\n",
    "        \n",
    "        # Prepare data\n",
    "        x_stations = np.arange(env.num_stations)\n",
    "        x_constraints = np.arange(len(cn.magnitudes))\n",
    "        \n",
    "        # Use quick_plot\n",
    "        quick_plot({\n",
    "            'layout': '1x2',\n",
    "            'size': (14, 5),\n",
    "            'plots': [\n",
    "                {'type': 'bar_multi',\n",
    "                 'bars': [\n",
    "                     {'x': x_stations, 'y': test_action, 'offset': -0.175, 'width': 0.35,\n",
    "                      'label': 'Requested', 'alpha': 0.7, 'color': 'orange'},\n",
    "                     {'x': x_stations, 'y': projected, 'offset': 0.175, 'width': 0.35,\n",
    "                      'label': 'Projected', 'alpha': 0.7, 'color': 'green'}\n",
    "                 ],\n",
    "                 'title': f'Action Projection (Aggression: {aggression:.1f}, step={step})',\n",
    "                 'xlabel': 'Station ID', 'ylabel': 'Normalized Action',\n",
    "                 'legend': True},\n",
    "                {'type': 'bar_multi',\n",
    "                 'bars': [\n",
    "                     {'x': x_constraints, 'y': cn.magnitudes, 'offset': 0, 'width': 0.8,\n",
    "                      'alpha': 0.3, 'label': 'Limits', 'color': 'red'},\n",
    "                     {'x': x_constraints, 'y': agg_current, 'offset': -0.2, 'width': 0.4,\n",
    "                      'alpha': 0.7, 'label': 'Requested', 'color': 'orange'},\n",
    "                     {'x': x_constraints, 'y': agg_projected, 'offset': 0.2, 'width': 0.4,\n",
    "                      'alpha': 0.7, 'label': 'Projected', 'color': 'green'}\n",
    "                 ],\n",
    "                 'overlay_markers': {'x': violation_indices, 'y': violation_values,\n",
    "                                    'color': 'red', 'marker': 'x', 'size': 100,\n",
    "                                    'linewidth': 3, 'label': 'Violations'} if any(violations) else None,\n",
    "                 'title': 'Aggregate Current vs Limits',\n",
    "                 'xlabel': 'Constraint Index', 'ylabel': 'Current (A)',\n",
    "                 'legend': True}\n",
    "            ]\n",
    "        })\n",
    "        \n",
    "        # Report statistics using show\n",
    "        total_violation = np.sum(np.maximum(0, agg_current - cn.magnitudes))\n",
    "        total_saved = np.sum(np.maximum(0, agg_current - agg_projected))\n",
    "        \n",
    "        show(\"section: Violation Statistics\")\n",
    "        show_metrics({\n",
    "            'Total violation (before)': f\"{total_violation:.1f} A\",\n",
    "            'Current saved by projection': f\"{total_saved:.1f} A\",\n",
    "            'Constraints violated': f\"{np.sum(violations)} / {len(cn.magnitudes)}\"\n",
    "        })\n",
    "    \n",
    "    # Inline instructions (compact) shown above the interactive widgets/plots\n",
    "    show(\"section: How to use this demo\")\n",
    "    show(\"list: Parameters\",\n",
    "         items=[\n",
    "             \"aggression: scales requested action; >1 over-requests before projection\",\n",
    "             \"show_projection: when on, computes nearest feasible action via magnitude constraint + demand caps\",\n",
    "             \"max_seek_steps: advance after reset to find a timestep with nonzero demand\",\n",
    "             \"force_violation: ignore demand; energize top-k contributors to the tightest constraint\",\n",
    "             \"k_loaders: number of stations to energize when force_violation is enabled\",\n",
    "         ])\n",
    "\n",
    "    interact(test_action_level, \n",
    "             aggression=(0.0, 2.0, 0.1),\n",
    "             show_projection=True,\n",
    "             max_seek_steps=(0, 500, 10),\n",
    "             force_violation=False,\n",
    "             k_loaders=(1, 32, 1))\n",
    "\n",
    "constraint_violation_demo()"
   ]
  },
  {
   "cell_type": "markdown",
   "id": "c2c746e5",
   "metadata": {},
   "source": [
    "## Section 3: Reward Engineering\n",
    "\n",
    "We use a simple additive reward that values delivered energy (revenue) while accounting for carbon costs. Safety is tracked but not added to the reward in this tutorial (we visualize it separately). At each timestep $t$, the reward combines three components:\n",
    "\n",
    "$$\n",
    "r_t \\;=\\; \\underbrace{\\alpha\\,\\sum_j I_{t,j}}_{\\text{profit}}\\;\\; -\\;\\; \\underbrace{\\beta\\,\\sum_j I_{t,j}\\,\\text{MOER}_t}_{\\text{carbon cost}}\\,,\\quad\\text{with } I_{t,j}\\text{ in Amps.}\n",
    "$$\n",
    "\n",
    "Here $\\alpha =$ `EVChargingEnv.PROFIT_FACTOR` and $\\beta =$ `EVChargingEnv.CARBON_COST_FACTOR`. The per-episode return is $R=\\sum_t r_t$. Network constraint excess is tracked as an auxiliary series (not subtracted in $r_t$ here):\n",
    "\n",
    "$$\n",
    "\\text{excess}_t\\;=\\;\\max\\bigl\\{0,\\;\\|\\tilde A\\,a_t\\|\\cdot 32\\; -\\; \\text{magnitudes}\\bigr\\}_1\\,.\n",
    "$$\n",
    "\n",
    "We also report a true satisfaction metric computed from the simulator:\n",
    "\n",
    "$$\n",
    "\\text{satisfaction}\\;=\\;\\frac{\\text{delivered (kWh)}}{\\max(\\text{requested (kWh)},\\,\\varepsilon)}\\,.\n",
    "$$\n",
    "\n",
    "Notes:\n",
    "- Profit and carbon use the actual charging current delivered each step; units are normalized to dollars via environment constants.\n",
    "- Constraint excess is still computed every step and displayed, but not penalized in $r_t$ in this tutorial.\n",
    "- True satisfaction comes from simulator logs and avoids the pitfalls of snapshot-based proxies.\n"
   ]
  },
  {
   "cell_type": "markdown",
   "id": "14ad7965",
   "metadata": {},
   "source": [
    "### Reward Component Analysis\n"
   ]
  },
  {
   "cell_type": "code",
   "execution_count": 9,
   "id": "4404b267",
   "metadata": {},
   "outputs": [
    {
     "data": {
      "text/html": [
       "\n",
       "        <div style=\"font-family:ui-sans-serif, system-ui; margin:6px 0; padding:8px 10px; border-radius:6px; background:#f8fafc; color:#1f2937; border:1px solid rgba(0,0,0,0.05);\">\n",
       "          <span style=\"margin-right:6px;\">ℹ️</span>\n",
       "          <span>Evaluating episode 1/1</span>\n",
       "        </div>\n",
       "        "
      ],
      "text/plain": [
       "<IPython.core.display.HTML object>"
      ]
     },
     "metadata": {},
     "output_type": "display_data"
    },
    {
     "data": {
      "text/html": [
       "\n",
       "            <div style=\"margin:0;padding:6px 8px;border-radius:6px;line-height:1.1;\n",
       "                        background:linear-gradient(180deg,#ffffff, #ffffff);border:1px solid #e5e7eb;display:inline-block;\">\n",
       "              <div style=\"font-weight:700;font-size:2.20rem;color:#111827;\">\n",
       "                Reward Analysis Summary\n",
       "              </div>\n",
       "            </div>\n",
       "            "
      ],
      "text/plain": [
       "<IPython.core.display.HTML object>"
      ]
     },
     "metadata": {},
     "output_type": "display_data"
    },
    {
     "data": {
      "text/html": [
       "\n",
       "        <div style=\"margin:0;padding:6px 8px;border-radius:6px;border:1px solid #e5e7eb;background:#ffffff;display:block;line-height:1.15;\">\n",
       "          <div style=\"font-weight:700;color:#111827;margin-bottom:2px;\">Metrics</div>\n",
       "          <ul style=\"margin:0 0 0 10px;padding:0;color:#374151;list-style-position:inside;\"><li style='margin:2px 0;'><b>Total return</b>: $1.63</li><li style='margin:2px 0;'><b>Profit</b>: $341.82</li><li style='margin:2px 0;'><b>Carbon cost</b>: $65.78</li><li style='margin:2px 0;'><b>Violations</b>: $0.00</li><li style='margin:2px 0;'><b>True satisfaction</b>: 80.4%</li><li style='margin:2px 0;'><b>Delivered energy (kWh)</b>: 67.92</li><li style='margin:2px 0;'><b>Requested energy (kWh)</b>: 84.47</li></ul>\n",
       "        </div>\n",
       "        "
      ],
      "text/plain": [
       "<IPython.core.display.HTML object>"
      ]
     },
     "metadata": {},
     "output_type": "display_data"
    },
    {
     "data": {
      "text/html": [
       "\n",
       "            <div style=\"margin:0;padding:2px 6px;display:inline-block;border-left:4px solid #4F46E5;background:#F8FAFC;border-radius:6px;line-height:1.1;\">\n",
       "              <span style=\"font-weight:600;color:#1F2937;\">Behavior Fingerprint</span>\n",
       "            </div>\n",
       "            "
      ],
      "text/plain": [
       "<IPython.core.display.HTML object>"
      ]
     },
     "metadata": {},
     "output_type": "display_data"
    },
    {
     "data": {
      "text/html": [
       "\n",
       "        <div style=\"margin:0;padding:6px 8px;border-radius:6px;border:1px solid #e5e7eb;background:#ffffff;display:block;line-height:1.15;\">\n",
       "          <div style=\"font-weight:700;color:#111827;margin-bottom:2px;\">Metrics</div>\n",
       "          <ul style=\"margin:0 0 0 10px;padding:0;color:#374151;list-style-position:inside;\"><li style='margin:2px 0;'><b>action_stats</b>: <ul style='margin:2px 0 0 14px;padding:0;'><li style='margin:2px 0;'><b>mean</b>: 0.003</li><li style='margin:2px 0;'><b>std</b>: 0.058</li><li style='margin:2px 0;'><b>min</b>: 0.000</li><li style='margin:2px 0;'><b>max</b>: 1.000</li><li style='margin:2px 0;'><b>saturation_low</b>: 0.996</li><li style='margin:2px 0;'><b>saturation_high</b>: 0.003</li></ul></li><li style='margin:2px 0;'><b>action_distribution</b>: <ul style='margin:2px 0 0 14px;padding:0;'><li style='margin:2px 0;'><b>histogram</b>: [5380, 0, 0, 0, 0, 0, 0, 0, 0, 0, 0, 0, 0, 4, 0, 0, 0, 0, 0, 16]</li><li style='margin:2px 0;'><b>bins</b>: [0.0, 0.05, 0.1, 0.15000000000000002, 0.2, 0.25, 0.30000000000000004, 0.35000000000000003, 0.4, 0.45, 0.5, 0.55, 0.6000000000000001, 0.65, 0.7000000000000001, 0.75, 0.8, 0.8500000000000001, 0.9, 0.9500000000000001, 1.0]</li></ul></li><li style='margin:2px 0;'><b>station_correlation</b>: <ul style='margin:2px 0 0 14px;padding:0;'><li style='margin:2px 0;'><b>mean_correlation</b>: nan</li><li style='margin:2px 0;'><b>max_correlation</b>: nan</li></ul></li></ul>\n",
       "        </div>\n",
       "        "
      ],
      "text/plain": [
       "<IPython.core.display.HTML object>"
      ]
     },
     "metadata": {},
     "output_type": "display_data"
    },
    {
     "data": {
      "text/html": [
       "\n",
       "        <div style=\"font-family:ui-sans-serif, system-ui; margin:6px 0; padding:8px 10px; border-radius:6px; background:#ecfdf5; color:#065f46; border:1px solid rgba(0,0,0,0.05);\">\n",
       "          <span style=\"margin-right:6px;\">🍺</span>\n",
       "          <span>Evaluation saved to /Users/ming/Dropbox/CodingProjects/GridGuardian-RL/tutorials/utils/cache/rl/tutorial01_adaptive_policy_evaluation.json</span>\n",
       "        </div>\n",
       "        "
      ],
      "text/plain": [
       "<IPython.core.display.HTML object>"
      ]
     },
     "metadata": {},
     "output_type": "display_data"
    },
    {
     "data": {
      "text/html": [
       "\n",
       "        <div style=\"font-family:ui-sans-serif, system-ui; margin:6px 0; padding:8px 10px; border-radius:6px; background:#ecfdf5; color:#065f46; border:1px solid rgba(0,0,0,0.05);\">\n",
       "          <span style=\"margin-right:6px;\">🍺</span>\n",
       "          <span>Summary saved to /Users/ming/Dropbox/CodingProjects/GridGuardian-RL/tutorials/utils/cache/rl/tutorial01_adaptive_policy_summary.csv</span>\n",
       "        </div>\n",
       "        "
      ],
      "text/plain": [
       "<IPython.core.display.HTML object>"
      ]
     },
     "metadata": {},
     "output_type": "display_data"
    }
   ],
   "source": [
    "def reward_component_analysis():\n",
    "    \"\"\"Reward analysis using standardized utilities\"\"\"\n",
    "    \n",
    "    def adaptive_policy(obs):\n",
    "        moer = obs['prev_moer'][0]\n",
    "        if moer < 0.3:\n",
    "            return np.where(obs['demands'] > 0, 1.0, 0.0)\n",
    "        elif moer < 0.7:\n",
    "            return np.where(obs['demands'] > 10, 0.7, 0.0)\n",
    "        else:\n",
    "            return np.where(obs['est_departures'] < 20, 0.3, 0.0)\n",
    "    \n",
    "    # Evaluate with comprehensive tracking\n",
    "    mean_ret, std_ret, mean_cost, metrics = evaluate_policy(\n",
    "        policy_fn=adaptive_policy,\n",
    "        make_env_fn=lambda **kw: EVChargingEnv(gen, project_action_in_env=True, **kw),\n",
    "        episodes=1,\n",
    "        horizon=288,\n",
    "        track_metrics=['components', 'satisfaction', 'actions', 'trajectory'],\n",
    "        verbose=True\n",
    "    )\n",
    "    \n",
    "    # Get behavior fingerprint\n",
    "    fingerprint = policy_behavior_fingerprint(\n",
    "        policy_fn=adaptive_policy,\n",
    "        env_fn=lambda: EVChargingEnv(gen, project_action_in_env=True),\n",
    "        n_samples=100\n",
    "    )\n",
    "    \n",
    "    # Formatted summary display\n",
    "    show(\"header: Reward Analysis Summary\")\n",
    "    show_metrics({\n",
    "        'Total return': f'${mean_ret:.2f}',\n",
    "        'Profit': f'${metrics.get(\"profit_mean\", 0):.2f}',\n",
    "        'Carbon cost': f'${metrics.get(\"carbon_cost_mean\", 0):.2f}',\n",
    "        'Violations': f'${mean_cost:.2f}',\n",
    "        'True satisfaction': f'{metrics.get(\"true_satisfaction_mean\", 0)*100:.1f}%',\n",
    "        'Delivered energy (kWh)': f'{metrics.get(\"delivered_kwh_mean\", 0):.2f}',\n",
    "        'Requested energy (kWh)': f'{metrics.get(\"requested_kwh_mean\", 0):.2f}',\n",
    "    })\n",
    "    show(\"section: Behavior Fingerprint\")\n",
    "    show_metrics(fingerprint)\n",
    "    \n",
    "    # Save for cross-tutorial comparison\n",
    "    save_evaluation_results(\n",
    "        tag=\"tutorial01_adaptive_policy\",\n",
    "        policy_name=\"MOER-aware Adaptive\",\n",
    "        mean_return=mean_ret,\n",
    "        std_return=std_ret,\n",
    "        mean_cost=mean_cost,\n",
    "        metrics=metrics,\n",
    "        env_config={'site': 'caltech', 'horizon': 288},\n",
    "        notes=\"2-hour reward component analysis\"\n",
    "    )\n",
    "\n",
    "reward_component_analysis()"
   ]
  },
  {
   "cell_type": "markdown",
   "id": "73ea3476",
   "metadata": {},
   "source": [
    "### Configurable Multi-Objective Reward\n",
    "\n",
    "Experiment with reward weights interactively and see how the scalar objective changes over time. We recompute a weighted objective from the per-step reward components returned by the environment via `info['reward_breakdown']` using the shared utilities.\n",
    "\n",
    "#### Why this matters\n",
    "\n",
    "When we have multiple objectives (e.g., profit, carbon, and violations), we usually aggregate them into a single score so a policy can be compared or optimized. A common approach is a weighted sum at each step:\n",
    "\n",
    "$J_t = w_p\\, r^{profit}_t \\; - \\; w_c\\, r^{carbon}_t \\; - \\; w_v\\, r^{viol}_t.$\n",
    "\n",
    "Changing the weights changes what “good” means. This cell helps you build intuition for that trade-off: you can adjust $(w_p, w_c, w_v)$ and see, on the same underlying trajectory, how the scalarized score $J_t$ moves relative to its components.\n",
    "\n",
    "#### How to read the chart\n",
    "\n",
    "- The left axis shows the per-step components $r^{profit}_t, r^{carbon}_t, r^{viol}_t$.\n",
    "- The right axis shows the weighted scalar $J_t$ computed with your current weights.\n",
    "- Move the sliders to see how emphasizing one objective (e.g., larger $w_c$) pulls the overall score up or down where that component is large.\n",
    "\n",
    "*Notes:* We keep the time series fixed (per horizon and seed) so weight changes only affect the aggregation, not the underlying data. We also start from an “active” period and display per-step values to make trends visible."
   ]
  },
  {
   "cell_type": "code",
   "execution_count": 10,
   "id": "9c77e1ce",
   "metadata": {
    "lines_to_next_cell": 1
   },
   "outputs": [
    {
     "data": {
      "application/vnd.jupyter.widget-view+json": {
       "model_id": "7f07c23e75434a4aac233d50ee126001",
       "version_major": 2,
       "version_minor": 0
      },
      "text/plain": [
       "interactive(children=(FloatSlider(value=1.0, description='w_profit', max=2.0, step=0.05), FloatSlider(value=1.…"
      ]
     },
     "metadata": {},
     "output_type": "display_data"
    }
   ],
   "source": [
    "import numpy as np\n",
    "from ipywidgets import interact, FloatSlider, IntSlider\n",
    "\n",
    "from tutorials.utils import create_ev_env, show, show_metrics, standardize_trajectory_costs, seek_to_active, quick_plot\n",
    "\n",
    "_reward_demo_cache = {'horizon': None, 'seed': None, 'profit': None, 'carbon': None, 'viol': None}\n",
    "\n",
    "def configurable_reward_demo(w_profit=1.0, w_carbon=1.0, w_violation=1.0, horizon=96, seed=0):\n",
    "    \"\"\"Interactive demo: recompute a scalarized objective J_t = w_p*profit - w_c*carbon - w_v*violation.\"\"\"\n",
    "\n",
    "    # The baseline policy is a simple greedy rule by demand (projected by the environment as needed).\n",
    "    def baseline_policy(obs):\n",
    "        if isinstance(obs, dict) and 'demands' in obs:\n",
    "            return np.where(obs['demands'] > 0, 0.8, 0.0)\n",
    "        # Fallback if observation is flattened\n",
    "        return np.zeros(1, dtype=np.float32)\n",
    "\n",
    "    # Cache a single rollout per horizon so weight changes don't resample the env\n",
    "    global _reward_demo_cache\n",
    "    if (\n",
    "        _reward_demo_cache.get('horizon') != int(horizon)\n",
    "        or _reward_demo_cache.get('seed') != int(seed)\n",
    "        or _reward_demo_cache.get('profit') is None\n",
    "    ):\n",
    "        env = create_ev_env(flatten=False, dense_mode=TUTORIAL_DENSE, density_multiplier=EVAL_CFG.density_multiplier)\n",
    "        try:\n",
    "            obs, info = env.reset(seed=int(seed))\n",
    "            # Before collecting data, we “seek to active”:\n",
    "            #   - Find the first timestep where total positive demand is nonzero: $\\sum_i \\max(d_{t,i}, 0) > 0$.\n",
    "            #   - Optionally ensure the total demand changes within a short lookahead to avoid flat segments: $\\big|\\sum_i \\max(d_{t+k,i}, 0) - \\sum_i \\max(d_{t,i}, 0)\\big| > \\varepsilon$.\n",
    "            obs, info, _ = seek_to_active(env, key='demands', max_seek=200, ensure_change=True, lookahead=20, reset_seed=int(seed))\n",
    "            profit_list, carbon_list, viol_list = [], [], []\n",
    "            t = 0\n",
    "            done = False\n",
    "            while t < int(horizon) and not done:\n",
    "                action = baseline_policy(obs)\n",
    "                obs_next, r, term, trunc, info = env.step(action)\n",
    "                rb = info.get('reward_breakdown', {}) if isinstance(info, dict) else {}\n",
    "                profit_list.append(float(rb.get('profit', 0.0)))\n",
    "                carbon_list.append(float(rb.get('carbon_cost', 0.0)))\n",
    "                viol_list.append(float(rb.get('excess_charge', 0.0)))\n",
    "                obs = obs_next\n",
    "                done = bool(term) or bool(trunc)\n",
    "                t += 1\n",
    "            traj = {\n",
    "                'profit': np.array(profit_list, dtype=float),\n",
    "                'carbon_cost': np.array(carbon_list, dtype=float),\n",
    "                'excess_charge': np.array(viol_list, dtype=float),\n",
    "            }\n",
    "            traj = standardize_trajectory_costs(traj)\n",
    "        finally:\n",
    "            try:\n",
    "                env.close()\n",
    "            except Exception:\n",
    "                pass\n",
    "        \n",
    "        # To keep the trajectory fixed while you vary weights, the cell caches a single rollout per (horizon, seed). \n",
    "        # Changing $w_p, w_c, w_v$ recomputes $J_t$ without resampling. Changing the seed or horizon triggers a new rollout.\n",
    "        _reward_demo_cache = {\n",
    "            'horizon': int(horizon),\n",
    "            'seed': int(seed),\n",
    "            'profit': traj['profit'],\n",
    "            'carbon': traj['carbon_cost'],\n",
    "            'viol': traj['excess_charge'],\n",
    "        }\n",
    "\n",
    "    profit = np.asarray(_reward_demo_cache['profit'], dtype=float)\n",
    "    carbon = np.asarray(_reward_demo_cache['carbon'], dtype=float)\n",
    "    viol = np.asarray(_reward_demo_cache['viol'], dtype=float)\n",
    "    T = min(len(profit), len(carbon), len(viol))\n",
    "    if T == 0:\n",
    "        show(\"warning: No trajectory available to compute weighted reward. Try increasing horizon or seeking to an active timestep.\")\n",
    "    else:\n",
    "        profit = profit[:T]\n",
    "        carbon = carbon[:T]\n",
    "        viol = viol[:T]\n",
    "        J_t = w_profit * profit - w_carbon * carbon - w_violation * viol\n",
    "\n",
    "        # Summary metrics\n",
    "        show(\"section: Configurable Reward Summary\")\n",
    "        show_metrics({\n",
    "            'Horizon (steps)': int(T),\n",
    "            'Sum(J)': float(np.sum(J_t)),\n",
    "            'Profit sum': float(np.sum(profit)),\n",
    "            'Carbon cost sum': float(np.sum(carbon)),\n",
    "            'Violation cost sum': float(np.sum(viol)),\n",
    "        })\n",
    "        # Visualization: dual y-axis via quick_plot (components on left, J_t on right)\n",
    "        t = np.arange(T)\n",
    "        quick_plot({\n",
    "            'type': 'line',\n",
    "            'x': t,\n",
    "            'y': {\n",
    "                'profit': profit,\n",
    "                'carbon_cost': carbon,\n",
    "                'excess_charge': viol,\n",
    "            },\n",
    "            'legend': True,\n",
    "            'xlabel': 'timestep',\n",
    "            'ylabel': 'components',\n",
    "            'size': (12, 5),\n",
    "            'grid': True,\n",
    "            'twin_y': {\n",
    "                'type': 'line',\n",
    "                'x': t,\n",
    "                'y': J_t,\n",
    "                'label': 'J_t',\n",
    "                'color': 'blue',\n",
    "                'ylabel': 'weighted objective (J_t)',\n",
    "                'legend': True,\n",
    "                'legend_loc': 'upper right',\n",
    "            },\n",
    "        })\n",
    "\n",
    "w = interact(\n",
    "    configurable_reward_demo,\n",
    "    w_profit=FloatSlider(value=1.0, min=0.0, max=2.0, step=0.05, description='w_profit'),\n",
    "    w_carbon=FloatSlider(value=1.0, min=0.0, max=2.0, step=0.05, description='w_carbon'),\n",
    "    w_violation=FloatSlider(value=1.0, min=0.0, max=2.0, step=0.05, description='w_violation'),\n",
    "    horizon=IntSlider(value=96, min=24, max=288, step=12, description='horizon'),\n",
    "    seed=IntSlider(value=0, min=0, max=9999, step=1, description='seed')\n",
    ")"
   ]
  },
  {
   "cell_type": "markdown",
   "id": "7e4bf031",
   "metadata": {},
   "source": [
    "### Action Distribution Analysis\n",
    "- We control an EV charging network with `N` stations over timesteps `t = 0, 1, ..., T-1`.\n",
    "- At each `t`, the policy outputs an action vector\n",
    "  $$\n",
    "  \\mathbf{a}_t \\in [0,1]^N, \\quad \\mathbf{a}_t = (a_{t,1}, \\dots, a_{t,N}),\n",
    "  $$\n",
    "  where each component is a normalized pilot signal (0 = no charge, 1 = max).\n",
    "\n",
    "- We analyze “saturation” using two thresholds\n",
    "  $$\n",
    "  \\tau_{\\mathrm{L}} \\in [0,1], \\quad \\tau_{\\mathrm{H}} \\in [0,1], \\quad \\text{with } \\tau_{\\mathrm{L}} \\ll \\tau_{\\mathrm{H}},\n",
    "  $$\n",
    "  typically $\\tau_{\\mathrm{L}} = 0.001$ and $\\tau_{\\mathrm{H}} = 0.999$.\n",
    "\n",
    "- We focus on “active” periods where demand is nonzero. Operationally, we seek a start index $t_0$ with nontrivial demand and then roll out for $H$ steps. Note: the seek horizon `max_seek` bounds only the search phase, not the subsequent rollout horizon `H`.\n",
    "\n",
    "\n",
    "We flatten all actions across time and stations:\n",
    "$$\n",
    "\\mathcal{A} \\;=\\; \\{\\, a_{t,i} \\mid t=0,\\dots,T-1,\\; i=1,\\dots,N \\,\\}.\n",
    "$$\n",
    "\n",
    "From $\\mathcal{A}$ we compute:\n",
    "- Mean and variance: $\\mu = \\mathbb{E}[a]$, $\\sigma^2 = \\mathrm{Var}(a)$,\n",
    "- Quantiles (e.g., median, IQR),\n",
    "- Saturation rates:\n",
    "  $$\n",
    "  s_{\\mathrm{low}} \\;=\\; \\frac{1}{TN}\\sum_{t=0}^{T-1}\\sum_{i=1}^{N}\\mathbf{1}\\{a_{t,i} \\le \\tau_{\\mathrm{L}}\\}, \\quad\n",
    "  s_{\\mathrm{high}} \\;=\\; \\frac{1}{TN}\\sum_{t=0}^{T-1}\\sum_{i=1}^{N}\\mathbf{1}\\{a_{t,i} \\ge \\tau_{\\mathrm{H}}\\}.\n",
    "  $$\n",
    "\n",
    "**Interpretation:**\n",
    "- Large $s_{\\mathrm{low}}$ implies the policy often outputs (near) zero. In EV charging, that means “turn off” decisions are frequent.\n",
    "- Large $s_{\\mathrm{high}}$ implies frequent max charging signals.\n",
    "- The histogram/KDE visualize the empirical distribution of $\\mathcal{A}$; the saturation panel summarizes how often the policy is at the extremes.\n"
   ]
  },
  {
   "cell_type": "code",
   "execution_count": 11,
   "id": "db36a794",
   "metadata": {},
   "outputs": [
    {
     "data": {
      "image/png": "[encoded data removed]",
      "text/plain": [
       "<Figure size 1500x400 with 3 Axes>"
      ]
     },
     "metadata": {},
     "output_type": "display_data"
    },
    {
     "data": {
      "text/html": [
       "\n",
       "            <div style=\"margin:0;padding:2px 6px;display:inline-block;border-left:4px solid #4F46E5;background:#F8FAFC;border-radius:6px;line-height:1.1;\">\n",
       "              <span style=\"font-weight:600;color:#1F2937;\">Action Distribution Contrast — Summary</span>\n",
       "            </div>\n",
       "            "
      ],
      "text/plain": [
       "<IPython.core.display.HTML object>"
      ]
     },
     "metadata": {},
     "output_type": "display_data"
    },
    {
     "data": {
      "text/html": [
       "\n",
       "        <div style=\"margin:0;padding:6px 8px;border-radius:6px;border:1px solid #e5e7eb;background:#ffffff;display:block;line-height:1.15;\">\n",
       "          <div style=\"font-weight:700;color:#111827;margin-bottom:2px;\">Metrics</div>\n",
       "          <ul style=\"margin:0 0 0 10px;padding:0;color:#374151;list-style-position:inside;\"><li style='margin:2px 0;'><b>Sparse — % zeros</b>: 98.8%</li><li style='margin:2px 0;'><b>Sparse — mean action</b>: 0.010</li><li style='margin:2px 0;'><b>Active — % zeros</b>: 45.0%</li><li style='margin:2px 0;'><b>Active — mean action</b>: 0.440</li><li style='margin:2px 0;'><b>Activity increase (mean)</b>: 46.0x</li></ul>\n",
       "        </div>\n",
       "        "
      ],
      "text/plain": [
       "<IPython.core.display.HTML object>"
      ]
     },
     "metadata": {},
     "output_type": "display_data"
    },
    {
     "data": {
      "text/html": [
       "\n",
       "        <div style=\"font-family:ui-sans-serif, system-ui; margin:6px 0; padding:8px 10px; border-radius:6px; background:#ecfdf5; color:#065f46; border:1px solid rgba(0,0,0,0.05);\">\n",
       "          <span style=\"margin-right:6px;\">🍺</span>\n",
       "          <span>Evaluation saved to /Users/ming/Dropbox/CodingProjects/GridGuardian-RL/tutorials/utils/cache/rl/action_distribution_contrast_evaluation.json</span>\n",
       "        </div>\n",
       "        "
      ],
      "text/plain": [
       "<IPython.core.display.HTML object>"
      ]
     },
     "metadata": {},
     "output_type": "display_data"
    },
    {
     "data": {
      "text/html": [
       "\n",
       "        <div style=\"font-family:ui-sans-serif, system-ui; margin:6px 0; padding:8px 10px; border-radius:6px; background:#ecfdf5; color:#065f46; border:1px solid rgba(0,0,0,0.05);\">\n",
       "          <span style=\"margin-right:6px;\">🍺</span>\n",
       "          <span>Summary saved to /Users/ming/Dropbox/CodingProjects/GridGuardian-RL/tutorials/utils/cache/rl/action_distribution_contrast_summary.csv</span>\n",
       "        </div>\n",
       "        "
      ],
      "text/plain": [
       "<IPython.core.display.HTML object>"
      ]
     },
     "metadata": {},
     "output_type": "display_data"
    }
   ],
   "source": [
    "# Contrast action distributions between sparse vs active periods\n",
    "def action_distribution_contrast():\n",
    "    \"\"\"Compare action distributions: sparse (normal start) vs active (after seek).\"\"\"\n",
    "    from tutorials.utils import wrap_policy, extract_from_obs, evaluate_policy, create_ev_env, seek_to_active, save_evaluation_results\n",
    "\n",
    "    # Greedy-by-demand baseline, using safe extraction\n",
    "    greedy_policy = wrap_policy(lambda obs: np.where(extract_from_obs(obs, 'demands') > 0, 0.8, 0.0))\n",
    "\n",
    "    # 1) Sparse period (normal reset)\n",
    "    mean_ret_s, std_ret_s, mean_cost_s, metrics_sparse = evaluate_policy(\n",
    "        policy_fn=greedy_policy,\n",
    "        make_env_fn=lambda **kw: create_ev_env(flatten=False, dense_mode=TUTORIAL_DENSE, density_multiplier=EVAL_CFG.density_multiplier, **kw),\n",
    "        episodes=1,\n",
    "        horizon=96,\n",
    "        track_metrics=['actions'],\n",
    "        verbose=False,\n",
    "    )\n",
    "    sparse_actions = np.asarray(metrics_sparse['actions_per_episode'][0]).reshape(-1)\n",
    "\n",
    "    # 2) Active period (after seek)\n",
    "    class ActiveStartWrapper:\n",
    "        def __init__(self, base_env):\n",
    "            self.env = base_env\n",
    "        def reset(self, seed=None):\n",
    "            obs, info = self.env.reset(seed=seed)\n",
    "            obs, info, _ = seek_to_active(self.env, key='demands', max_seek=400, ensure_change=True)\n",
    "            return obs, info\n",
    "        def step(self, action):\n",
    "            return self.env.step(action)\n",
    "        def __getattr__(self, name):\n",
    "            return getattr(self.env, name)\n",
    "\n",
    "    def make_active_env(**kw):\n",
    "        # Forward any noise kwargs from evaluate_policy into the base env\n",
    "        base = create_ev_env(flatten=False, dense_mode=TUTORIAL_DENSE, density_multiplier=EVAL_CFG.density_multiplier, **kw)\n",
    "        return ActiveStartWrapper(base)\n",
    "\n",
    "    mean_ret_a, std_ret_a, mean_cost_a, metrics_active = evaluate_policy(\n",
    "        policy_fn=greedy_policy,\n",
    "        make_env_fn=make_active_env,\n",
    "        episodes=1,\n",
    "        horizon=96,\n",
    "        track_metrics=['actions'],\n",
    "        verbose=False,\n",
    "    )\n",
    "    active_actions = np.asarray(metrics_active['actions_per_episode'][0]).reshape(-1)\n",
    "\n",
    "    # Plot side-by-side histograms and a combined comparison\n",
    "    quick_plot({\n",
    "        'layout': '1x3', 'size': (15, 4), 'tight': True,\n",
    "        'plots': [\n",
    "            { 'type': 'hist', 'data': sparse_actions, 'bins': 20, 'color': 'lightcoral', 'alpha': 0.7,\n",
    "              'title': 'Sparse Period (Normal Start)', 'xlabel': 'Action Value', 'ylabel': 'Frequency' },\n",
    "            { 'type': 'hist', 'data': active_actions, 'bins': 20, 'color': 'lightgreen', 'alpha': 0.7,\n",
    "              'title': 'Active Period (After Seek)', 'xlabel': 'Action Value', 'ylabel': 'Frequency' },\n",
    "            { 'type': 'hist', 'data': {'Sparse': sparse_actions, 'Active': active_actions}, 'bins': 20, 'alpha': 0.7,\n",
    "              'title': 'Direct Comparison', 'xlabel': 'Action Value', 'ylabel': 'Frequency', 'legend': True },\n",
    "        ]\n",
    "    })\n",
    "    # Log-scale y for sparsity visualization\n",
    "    fig = plt.gcf()\n",
    "    for ax in fig.axes:\n",
    "        ax.set_yscale('log')\n",
    "    plt.show()\n",
    "\n",
    "    # Summary metrics\n",
    "    show(\"section: Action Distribution Contrast — Summary\")\n",
    "    show_metrics({\n",
    "        'Sparse — % zeros': f\"{100.0 * float(np.mean(sparse_actions < 1e-3)):.1f}%\",\n",
    "        'Sparse — mean action': float(np.mean(sparse_actions)),\n",
    "        'Active — % zeros': f\"{100.0 * float(np.mean(active_actions < 1e-3)):.1f}%\",\n",
    "        'Active — mean action': float(np.mean(active_actions)),\n",
    "        'Activity increase (mean)': f\"{(float(np.mean(active_actions)) / max(float(np.mean(sparse_actions)), 1e-6)):.1f}x\",\n",
    "    })\n",
    "\n",
    "    # Save lightweight summary for reuse\n",
    "    _ = save_evaluation_results(\n",
    "        tag=\"action_distribution_contrast\",\n",
    "        policy_name=\"Greedy\",\n",
    "        mean_return=float(mean_ret_a),\n",
    "        std_return=float(std_ret_a),\n",
    "        mean_cost=float(mean_cost_a),\n",
    "        metrics={\n",
    "            'sparse_mean_action': float(np.mean(sparse_actions)),\n",
    "            'active_mean_action': float(np.mean(active_actions)),\n",
    "            'sparse_pct_zeros': float(np.mean(sparse_actions < 1e-3)),\n",
    "            'active_pct_zeros': float(np.mean(active_actions < 1e-3)),\n",
    "        },\n",
    "        env_config={'horizon': 96},\n",
    "        notes='Contrast sparse vs active periods for greedy policy',\n",
    "    )\n",
    "\n",
    "action_distribution_contrast()"
   ]
  },
  {
   "cell_type": "code",
   "execution_count": 12,
   "id": "998ae0a8",
   "metadata": {},
   "outputs": [
    {
     "data": {
      "text/html": [
       "\n",
       "            <div style=\"margin:0;padding:2px 6px;display:inline-block;border-left:4px solid #4F46E5;background:#F8FAFC;border-radius:6px;line-height:1.1;\">\n",
       "              <span style=\"font-weight:600;color:#1F2937;\">Baseline Action Distribution (Regular Environment)</span>\n",
       "            </div>\n",
       "            "
      ],
      "text/plain": [
       "<IPython.core.display.HTML object>"
      ]
     },
     "metadata": {},
     "output_type": "display_data"
    },
    {
     "name": "stdout",
     "output_type": "stream",
     "text": [
      "First analyzing with regular environment to establish baseline sparsity — most timesteps have no active charging sessions\n",
      "This mirrors typical real-world utilization where demand is intermittent; we contrast it with a denser synthetic scenario next\n"
     ]
    },
    {
     "data": {
      "text/html": [
       "\n",
       "            <div style=\"margin:0;padding:2px 6px;display:inline-block;border-left:4px solid #4F46E5;background:#F8FAFC;border-radius:6px;line-height:1.1;\">\n",
       "              <span style=\"font-weight:600;color:#1F2937;\">Action distribution summary</span>\n",
       "            </div>\n",
       "            "
      ],
      "text/plain": [
       "<IPython.core.display.HTML object>"
      ]
     },
     "metadata": {},
     "output_type": "display_data"
    },
    {
     "data": {
      "text/html": [
       "\n",
       "        <div style=\"margin:0;padding:6px 8px;border-radius:6px;border:1px solid #e5e7eb;background:#ffffff;display:block;line-height:1.15;\">\n",
       "          <div style=\"font-weight:700;color:#111827;margin-bottom:2px;\">Metrics</div>\n",
       "          <ul style=\"margin:0 0 0 10px;padding:0;color:#374151;list-style-position:inside;\"><li style='margin:2px 0;'><b>actions</b>: <ul style='margin:2px 0 0 14px;padding:0;'><li style='margin:2px 0;'><b>Mean</b>: 0.001</li><li style='margin:2px 0;'><b>Std Dev</b>: 0.027</li><li style='margin:2px 0;'><b>Median</b>: 0.000</li><li style='margin:2px 0;'><b>IQR</b>: [0.000, 0.000]</li><li style='margin:2px 0;'><b>Range</b>: [0.000, 0.800]</li></ul></li></ul>\n",
       "        </div>\n",
       "        "
      ],
      "text/plain": [
       "<IPython.core.display.HTML object>"
      ]
     },
     "metadata": {},
     "output_type": "display_data"
    },
    {
     "data": {
      "image/png": "[encoded data removed]",
      "text/plain": [
       "<Figure size 1200x500 with 2 Axes>"
      ]
     },
     "metadata": {},
     "output_type": "display_data"
    },
    {
     "data": {
      "text/html": [
       "\n",
       "            <div style=\"margin:0;padding:2px 6px;display:inline-block;border-left:4px solid #4F46E5;background:#F8FAFC;border-radius:6px;line-height:1.1;\">\n",
       "              <span style=\"font-weight:600;color:#1F2937;\">Key saturation metrics</span>\n",
       "            </div>\n",
       "            "
      ],
      "text/plain": [
       "<IPython.core.display.HTML object>"
      ]
     },
     "metadata": {},
     "output_type": "display_data"
    },
    {
     "data": {
      "text/html": [
       "\n",
       "        <div style=\"margin:0;padding:6px 8px;border-radius:6px;border:1px solid #e5e7eb;background:#ffffff;display:block;line-height:1.15;\">\n",
       "          <div style=\"font-weight:700;color:#111827;margin-bottom:2px;\">Metrics</div>\n",
       "          <ul style=\"margin:0 0 0 10px;padding:0;color:#374151;list-style-position:inside;\"><li style='margin:2px 0;'><b>Low saturation (≤0.001)</b>: 99.9%</li><li style='margin:2px 0;'><b>High saturation (≥0.999)</b>: 0.0%</li></ul>\n",
       "        </div>\n",
       "        "
      ],
      "text/plain": [
       "<IPython.core.display.HTML object>"
      ]
     },
     "metadata": {},
     "output_type": "display_data"
    },
    {
     "data": {
      "text/html": [
       "\n",
       "            <div style=\"margin:0;padding:2px 6px;display:inline-block;border-left:4px solid #4F46E5;background:#F8FAFC;border-radius:6px;line-height:1.1;\">\n",
       "              <span style=\"font-weight:600;color:#1F2937;\">Dense Environment Action Distribution</span>\n",
       "            </div>\n",
       "            "
      ],
      "text/plain": [
       "<IPython.core.display.HTML object>"
      ]
     },
     "metadata": {},
     "output_type": "display_data"
    },
    {
     "name": "stdout",
     "output_type": "stream",
     "text": [
      "Now analyzing the same policy with dense environment (3x event density)\n"
     ]
    },
    {
     "data": {
      "text/html": [
       "\n",
       "            <div style=\"margin:0;padding:2px 6px;display:inline-block;border-left:4px solid #4F46E5;background:#F8FAFC;border-radius:6px;line-height:1.1;\">\n",
       "              <span style=\"font-weight:600;color:#1F2937;\">Action distribution summary</span>\n",
       "            </div>\n",
       "            "
      ],
      "text/plain": [
       "<IPython.core.display.HTML object>"
      ]
     },
     "metadata": {},
     "output_type": "display_data"
    },
    {
     "data": {
      "text/html": [
       "\n",
       "        <div style=\"margin:0;padding:6px 8px;border-radius:6px;border:1px solid #e5e7eb;background:#ffffff;display:block;line-height:1.15;\">\n",
       "          <div style=\"font-weight:700;color:#111827;margin-bottom:2px;\">Metrics</div>\n",
       "          <ul style=\"margin:0 0 0 10px;padding:0;color:#374151;list-style-position:inside;\"><li style='margin:2px 0;'><b>actions</b>: <ul style='margin:2px 0 0 14px;padding:0;'><li style='margin:2px 0;'><b>Mean</b>: 0.010</li><li style='margin:2px 0;'><b>Std Dev</b>: 0.087</li><li style='margin:2px 0;'><b>Median</b>: 0.000</li><li style='margin:2px 0;'><b>IQR</b>: [0.000, 0.000]</li><li style='margin:2px 0;'><b>Range</b>: [0.000, 0.800]</li></ul></li></ul>\n",
       "        </div>\n",
       "        "
      ],
      "text/plain": [
       "<IPython.core.display.HTML object>"
      ]
     },
     "metadata": {},
     "output_type": "display_data"
    },
    {
     "data": {
      "image/png": "[encoded data removed]",
      "text/plain": [
       "<Figure size 1200x500 with 2 Axes>"
      ]
     },
     "metadata": {},
     "output_type": "display_data"
    },
    {
     "data": {
      "text/html": [
       "\n",
       "            <div style=\"margin:0;padding:2px 6px;display:inline-block;border-left:4px solid #4F46E5;background:#F8FAFC;border-radius:6px;line-height:1.1;\">\n",
       "              <span style=\"font-weight:600;color:#1F2937;\">Impact of Environment Density on Action Distribution</span>\n",
       "            </div>\n",
       "            "
      ],
      "text/plain": [
       "<IPython.core.display.HTML object>"
      ]
     },
     "metadata": {},
     "output_type": "display_data"
    },
    {
     "data": {
      "text/html": [
       "\n",
       "        <div style=\"margin:0;padding:6px 8px;border-radius:6px;border:1px solid #e5e7eb;background:#ffffff;display:block;line-height:1.15;\">\n",
       "          <div style=\"font-weight:700;color:#111827;margin-bottom:2px;\">Metrics</div>\n",
       "          <ul style=\"margin:0 0 0 10px;padding:0;color:#374151;list-style-position:inside;\"><li style='margin:2px 0;'><b>Regular Environment</b>: <ul style='margin:2px 0 0 14px;padding:0;'><li style='margin:2px 0;'><b>Low saturation (≤0.001)</b>: 99.9%</li><li style='margin:2px 0;'><b>Mean action</b>: 0.001</li><li style='margin:2px 0;'><b>Active actions (&gt;0.001)</b>: 0.1%</li></ul></li><li style='margin:2px 0;'><b>Dense Environment</b>: <ul style='margin:2px 0 0 14px;padding:0;'><li style='margin:2px 0;'><b>Low saturation (≤0.001)</b>: 98.8%</li><li style='margin:2px 0;'><b>Mean action</b>: 0.010</li><li style='margin:2px 0;'><b>Active actions (&gt;0.001)</b>: 1.2%</li></ul></li><li style='margin:2px 0;'><b>Density Impact</b>: <ul style='margin:2px 0 0 14px;padding:0;'><li style='margin:2px 0;'><b>Activity increase</b>: 10.3x</li><li style='margin:2px 0;'><b>Sparsity reduction</b>: 1.1 pp</li></ul></li></ul>\n",
       "        </div>\n",
       "        "
      ],
      "text/plain": [
       "<IPython.core.display.HTML object>"
      ]
     },
     "metadata": {},
     "output_type": "display_data"
    },
    {
     "data": {
      "text/html": [
       "\n",
       "            <div style=\"margin:0;padding:2px 6px;display:inline-block;border-left:4px solid #4F46E5;background:#F8FAFC;border-radius:6px;line-height:1.1;\">\n",
       "              <span style=\"font-weight:600;color:#1F2937;\">Side-by-Side Distribution Comparison</span>\n",
       "            </div>\n",
       "            "
      ],
      "text/plain": [
       "<IPython.core.display.HTML object>"
      ]
     },
     "metadata": {},
     "output_type": "display_data"
    },
    {
     "data": {
      "image/png": "[encoded data removed]",
      "text/plain": [
       "<Figure size 1200x400 with 2 Axes>"
      ]
     },
     "metadata": {},
     "output_type": "display_data"
    }
   ],
   "source": [
    "# Simpler and returns stats for further analysis\n",
    "_, _, _, metrics = evaluate_policy(\n",
    "    policy_fn=wrap_policy(lambda obs: np.where(obs['demands'] > 0, 0.8, 0.0)),\n",
    "    make_env_fn=lambda **kw: EVChargingEnv(gen, project_action_in_env=True, **kw),\n",
    "    episodes=1,\n",
    "    horizon=96,\n",
    "    track_metrics=['actions'],\n",
    ")\n",
    "\n",
    "# Plot without the center text panel; print a compact summary below like other utils\n",
    "show(\"section: Baseline Action Distribution (Regular Environment)\")\n",
    "show(\"info: First analyzing with regular environment to establish baseline sparsity — most timesteps have no active charging sessions\")\n",
    "show(\"info: This mirrors typical real-world utilization where demand is intermittent; we contrast it with a denser synthetic scenario next\")\n",
    "stats = plot_action_distribution(\n",
    "    metrics['actions_per_episode'][0],\n",
    "    title='Greedy Policy Action Distribution',\n",
    "    show_stats=True,           # prints summary via show/show_metrics\n",
    "    show_saturation=True,\n",
    "    return_stats=True\n",
    ")\n",
    "\n",
    "show(\"section: Key saturation metrics\")\n",
    "show_metrics({\n",
    "    'Low saturation (≤0.001)': f\"{stats.get('saturation_low', 0.0)*100:.1f}%\",\n",
    "    'High saturation (≥0.999)': f\"{stats.get('saturation_high', 0.0)*100:.1f}%\",\n",
    "})\n",
    "\n",
    "# Dense environment contrast (3x event density)\n",
    "show(\"section: Dense Environment Action Distribution\")\n",
    "show(\"info: Now analyzing the same policy with dense environment (3x event density)\")\n",
    "\n",
    "_, _, _, metrics_dense = evaluate_policy(\n",
    "    policy_fn=wrap_policy(lambda obs: np.where(extract_from_obs(obs, 'demands') > 0, 0.8, 0.0)),\n",
    "    make_env_fn=lambda **kw: create_ev_env(flatten=False, dense_mode=True, density_multiplier=EVAL_CFG.density_multiplier, **kw),\n",
    "    episodes=1,\n",
    "    horizon=96,\n",
    "    track_metrics=['actions'],\n",
    ")\n",
    "\n",
    "stats_dense = plot_action_distribution(\n",
    "    metrics_dense['actions_per_episode'][0],\n",
    "    title='Greedy Policy Action Distribution (Dense Environment)',\n",
    "    show_stats=True,\n",
    "    show_saturation=True,\n",
    "    return_stats=True\n",
    ")\n",
    "\n",
    "show(\"section: Impact of Environment Density on Action Distribution\")\n",
    "show_metrics({\n",
    "    'Regular Environment': {\n",
    "        'Low saturation (≤0.001)': f\"{stats.get('saturation_low', 0.0)*100:.1f}%\",\n",
    "        'Mean action': stats.get('mean', 0.0),\n",
    "        'Active actions (>0.001)': f\"{(1-stats.get('saturation_low', 0.0))*100:.1f}%\"\n",
    "    },\n",
    "    'Dense Environment': {\n",
    "        'Low saturation (≤0.001)': f\"{stats_dense.get('saturation_low', 0.0)*100:.1f}%\",\n",
    "        'Mean action': stats_dense.get('mean', 0.0),\n",
    "        'Active actions (>0.001)': f\"{(1-stats_dense.get('saturation_low', 0.0))*100:.1f}%\"\n",
    "    },\n",
    "    'Density Impact': {\n",
    "        'Activity increase': f\"{stats_dense.get('mean', 0.0)/max(stats.get('mean', 0.0), 1e-9):.1f}x\",\n",
    "        'Sparsity reduction': f\"{(stats.get('saturation_low', 0.0) - stats_dense.get('saturation_low', 0.0))*100:.1f} pp\"\n",
    "    }\n",
    "})\n",
    "\n",
    "# Side-by-side histograms for direct comparison\n",
    "show(\"section: Side-by-Side Distribution Comparison\")\n",
    "a_reg = np.asarray(metrics['actions_per_episode'][0]).ravel()\n",
    "a_den = np.asarray(metrics_dense['actions_per_episode'][0]).ravel()\n",
    "bins = np.linspace(0, 1, 41)\n",
    "fig, axes = plt.subplots(1, 2, figsize=(12, 4), sharey=True)\n",
    "axes[0].hist(a_reg, bins=bins, color='tab:blue', alpha=0.7)\n",
    "axes[0].set_title(\"Regular env\")\n",
    "axes[0].set_xlabel(\"action\")\n",
    "axes[0].set_ylabel(\"count\")\n",
    "axes[0].set_xlim(0, 1)\n",
    "\n",
    "axes[1].hist(a_den, bins=bins, color='tab:green', alpha=0.7)\n",
    "axes[1].set_title(\"Dense env (3x)\")\n",
    "axes[1].set_xlabel(\"action\")\n",
    "axes[1].set_xlim(0, 1)\n",
    "\n",
    "plt.tight_layout()\n",
    "plt.show()"
   ]
  },
  {
   "cell_type": "markdown",
   "id": "e29edf12",
   "metadata": {},
   "source": [
    "## Section 4: Evaluating EV Charging Strategies\n",
    "\n",
    "We compare five interpretable baseline strategies to understand the performance landscape.\n",
    "\n",
    "### Strategy Definitions\n",
    "Each strategy is a rule mapping the observation to an action vector $a_t = (a_{1,t},\\dots,a_{N,t})$.\n",
    "\n",
    "**Aggressive** (*Maximize throughput*): Always max-charge where there’s demand:\n",
    "$$a_{i,t} = \\mathbb{1}[d_{i,t} > 0]$$\n",
    "\n",
    "**Safety-First** (*Avoid constraint violations*): Conservative charging to reduce violations:\n",
    "$$a_{i,t} = 0.5 \\cdot \\mathbb{1}[d_{i,t} > 0]$$\n",
    "\n",
    "**Eco-Friendly** (*Minimize carbon footprint*): Charge fully only when carbon intensity (MOER) is low; otherwise trickle for urgent EVs:\n",
    "$$a_{i,t} = \\begin{cases}\n",
    "\\mathbb{1}[d_{i,t} > 0] & \\text{if MOER}_t < 0.3 \\\\\n",
    "0.3 \\cdot \\mathbb{1}[\\tau_{i,t} < 10] & \\text{otherwise}\n",
    "\\end{cases}$$\n",
    "\n",
    "**Balanced** (*Balance all objectives*): Blend urgency and “eco” factor $(1-\\mathrm{MOER}_t)$:\n",
    "$$a_{i,t} = \\min\\{1, 1.5 \\cdot u_{i,t} \\cdot (1-\\text{MOER}_t)\\} \\cdot \\mathbb{1}[d_{i,t} > 0]$$\n",
    "where $u_{i,t} = \\mathbb{1}[\\tau_{i,t} < 20]$\n",
    "\n",
    "**Profit-Max** (*Prioritize high-value sessions*): Prioritize high-demand EVs:\n",
    "$$a_{i,t} = \\begin{cases}\n",
    "1 & \\text{if } d_{i,t} > \\text{median}(\\{d_{j,t} : d_{j,t} > 0\\}) \\\\\n",
    "0.3 & \\text{if } 0 < d_{i,t} \\leq \\text{median} \\\\\n",
    "0 & \\text{if } d_{i,t} = 0\n",
    "\\end{cases}$$\n",
    "\n",
    "### Evaluation protocol (apples-to-apples)\n",
    "\n",
    "- Common start state: same seed and same post-reset “active” position using `seek_to_active`.\n",
    "- Fixed horizon $T$ (e.g., 96 steps = 8 hours).\n",
    "- For each strategy, run one rollout from that state and log time series.\n",
    "\n",
    "We form cumulative versions (by summing per-step values):\n",
    "- Cumulative score: $R_t \\triangleq \\sum_{\\tau=0}^t r_\\tau$\n",
    "- Cumulative profit: $P_t \\triangleq \\sum_{\\tau=0}^t p_\\tau$\n",
    "- Cumulative carbon: $C_t \\triangleq \\sum_{\\tau=0}^t c_\\tau$\n",
    "- Cumulative violations: $V_t \\triangleq \\sum_{\\tau=0}^t v_\\tau$\n",
    "\n",
    "If the breakdown fields are reported as cumulative counters in the env, we take robust per-step deltas by differencing:\n",
    "- $x_t = X_t - X_{t-1}$ if $X_t \\ge X_{t-1}$, else treat $x_t$ as per-step.\n",
    "\n",
    "We also compute a satisfaction proxy:\n",
    "- $S_t \\triangleq \\dfrac{\\sum_{\\tau=0}^t \\Delta E_\\tau}{\\sum_{\\tau=0}^t \\sum_{i=1}^N d^+_{i,\\tau}}\\times 100\\%$,\n",
    "  where $d^+_{i,\\tau}=\\max\\{0,d_{i,\\tau}\\}$.\n",
    "- This is an intuitive, if approximate, measure of “portion of requested energy served.”\n",
    "\n"
   ]
  },
  {
   "cell_type": "code",
   "execution_count": 13,
   "id": "31814e83",
   "metadata": {},
   "outputs": [],
   "source": [
    "# Minimal, interpretable strategy comparison from a shared starting point\n",
    "\n",
    "import numpy as np\n",
    "import pandas as pd\n",
    "import matplotlib.pyplot as plt\n",
    "import ipywidgets as widgets\n",
    "from IPython.display import display\n",
    "\n",
    "from envs.evcharging import EVChargingEnv\n",
    "from tutorials.utils import quick_plot, show, show_metrics\n",
    "\n",
    "# 1) Strategy definitions as callables: action = fn(obs, env)\n",
    "def make_strategy_fns():\n",
    "    def aggressive(obs, env):\n",
    "        d = np.asarray(obs['demands']).astype(float)\n",
    "        return np.where(d > 0, 1.0, 0.0)\n",
    "\n",
    "    def eco_friendly(obs, env):\n",
    "        d = np.asarray(obs['demands']).astype(float)\n",
    "        dep = np.asarray(obs['est_departures']).astype(float)\n",
    "        moer = float(np.asarray(obs['prev_moer'])[0]) if 'prev_moer' in obs else 0.5\n",
    "        if moer < 0.3:\n",
    "            return np.where(d > 0, 1.0, 0.0)\n",
    "        else:\n",
    "            return np.where(dep < 10, 0.3, 0.0)\n",
    "\n",
    "    def balanced(obs, env):\n",
    "        d = np.asarray(obs['demands']).astype(float)\n",
    "        dep = np.asarray(obs['est_departures']).astype(float)\n",
    "        moer = float(np.asarray(obs['prev_moer'])[0]) if 'prev_moer' in obs else 0.5\n",
    "        a = np.zeros(env.num_stations, dtype=float)\n",
    "        for i in range(env.num_stations):\n",
    "            if d[i] > 0:\n",
    "                urgency = 1.0 if dep[i] < 20 else 0.5\n",
    "                eco = 1.0 - moer\n",
    "                a[i] = min(1.0, urgency * eco * 1.5)\n",
    "        return a\n",
    "\n",
    "    def profit_max(obs, env):\n",
    "        d = np.asarray(obs['demands']).astype(float)\n",
    "        if np.max(d) > 0:\n",
    "            pos = d[d > 0]\n",
    "            thresh = np.percentile(pos, 50) if pos.size else 0.0\n",
    "            return np.where(d > thresh, 1.0, 0.3)\n",
    "        return np.zeros(env.num_stations, dtype=float)\n",
    "\n",
    "    def safety_first(obs, env):\n",
    "        d = np.asarray(obs['demands']).astype(float)\n",
    "        return np.where(d > 0, 0.5, 0.0)\n",
    "\n",
    "    return {\n",
    "        'balanced': balanced,\n",
    "        'aggressive': aggressive,\n",
    "        'eco_friendly': eco_friendly,\n",
    "        'profit_max': profit_max,\n",
    "        'safety_first': safety_first,\n",
    "    }\n",
    "\n",
    "# 2) Roll a single strategy from the same seeded, active start\n",
    "def roll_strategy(gen, strategy_fn, *, seed=0, horizon=96):\n",
    "    env = EVChargingEnv(gen, project_action_in_env=True)\n",
    "    obs, _ = env.reset(seed=seed)\n",
    "\n",
    "    # Seek to a period with actual demand to avoid flat runs\n",
    "    try:\n",
    "        if isinstance(obs, dict) and 'demands' in obs and np.all(np.asarray(obs['demands']) <= 0):\n",
    "            obs, _, _ = seek_to_active(env, key='demands', max_seek=400, ensure_change=True, lookahead=20)\n",
    "    except Exception:\n",
    "        pass\n",
    "\n",
    "    last_rb = {'profit': 0.0, 'carbon_cost': 0.0, 'excess_charge': 0.0}\n",
    "    # Use simulator-based satisfaction: requested_total_kwh from episode EVs, accumulate delivered kWh from charging rates\n",
    "    requested_total_kwh = float(np.sum([float(getattr(ev, 'requested_energy', 0.0)) for ev in env._evs]))\n",
    "    cumulative_delivered = 0.0\n",
    "\n",
    "    rec = {\n",
    "        't': [], 'reward': [], 'score_cum': [],\n",
    "        'profit_step': [], 'profit_cum': [],\n",
    "        'carbon_step': [], 'carbon_cum': [],\n",
    "        'viol_step': [], 'viol_cum': [],\n",
    "        'satisfaction': [],\n",
    "    }\n",
    "    score = 0.0\n",
    "\n",
    "    try:\n",
    "        for t in range(int(horizon)):\n",
    "            a = np.asarray(strategy_fn(obs, env)).reshape(-1).astype(float)\n",
    "            obs_next, reward, term, trunc, info = env.step(a)\n",
    "\n",
    "            # Update scores\n",
    "            score += float(reward)\n",
    "\n",
    "            # Delivered energy (kWh) from simulator charging rates; robust to new arrivals\n",
    "            if getattr(env, \"_simulator\", None) is not None and getattr(env._simulator, \"charging_rates\", None) is not None and env.t > 0:\n",
    "                delivered_kwh_step = float(np.sum(env._simulator.charging_rates[:, env.t - 1])) * env.A_PERS_TO_KWH\n",
    "            else:\n",
    "                delivered_kwh_step = 0.0\n",
    "            cumulative_delivered += delivered_kwh_step\n",
    "\n",
    "            # Components: robust to cumulative or step-wise reporting\n",
    "            rb = info.get('reward_breakdown', {}) if isinstance(info, dict) else {}\n",
    "            p_cur = float(rb.get('profit', 0.0))\n",
    "            c_cur = float(rb.get('carbon_cost', 0.0))\n",
    "            v_cur = float(rb.get('excess_charge', 0.0))\n",
    "            def step_delta(cur, prev): return cur - prev if cur >= prev else cur\n",
    "\n",
    "            p_step = step_delta(p_cur, last_rb['profit'])\n",
    "            c_step = step_delta(c_cur, last_rb['carbon_cost'])\n",
    "            v_step = step_delta(v_cur, last_rb['excess_charge'])\n",
    "\n",
    "            last_rb.update({'profit': p_cur, 'carbon_cost': c_cur, 'excess_charge': v_cur})\n",
    "\n",
    "            # Record\n",
    "            rec['t'].append(t)\n",
    "            rec['reward'].append(float(reward))\n",
    "            rec['score_cum'].append(float(score))\n",
    "            rec['profit_step'].append(p_step)\n",
    "            rec['carbon_step'].append(c_step)\n",
    "            rec['viol_step'].append(v_step)\n",
    "            rec['profit_cum'].append(rec['profit_cum'][-1] + p_step if rec['profit_cum'] else p_step)\n",
    "            rec['carbon_cum'].append(rec['carbon_cum'][-1] + c_step if rec['carbon_cum'] else c_step)\n",
    "            rec['viol_cum'].append(rec['viol_cum'][-1] + v_step if rec['viol_cum'] else v_step)\n",
    "            sat = 100.0 * (cumulative_delivered / max(requested_total_kwh, 1e-9))\n",
    "            rec['satisfaction'].append(float(sat))\n",
    "\n",
    "            obs = obs_next\n",
    "            if bool(term) or bool(trunc):\n",
    "                break\n",
    "    finally:\n",
    "        try:\n",
    "            env.close()\n",
    "        except Exception:\n",
    "            pass\n",
    "\n",
    "    return pd.DataFrame(rec)\n",
    "\n",
    "# 3) Compare a set of strategies with compact, informative plots\n",
    "def compare_strategies(gen, which=('balanced','aggressive','eco_friendly','safety_first'), *, seed=0, horizon=288):\n",
    "    F = make_strategy_fns()\n",
    "    chosen = [w for w in which if w in F]\n",
    "    runs = {name: roll_strategy(gen, F[name], seed=seed, horizon=horizon) for name in chosen}\n",
    "\n",
    "    # Build tidy frames for grouped lines\n",
    "    def melt(df, y, name):\n",
    "        return pd.DataFrame({'t': df['t'].to_numpy(), 'value': df[y].to_numpy(), 'strategy': name})\n",
    "\n",
    "    df_score = pd.concat([melt(df, 'score_cum', k) for k, df in runs.items()], ignore_index=True)\n",
    "    df_sat   = pd.concat([melt(df, 'satisfaction', k) for k, df in runs.items()], ignore_index=True)\n",
    "    df_viol  = pd.concat([melt(df, 'viol_cum', k) for k, df in runs.items()], ignore_index=True)\n",
    "\n",
    "    # End-of-run summary (one point per strategy)\n",
    "    summary = []\n",
    "    for name, df in runs.items():\n",
    "        if len(df) == 0:\n",
    "            summary.append({'strategy': name, 'score': 0.0, 'profit': 0.0, 'carbon': 0.0, 'violations': 0.0, 'satisfaction': 0.0})\n",
    "            continue\n",
    "        summary.append({\n",
    "            'strategy': name,\n",
    "            'score': float(df['score_cum'].iloc[-1]),\n",
    "            'profit': float(df['profit_cum'].iloc[-1]),\n",
    "            'carbon': float(df['carbon_cum'].iloc[-1]),\n",
    "            'violations': float(df['viol_cum'].iloc[-1]),\n",
    "            'satisfaction': float(df['satisfaction'].iloc[-1]),\n",
    "        })\n",
    "    df_summary = pd.DataFrame(summary).sort_values(by='score', ascending=False)\n",
    "\n",
    "    # Profit vs Carbon points\n",
    "    df_points = df_summary[['strategy','profit','carbon']].copy()\n",
    "\n",
    "    # 2x2 compact dashboard\n",
    "    quick_plot({\n",
    "        'layout': '2x2', 'size': (12, 8), 'tight': True,\n",
    "        'title': 'Strategy Comparison (same seeded start)',\n",
    "        'plots': [\n",
    "            # Score over time (grouped)\n",
    "            { 'type': 'line', 'data': df_score, 'x': 't', 'y': 'value', 'group': 'strategy', 'legend': True,\n",
    "              'title': 'Cumulative Score', 'xlabel': 'Timestep', 'ylabel': 'Score ($)' },\n",
    "\n",
    "            # Satisfaction over time (grouped)\n",
    "            { 'type': 'line', 'data': df_sat, 'x': 't', 'y': 'value', 'group': 'strategy', 'legend': True,\n",
    "              'title': 'Satisfaction', 'xlabel': 'Timestep', 'ylabel': 'Satisfaction (%)' },\n",
    "\n",
    "            # Profit vs Carbon (one marker per strategy)\n",
    "            { 'type': 'scatter', 'data': df_points, 'x': 'profit', 'y': 'carbon', 'hue': 'strategy',\n",
    "              'title': 'Profit vs Carbon (end of run)', 'xlabel': 'Profit ($)', 'ylabel': 'Carbon Cost ($)',\n",
    "              'colorbar': False, 'legend': True },\n",
    "\n",
    "            # Violations over time (grouped)\n",
    "            { 'type': 'line', 'data': df_viol, 'x': 't', 'y': 'value', 'group': 'strategy', 'legend': True,\n",
    "              'title': 'Constraint Violations (cumulative)', 'xlabel': 'Timestep', 'ylabel': 'Violations (cumulative)' },\n",
    "        ]\n",
    "    })\n",
    "\n",
    "    # Text summary (ranks and trade-offs)\n",
    "    show(\"header: SUMMARY — end of run\")\n",
    "    show(\"table\", df=df_summary.reset_index(drop=True))\n",
    "    return df_summary, runs"
   ]
  },
  {
   "cell_type": "markdown",
   "id": "e0715569",
   "metadata": {},
   "source": [
    "#### How to read the 2x2 strategy comparison dashboard\n",
    "\n",
    "1) Cumulative score $R_t$ (grouped lines)\n",
    "- How much utility has each strategy accumulated? Higher final $R_T$ indicates better performance.\n",
    "\n",
    "2) Satisfaction $S_t$ (grouped lines)\n",
    "- How well and how quickly are demands being served? Higher and earlier increases are better.\n",
    "\n",
    "3) Profit vs Carbon $(P_T, C_T)$ (one point per strategy)\n",
    "- Where do strategies land on the economics–sustainability trade-off plane? Desirable: right and down (higher profit, lower carbon).\n",
    "\n",
    "4) Cumulative violations $V_t$ (grouped lines)\n",
    "- How much safety pressure does each strategy incur? Flatter is safer; rising $V_t$ indicates sustained constraint conflict.\n",
    "\n",
    "Together these give a balanced view across utility (score), service (satisfaction), sustainability (carbon), economics (profit), and safety (violations).\n",
    "\n"
   ]
  },
  {
   "cell_type": "code",
   "execution_count": 14,
   "id": "f75d3b55",
   "metadata": {},
   "outputs": [
    {
     "data": {
      "text/html": [
       "\n",
       "            <div style=\"margin:0;padding:6px 8px;border-radius:6px;line-height:1.1;\n",
       "                        background:linear-gradient(180deg,#ffffff, #ffffff);border:1px solid #e5e7eb;display:inline-block;\">\n",
       "              <div style=\"font-weight:700;font-size:2.20rem;color:#111827;\">\n",
       "                SUMMARY — end of run\n",
       "              </div>\n",
       "            </div>\n",
       "            "
      ],
      "text/plain": [
       "<IPython.core.display.HTML object>"
      ]
     },
     "metadata": {},
     "output_type": "display_data"
    },
    {
     "data": {
      "text/html": [
       "<div>\n",
       "<style scoped>\n",
       "    .dataframe tbody tr th:only-of-type {\n",
       "        vertical-align: middle;\n",
       "    }\n",
       "\n",
       "    .dataframe tbody tr th {\n",
       "        vertical-align: top;\n",
       "    }\n",
       "\n",
       "    .dataframe thead th {\n",
       "        text-align: right;\n",
       "    }\n",
       "</style>\n",
       "<table border=\"1\" class=\"dataframe\">\n",
       "  <thead>\n",
       "    <tr style=\"text-align: right;\">\n",
       "      <th></th>\n",
       "      <th>strategy</th>\n",
       "      <th>score</th>\n",
       "      <th>profit</th>\n",
       "      <th>carbon</th>\n",
       "      <th>violations</th>\n",
       "      <th>satisfaction</th>\n",
       "    </tr>\n",
       "  </thead>\n",
       "  <tbody>\n",
       "    <tr>\n",
       "      <th>0</th>\n",
       "      <td>eco_friendly</td>\n",
       "      <td>11.378593</td>\n",
       "      <td>14.513498</td>\n",
       "      <td>3.134905</td>\n",
       "      <td>0.055467</td>\n",
       "      <td>84.198156</td>\n",
       "    </tr>\n",
       "    <tr>\n",
       "      <th>1</th>\n",
       "      <td>aggressive</td>\n",
       "      <td>10.088836</td>\n",
       "      <td>13.613018</td>\n",
       "      <td>3.524182</td>\n",
       "      <td>0.012757</td>\n",
       "      <td>89.078956</td>\n",
       "    </tr>\n",
       "    <tr>\n",
       "      <th>2</th>\n",
       "      <td>balanced</td>\n",
       "      <td>9.210935</td>\n",
       "      <td>12.486824</td>\n",
       "      <td>3.275889</td>\n",
       "      <td>0.006032</td>\n",
       "      <td>87.436660</td>\n",
       "    </tr>\n",
       "    <tr>\n",
       "      <th>3</th>\n",
       "      <td>safety_first</td>\n",
       "      <td>7.456498</td>\n",
       "      <td>10.038386</td>\n",
       "      <td>2.581889</td>\n",
       "      <td>0.000000</td>\n",
       "      <td>71.426624</td>\n",
       "    </tr>\n",
       "  </tbody>\n",
       "</table>\n",
       "</div>"
      ],
      "text/plain": [
       "       strategy      score     profit    carbon  violations  satisfaction\n",
       "0  eco_friendly  11.378593  14.513498  3.134905    0.055467     84.198156\n",
       "1    aggressive  10.088836  13.613018  3.524182    0.012757     89.078956\n",
       "2      balanced   9.210935  12.486824  3.275889    0.006032     87.436660\n",
       "3  safety_first   7.456498  10.038386  2.581889    0.000000     71.426624"
      ]
     },
     "metadata": {},
     "output_type": "display_data"
    },
    {
     "data": {
      "image/png": "[encoded data removed]",
      "text/plain": [
       "<Figure size 1200x800 with 4 Axes>"
      ]
     },
     "metadata": {},
     "output_type": "display_data"
    }
   ],
   "source": [
    "\n",
    "# Example usage (change seed/horizon as needed)\n",
    "df_summary, runs = compare_strategies(gen, which=('balanced','aggressive','eco_friendly','safety_first'), seed=0, horizon=288)"
   ]
  },
  {
   "cell_type": "markdown",
   "id": "d6cc4eab",
   "metadata": {},
   "source": [
    "#### How to interpret differences\n",
    "\n",
    "- If a strategy’s $R_t$ and $S_t$ curves dominate another’s while also landing lower $C_T$ and lower $V_t$, it is clearly superior.\n",
    "- Often, you’ll see trade-offs: aggressive charging may boost $R_t$ or $S_t$ but worsen $C_T$ or $V_t$; eco-friendly may reduce $C_T$ but slightly slow $S_t$; balanced tries to do well across all four."
   ]
  },
  {
   "cell_type": "markdown",
   "id": "916545a3",
   "metadata": {},
   "source": [
    "## Section 5: Robustness Testing\n",
    "\n",
    "Real-world systems face uncertainty in measurements and control. \n",
    "\n",
    "To probe robustness, we evaluate the policy under additive noise:\n",
    "- Observation noise level $\\epsilon$ perturbs elements of the observation vector:\n",
    "  $$\n",
    "  \\tilde{\\mathbf{o}}_t = \\mathbf{o}_t + \\boldsymbol{\\xi}_t,\\quad \\boldsymbol{\\xi}_t \\sim \\mathcal{N}(0, \\epsilon^2 I).\n",
    "  $$\n",
    "- Action noise level $\\eta$ perturbs the policy output before the environment applies it:\n",
    "  $$\n",
    "  \\tilde{\\mathbf{a}}_t = \\mathbf{a}_t + \\boldsymbol{\\zeta}_t,\\quad \\boldsymbol{\\zeta}_t \\sim \\mathcal{N}(0, \\eta^2 I),\n",
    "  $$\n",
    "  followed by clipping to $[0,1]$ and any in-environment projection.\n",
    "\n",
    "For each $(\\epsilon, \\eta)$ pair, we estimate episode metrics (e.g., mean return $\\bar{R}$ and safety cost $\\bar{C}$) across multiple episodes:\n",
    "$$\n",
    "\\bar{R}(\\epsilon, \\eta) = \\frac{1}{E}\\sum_{e=1}^{E} \\sum_{t=0}^{T_e-1} r_t^{(e)},\\qquad\n",
    "\\bar{C}(\\epsilon, \\eta) = \\frac{1}{E}\\sum_{e=1}^{E} \\sum_{t=0}^{T_e-1} c_t^{(e)}.\n",
    "$$\n",
    "Heatmaps of $\\bar{R}$ and $\\bar{C}$ over $(\\epsilon,\\eta)$ reveal sensitivity: flat heatmaps indicate robustness; steep gradients indicate fragility.\n"
   ]
  },
  {
   "cell_type": "code",
   "execution_count": 15,
   "id": "47ab50d9",
   "metadata": {},
   "outputs": [
    {
     "data": {
      "text/html": [
       "\n",
       "        <div style=\"font-family:ui-sans-serif, system-ui; margin:6px 0;\">\n",
       "          <div style=\"color:#374151;font-size:0.9rem;margin-bottom:4px;\">Sweeping noise settings (25/25)</div>\n",
       "          <div style=\"background:#E5E7EB;border-radius:9999px;overflow:hidden;height:10px;\">\n",
       "            <div style=\"width:100%;background:#4F46E5;height:10px;\"></div>\n",
       "          </div>\n",
       "        </div>\n",
       "        "
      ],
      "text/plain": [
       "<IPython.core.display.HTML object>"
      ]
     },
     "metadata": {},
     "output_type": "display_data"
    },
    {
     "data": {
      "text/html": [
       "\n",
       "            <div style=\"display:inline-flex;align-items:center;padding:4px 8px;border-radius:6px; background:#ECFDF5; color:#065F46; border:1px solid #A7F3D0;\">\n",
       "              <span style=\"margin-right:6px;\">✔</span><span>Noise sweep completed</span>\n",
       "            </div>\n",
       "            "
      ],
      "text/plain": [
       "<IPython.core.display.HTML object>"
      ]
     },
     "metadata": {},
     "output_type": "display_data"
    },
    {
     "data": {
      "image/png": "[encoded data removed]",
      "text/plain": [
       "<Figure size 400x300 with 2 Axes>"
      ]
     },
     "metadata": {},
     "output_type": "display_data"
    },
    {
     "data": {
      "image/png": "[encoded data removed]",
      "text/plain": [
       "<Figure size 400x300 with 2 Axes>"
      ]
     },
     "metadata": {},
     "output_type": "display_data"
    },
    {
     "data": {
      "text/html": [
       "\n",
       "            <div style=\"margin:0;padding:2px 6px;display:inline-block;border-left:4px solid #4F46E5;background:#F8FAFC;border-radius:6px;line-height:1.1;\">\n",
       "              <span style=\"font-weight:600;color:#1F2937;\">Robustness Summary</span>\n",
       "            </div>\n",
       "            "
      ],
      "text/plain": [
       "<IPython.core.display.HTML object>"
      ]
     },
     "metadata": {},
     "output_type": "display_data"
    },
    {
     "data": {
      "text/html": [
       "\n",
       "            <div style=\"font-family:ui-monospace, SFMono-Regular, Menlo, Monaco, Consolas, 'Liberation Mono', 'Courier New', monospace;\n",
       "                                color:#065F46;background:#ECFDF5;border:1px solid #A7F3D0;display:inline-block;\n",
       "                                padding:4px 8px;border-radius:6px;margin:2px 0;\">return_mean: 4.31 → 3.95 (-8.3%)</div>\n",
       "            "
      ],
      "text/plain": [
       "<IPython.core.display.HTML object>"
      ]
     },
     "metadata": {},
     "output_type": "display_data"
    },
    {
     "data": {
      "text/html": [
       "\n",
       "            <div style=\"font-family:ui-monospace, SFMono-Regular, Menlo, Monaco, Consolas, 'Liberation Mono', 'Courier New', monospace;\n",
       "                                color:#065F46;background:#ECFDF5;border:1px solid #A7F3D0;display:inline-block;\n",
       "                                padding:4px 8px;border-radius:6px;margin:2px 0;\">safety_cost: 1.15 → 51.09 (+4335.0%)</div>\n",
       "            "
      ],
      "text/plain": [
       "<IPython.core.display.HTML object>"
      ]
     },
     "metadata": {},
     "output_type": "display_data"
    }
   ],
   "source": [
    "def robustness_analysis():\n",
    "    \"\"\"Comprehensive robustness testing using utilities\"\"\"\n",
    "    from tutorials.utils import sweep_noise, plot_robustness_heatmap\n",
    "\n",
    "    greedy_policy = lambda obs: np.where(obs['demands'] > 0, 0.8, 0.0)\n",
    "    \n",
    "    # Already uses sweep_noise correctly - just simplify the visualization\n",
    "    full_sweep = sweep_noise(\n",
    "        policy_fn=greedy_policy,\n",
    "        make_env_fn=lambda **kw: EVChargingEnv(gen, project_action_in_env=True, **kw),\n",
    "        Ns=[0.0, 0.05, 0.1, 0.15, 0.2],\n",
    "        N_as=[0.0, 0.05, 0.1, 0.15, 0.2],\n",
    "        episodes=3,\n",
    "        show_progress=True  # default\n",
    "    )\n",
    "    \n",
    "    # Use built-in visualization\n",
    "    plot_robustness_heatmap(full_sweep, value='return_mean', title='Return Robustness')\n",
    "    plot_robustness_heatmap(full_sweep, value='safety_cost', title='Safety Cost Robustness')\n",
    "    \n",
    "    # Print summary stats\n",
    "    show(\"section: Robustness Summary\")\n",
    "    for metric in ['return_mean', 'safety_cost']:\n",
    "        baseline = full_sweep[(full_sweep.noise == 0) & (full_sweep.noise_action == 0)][metric].iloc[0]\n",
    "        worst = full_sweep[metric].min() if metric == 'return_mean' else full_sweep[metric].max()\n",
    "        show(f\"metric: {metric}: {baseline:.2f} → {worst:.2f} ({(worst-baseline)/baseline*100:+.1f}%)\")\n",
    "\n",
    "robustness_analysis()"
   ]
  },
  {
   "cell_type": "code",
   "execution_count": 16,
   "id": "d2d8f4c6",
   "metadata": {},
   "outputs": [
    {
     "data": {
      "text/html": [
       "\n",
       "            <div style=\"margin:0;padding:2px 6px;display:inline-block;border-left:4px solid #4F46E5;background:#F8FAFC;border-radius:6px;line-height:1.1;\">\n",
       "              <span style=\"font-weight:600;color:#1F2937;\">Environment Density Comparison</span>\n",
       "            </div>\n",
       "            "
      ],
      "text/plain": [
       "<IPython.core.display.HTML object>"
      ]
     },
     "metadata": {},
     "output_type": "display_data"
    },
    {
     "data": {
      "text/html": [
       "\n",
       "        <div style=\"margin:0;padding:6px 8px;border-radius:6px;border:1px solid #e5e7eb;background:#ffffff;display:block;line-height:1.15;\">\n",
       "          <div style=\"font-weight:700;color:#111827;margin-bottom:2px;\">Metrics</div>\n",
       "          <ul style=\"margin:0 0 0 10px;padding:0;color:#374151;list-style-position:inside;\"><li style='margin:2px 0;'><b>Regular - Mean active stations</b>: 7.375</li><li style='margin:2px 0;'><b>Regular - % steps with activity</b>: 63.2%</li><li style='margin:2px 0;'><b>Dense - Mean active stations</b>: 21.177</li><li style='margin:2px 0;'><b>Dense - % steps with activity</b>: 67.7%</li><li style='margin:2px 0;'><b>Density increase</b>: 2.9x</li></ul>\n",
       "        </div>\n",
       "        "
      ],
      "text/plain": [
       "<IPython.core.display.HTML object>"
      ]
     },
     "metadata": {},
     "output_type": "display_data"
    },
    {
     "name": "stdout",
     "output_type": "stream",
     "text": [
      "['profit', 'carbon_cost', 'excess_charge']\n"
     ]
    },
    {
     "data": {
      "text/html": [
       "\n",
       "            <div style=\"margin:0;padding:2px 6px;display:inline-block;border-left:4px solid #4F46E5;background:#F8FAFC;border-radius:6px;line-height:1.1;\">\n",
       "              <span style=\"font-weight:600;color:#1F2937;\">Step 0</span>\n",
       "            </div>\n",
       "            "
      ],
      "text/plain": [
       "<IPython.core.display.HTML object>"
      ]
     },
     "metadata": {},
     "output_type": "display_data"
    },
    {
     "data": {
      "text/html": [
       "\n",
       "        <div style=\"margin:0;padding:6px 8px;border-radius:6px;border:1px solid #e5e7eb;background:#ffffff;display:block;line-height:1.15;\">\n",
       "          <div style=\"font-weight:700;color:#111827;margin-bottom:2px;\">Metrics</div>\n",
       "          <ul style=\"margin:0 0 0 10px;padding:0;color:#374151;list-style-position:inside;\"><li style='margin:2px 0;'><b>Active stations</b>: 2</li><li style='margin:2px 0;'><b>Total demand before</b>: 16.825</li><li style='margin:2px 0;'><b>Total demand after</b>: 37.943</li><li style='margin:2px 0;'><b>Delivered (proxy)</b>: 0.901</li><li style='margin:2px 0;'><b>Reward</b>: 0.024</li><li style='margin:2px 0;'><b>Info keys</b>: [&#x27;max_profit&#x27;, &#x27;reward_breakdown&#x27;]</li></ul>\n",
       "        </div>\n",
       "        "
      ],
      "text/plain": [
       "<IPython.core.display.HTML object>"
      ]
     },
     "metadata": {},
     "output_type": "display_data"
    },
    {
     "name": "stdout",
     "output_type": "stream",
     "text": [
      "['profit', 'carbon_cost', 'excess_charge']\n"
     ]
    },
    {
     "data": {
      "text/html": [
       "\n",
       "            <div style=\"margin:0;padding:2px 6px;display:inline-block;border-left:4px solid #4F46E5;background:#F8FAFC;border-radius:6px;line-height:1.1;\">\n",
       "              <span style=\"font-weight:600;color:#1F2937;\">Step 1</span>\n",
       "            </div>\n",
       "            "
      ],
      "text/plain": [
       "<IPython.core.display.HTML object>"
      ]
     },
     "metadata": {},
     "output_type": "display_data"
    },
    {
     "data": {
      "text/html": [
       "\n",
       "        <div style=\"margin:0;padding:6px 8px;border-radius:6px;border:1px solid #e5e7eb;background:#ffffff;display:block;line-height:1.15;\">\n",
       "          <div style=\"font-weight:700;color:#111827;margin-bottom:2px;\">Metrics</div>\n",
       "          <ul style=\"margin:0 0 0 10px;padding:0;color:#374151;list-style-position:inside;\"><li style='margin:2px 0;'><b>Active stations</b>: 3</li><li style='margin:2px 0;'><b>Total demand before</b>: 37.943</li><li style='margin:2px 0;'><b>Total demand after</b>: 59.856</li><li style='margin:2px 0;'><b>Delivered (proxy)</b>: 1.317</li><li style='margin:2px 0;'><b>Reward</b>: 0.035</li><li style='margin:2px 0;'><b>Info keys</b>: [&#x27;max_profit&#x27;, &#x27;reward_breakdown&#x27;]</li></ul>\n",
       "        </div>\n",
       "        "
      ],
      "text/plain": [
       "<IPython.core.display.HTML object>"
      ]
     },
     "metadata": {},
     "output_type": "display_data"
    },
    {
     "name": "stdout",
     "output_type": "stream",
     "text": [
      "['profit', 'carbon_cost', 'excess_charge']\n"
     ]
    },
    {
     "data": {
      "text/html": [
       "\n",
       "            <div style=\"margin:0;padding:2px 6px;display:inline-block;border-left:4px solid #4F46E5;background:#F8FAFC;border-radius:6px;line-height:1.1;\">\n",
       "              <span style=\"font-weight:600;color:#1F2937;\">Step 2</span>\n",
       "            </div>\n",
       "            "
      ],
      "text/plain": [
       "<IPython.core.display.HTML object>"
      ]
     },
     "metadata": {},
     "output_type": "display_data"
    },
    {
     "data": {
      "text/html": [
       "\n",
       "        <div style=\"margin:0;padding:6px 8px;border-radius:6px;border:1px solid #e5e7eb;background:#ffffff;display:block;line-height:1.15;\">\n",
       "          <div style=\"font-weight:700;color:#111827;margin-bottom:2px;\">Metrics</div>\n",
       "          <ul style=\"margin:0 0 0 10px;padding:0;color:#374151;list-style-position:inside;\"><li style='margin:2px 0;'><b>Active stations</b>: 4</li><li style='margin:2px 0;'><b>Total demand before</b>: 59.856</li><li style='margin:2px 0;'><b>Total demand after</b>: 58.088</li><li style='margin:2px 0;'><b>Delivered (proxy)</b>: 1.768</li><li style='margin:2px 0;'><b>Reward</b>: 0.048</li><li style='margin:2px 0;'><b>Info keys</b>: [&#x27;max_profit&#x27;, &#x27;reward_breakdown&#x27;]</li></ul>\n",
       "        </div>\n",
       "        "
      ],
      "text/plain": [
       "<IPython.core.display.HTML object>"
      ]
     },
     "metadata": {},
     "output_type": "display_data"
    },
    {
     "name": "stdout",
     "output_type": "stream",
     "text": [
      "['profit', 'carbon_cost', 'excess_charge']\n"
     ]
    },
    {
     "data": {
      "text/html": [
       "\n",
       "            <div style=\"margin:0;padding:2px 6px;display:inline-block;border-left:4px solid #4F46E5;background:#F8FAFC;border-radius:6px;line-height:1.1;\">\n",
       "              <span style=\"font-weight:600;color:#1F2937;\">Step 3</span>\n",
       "            </div>\n",
       "            "
      ],
      "text/plain": [
       "<IPython.core.display.HTML object>"
      ]
     },
     "metadata": {},
     "output_type": "display_data"
    },
    {
     "data": {
      "text/html": [
       "\n",
       "        <div style=\"margin:0;padding:6px 8px;border-radius:6px;border:1px solid #e5e7eb;background:#ffffff;display:block;line-height:1.15;\">\n",
       "          <div style=\"font-weight:700;color:#111827;margin-bottom:2px;\">Metrics</div>\n",
       "          <ul style=\"margin:0 0 0 10px;padding:0;color:#374151;list-style-position:inside;\"><li style='margin:2px 0;'><b>Active stations</b>: 4</li><li style='margin:2px 0;'><b>Total demand before</b>: 58.088</li><li style='margin:2px 0;'><b>Total demand after</b>: 56.320</li><li style='margin:2px 0;'><b>Delivered (proxy)</b>: 1.768</li><li style='margin:2px 0;'><b>Reward</b>: 0.053</li><li style='margin:2px 0;'><b>Info keys</b>: [&#x27;max_profit&#x27;, &#x27;reward_breakdown&#x27;]</li></ul>\n",
       "        </div>\n",
       "        "
      ],
      "text/plain": [
       "<IPython.core.display.HTML object>"
      ]
     },
     "metadata": {},
     "output_type": "display_data"
    },
    {
     "name": "stdout",
     "output_type": "stream",
     "text": [
      "['profit', 'carbon_cost', 'excess_charge']\n"
     ]
    },
    {
     "data": {
      "text/html": [
       "\n",
       "            <div style=\"margin:0;padding:2px 6px;display:inline-block;border-left:4px solid #4F46E5;background:#F8FAFC;border-radius:6px;line-height:1.1;\">\n",
       "              <span style=\"font-weight:600;color:#1F2937;\">Step 4</span>\n",
       "            </div>\n",
       "            "
      ],
      "text/plain": [
       "<IPython.core.display.HTML object>"
      ]
     },
     "metadata": {},
     "output_type": "display_data"
    },
    {
     "data": {
      "text/html": [
       "\n",
       "        <div style=\"margin:0;padding:6px 8px;border-radius:6px;border:1px solid #e5e7eb;background:#ffffff;display:block;line-height:1.15;\">\n",
       "          <div style=\"font-weight:700;color:#111827;margin-bottom:2px;\">Metrics</div>\n",
       "          <ul style=\"margin:0 0 0 10px;padding:0;color:#374151;list-style-position:inside;\"><li style='margin:2px 0;'><b>Active stations</b>: 4</li><li style='margin:2px 0;'><b>Total demand before</b>: 56.320</li><li style='margin:2px 0;'><b>Total demand after</b>: 54.552</li><li style='margin:2px 0;'><b>Delivered (proxy)</b>: 1.768</li><li style='margin:2px 0;'><b>Reward</b>: 0.053</li><li style='margin:2px 0;'><b>Info keys</b>: [&#x27;max_profit&#x27;, &#x27;reward_breakdown&#x27;]</li></ul>\n",
       "        </div>\n",
       "        "
      ],
      "text/plain": [
       "<IPython.core.display.HTML object>"
      ]
     },
     "metadata": {},
     "output_type": "display_data"
    },
    {
     "name": "stdout",
     "output_type": "stream",
     "text": [
      "['profit', 'carbon_cost', 'excess_charge']\n"
     ]
    },
    {
     "data": {
      "text/html": [
       "\n",
       "            <div style=\"margin:0;padding:2px 6px;display:inline-block;border-left:4px solid #4F46E5;background:#F8FAFC;border-radius:6px;line-height:1.1;\">\n",
       "              <span style=\"font-weight:600;color:#1F2937;\">Step 5</span>\n",
       "            </div>\n",
       "            "
      ],
      "text/plain": [
       "<IPython.core.display.HTML object>"
      ]
     },
     "metadata": {},
     "output_type": "display_data"
    },
    {
     "data": {
      "text/html": [
       "\n",
       "        <div style=\"margin:0;padding:6px 8px;border-radius:6px;border:1px solid #e5e7eb;background:#ffffff;display:block;line-height:1.15;\">\n",
       "          <div style=\"font-weight:700;color:#111827;margin-bottom:2px;\">Metrics</div>\n",
       "          <ul style=\"margin:0 0 0 10px;padding:0;color:#374151;list-style-position:inside;\"><li style='margin:2px 0;'><b>Active stations</b>: 4</li><li style='margin:2px 0;'><b>Total demand before</b>: 54.552</li><li style='margin:2px 0;'><b>Total demand after</b>: 52.784</li><li style='margin:2px 0;'><b>Delivered (proxy)</b>: 1.768</li><li style='margin:2px 0;'><b>Reward</b>: 0.053</li><li style='margin:2px 0;'><b>Info keys</b>: [&#x27;max_profit&#x27;, &#x27;reward_breakdown&#x27;]</li></ul>\n",
       "        </div>\n",
       "        "
      ],
      "text/plain": [
       "<IPython.core.display.HTML object>"
      ]
     },
     "metadata": {},
     "output_type": "display_data"
    },
    {
     "name": "stdout",
     "output_type": "stream",
     "text": [
      "['profit', 'carbon_cost', 'excess_charge']\n"
     ]
    },
    {
     "data": {
      "text/html": [
       "\n",
       "            <div style=\"margin:0;padding:2px 6px;display:inline-block;border-left:4px solid #4F46E5;background:#F8FAFC;border-radius:6px;line-height:1.1;\">\n",
       "              <span style=\"font-weight:600;color:#1F2937;\">Step 6</span>\n",
       "            </div>\n",
       "            "
      ],
      "text/plain": [
       "<IPython.core.display.HTML object>"
      ]
     },
     "metadata": {},
     "output_type": "display_data"
    },
    {
     "data": {
      "text/html": [
       "\n",
       "        <div style=\"margin:0;padding:6px 8px;border-radius:6px;border:1px solid #e5e7eb;background:#ffffff;display:block;line-height:1.15;\">\n",
       "          <div style=\"font-weight:700;color:#111827;margin-bottom:2px;\">Metrics</div>\n",
       "          <ul style=\"margin:0 0 0 10px;padding:0;color:#374151;list-style-position:inside;\"><li style='margin:2px 0;'><b>Active stations</b>: 4</li><li style='margin:2px 0;'><b>Total demand before</b>: 52.784</li><li style='margin:2px 0;'><b>Total demand after</b>: 51.016</li><li style='margin:2px 0;'><b>Delivered (proxy)</b>: 1.768</li><li style='margin:2px 0;'><b>Reward</b>: 0.053</li><li style='margin:2px 0;'><b>Info keys</b>: [&#x27;max_profit&#x27;, &#x27;reward_breakdown&#x27;]</li></ul>\n",
       "        </div>\n",
       "        "
      ],
      "text/plain": [
       "<IPython.core.display.HTML object>"
      ]
     },
     "metadata": {},
     "output_type": "display_data"
    },
    {
     "name": "stdout",
     "output_type": "stream",
     "text": [
      "['profit', 'carbon_cost', 'excess_charge']\n"
     ]
    },
    {
     "data": {
      "text/html": [
       "\n",
       "            <div style=\"margin:0;padding:2px 6px;display:inline-block;border-left:4px solid #4F46E5;background:#F8FAFC;border-radius:6px;line-height:1.1;\">\n",
       "              <span style=\"font-weight:600;color:#1F2937;\">Step 7</span>\n",
       "            </div>\n",
       "            "
      ],
      "text/plain": [
       "<IPython.core.display.HTML object>"
      ]
     },
     "metadata": {},
     "output_type": "display_data"
    },
    {
     "data": {
      "text/html": [
       "\n",
       "        <div style=\"margin:0;padding:6px 8px;border-radius:6px;border:1px solid #e5e7eb;background:#ffffff;display:block;line-height:1.15;\">\n",
       "          <div style=\"font-weight:700;color:#111827;margin-bottom:2px;\">Metrics</div>\n",
       "          <ul style=\"margin:0 0 0 10px;padding:0;color:#374151;list-style-position:inside;\"><li style='margin:2px 0;'><b>Active stations</b>: 4</li><li style='margin:2px 0;'><b>Total demand before</b>: 51.016</li><li style='margin:2px 0;'><b>Total demand after</b>: 49.248</li><li style='margin:2px 0;'><b>Delivered (proxy)</b>: 1.768</li><li style='margin:2px 0;'><b>Reward</b>: 0.053</li><li style='margin:2px 0;'><b>Info keys</b>: [&#x27;max_profit&#x27;, &#x27;reward_breakdown&#x27;]</li></ul>\n",
       "        </div>\n",
       "        "
      ],
      "text/plain": [
       "<IPython.core.display.HTML object>"
      ]
     },
     "metadata": {},
     "output_type": "display_data"
    },
    {
     "name": "stdout",
     "output_type": "stream",
     "text": [
      "['profit', 'carbon_cost', 'excess_charge']\n"
     ]
    },
    {
     "data": {
      "text/html": [
       "\n",
       "            <div style=\"margin:0;padding:2px 6px;display:inline-block;border-left:4px solid #4F46E5;background:#F8FAFC;border-radius:6px;line-height:1.1;\">\n",
       "              <span style=\"font-weight:600;color:#1F2937;\">Step 8</span>\n",
       "            </div>\n",
       "            "
      ],
      "text/plain": [
       "<IPython.core.display.HTML object>"
      ]
     },
     "metadata": {},
     "output_type": "display_data"
    },
    {
     "data": {
      "text/html": [
       "\n",
       "        <div style=\"margin:0;padding:6px 8px;border-radius:6px;border:1px solid #e5e7eb;background:#ffffff;display:block;line-height:1.15;\">\n",
       "          <div style=\"font-weight:700;color:#111827;margin-bottom:2px;\">Metrics</div>\n",
       "          <ul style=\"margin:0 0 0 10px;padding:0;color:#374151;list-style-position:inside;\"><li style='margin:2px 0;'><b>Active stations</b>: 4</li><li style='margin:2px 0;'><b>Total demand before</b>: 49.248</li><li style='margin:2px 0;'><b>Total demand after</b>: 47.480</li><li style='margin:2px 0;'><b>Delivered (proxy)</b>: 1.768</li><li style='margin:2px 0;'><b>Reward</b>: 0.053</li><li style='margin:2px 0;'><b>Info keys</b>: [&#x27;max_profit&#x27;, &#x27;reward_breakdown&#x27;]</li></ul>\n",
       "        </div>\n",
       "        "
      ],
      "text/plain": [
       "<IPython.core.display.HTML object>"
      ]
     },
     "metadata": {},
     "output_type": "display_data"
    },
    {
     "name": "stdout",
     "output_type": "stream",
     "text": [
      "['profit', 'carbon_cost', 'excess_charge']\n"
     ]
    },
    {
     "data": {
      "text/html": [
       "\n",
       "            <div style=\"margin:0;padding:2px 6px;display:inline-block;border-left:4px solid #4F46E5;background:#F8FAFC;border-radius:6px;line-height:1.1;\">\n",
       "              <span style=\"font-weight:600;color:#1F2937;\">Step 9</span>\n",
       "            </div>\n",
       "            "
      ],
      "text/plain": [
       "<IPython.core.display.HTML object>"
      ]
     },
     "metadata": {},
     "output_type": "display_data"
    },
    {
     "data": {
      "text/html": [
       "\n",
       "        <div style=\"margin:0;padding:6px 8px;border-radius:6px;border:1px solid #e5e7eb;background:#ffffff;display:block;line-height:1.15;\">\n",
       "          <div style=\"font-weight:700;color:#111827;margin-bottom:2px;\">Metrics</div>\n",
       "          <ul style=\"margin:0 0 0 10px;padding:0;color:#374151;list-style-position:inside;\"><li style='margin:2px 0;'><b>Active stations</b>: 4</li><li style='margin:2px 0;'><b>Total demand before</b>: 47.480</li><li style='margin:2px 0;'><b>Total demand after</b>: 45.712</li><li style='margin:2px 0;'><b>Delivered (proxy)</b>: 1.768</li><li style='margin:2px 0;'><b>Reward</b>: 0.053</li><li style='margin:2px 0;'><b>Info keys</b>: [&#x27;max_profit&#x27;, &#x27;reward_breakdown&#x27;]</li></ul>\n",
       "        </div>\n",
       "        "
      ],
      "text/plain": [
       "<IPython.core.display.HTML object>"
      ]
     },
     "metadata": {},
     "output_type": "display_data"
    },
    {
     "data": {
      "image/png": "[encoded data removed]",
      "text/plain": [
       "<Figure size 1200x400 with 2 Axes>"
      ]
     },
     "metadata": {},
     "output_type": "display_data"
    }
   ],
   "source": [
    "# 1. Compare environment configurations\n",
    "def debug_environment_density():\n",
    "    \"\"\"Check if dense mode actually increases event density\"\"\"\n",
    "    \n",
    "    # Regular environment\n",
    "    env_regular = EVChargingEnv(gen, project_action_in_env=True)\n",
    "    \n",
    "    # Dense environment\n",
    "    env_dense = create_ev_env(flatten=False, dense_mode=True, density_multiplier=EVAL_CFG.density_multiplier)\n",
    "    \n",
    "    # Count active stations over time\n",
    "    def count_activity(env, steps=288):\n",
    "        obs, _ = env.reset(seed=42)\n",
    "        active_counts = []\n",
    "        for _ in range(steps):\n",
    "            active = np.sum(obs['demands'] > 0)\n",
    "            active_counts.append(active)\n",
    "            obs, _, done, _, _ = env.step(np.zeros(env.num_stations))\n",
    "            if done:\n",
    "                break\n",
    "        return np.array(active_counts)\n",
    "    \n",
    "    regular_activity = count_activity(env_regular)\n",
    "    dense_activity = count_activity(env_dense)\n",
    "    \n",
    "    show(\"section: Environment Density Comparison\")\n",
    "    show_metrics({\n",
    "        'Regular - Mean active stations': float(np.mean(regular_activity)),\n",
    "        'Regular - % steps with activity': f\"{100*np.mean(regular_activity > 0):.1f}%\",\n",
    "        'Dense - Mean active stations': float(np.mean(dense_activity)),\n",
    "        'Dense - % steps with activity': f\"{100*np.mean(dense_activity > 0):.1f}%\",\n",
    "        'Density increase': f\"{np.mean(dense_activity)/max(np.mean(regular_activity), 0.01):.1f}x\"\n",
    "    })\n",
    "    \n",
    "    # Plot comparison\n",
    "    quick_plot({\n",
    "        'layout': '1x2', 'size': (12, 4),\n",
    "        'plots': [\n",
    "            {'type': 'line', 'x': np.arange(len(regular_activity)), 'y': regular_activity,\n",
    "             'title': 'Regular Environment', 'ylabel': 'Active Stations'},\n",
    "            {'type': 'line', 'x': np.arange(len(dense_activity)), 'y': dense_activity,\n",
    "             'title': 'Dense Environment', 'ylabel': 'Active Stations'}\n",
    "        ]\n",
    "    })\n",
    "\n",
    "# 2. Debug the satisfaction calculation\n",
    "def debug_satisfaction_calculation():\n",
    "    \"\"\"Check why satisfaction shows 0% in strategy comparison\"\"\"\n",
    "    \n",
    "    env = create_ev_env(flatten=False, dense_mode=True)\n",
    "    obs, _ = env.reset(seed=0)\n",
    "    \n",
    "    # Use seek to get to active period\n",
    "    obs, _, _ = seek_to_active(env, key='demands', max_seek=400)\n",
    "    \n",
    "    # Run a few steps with greedy policy\n",
    "    for step in range(10):\n",
    "        demands_before = obs['demands'].copy()\n",
    "        action = np.where(demands_before > 0, 0.8, 0.0)\n",
    "        obs_next, reward, _, _, info = env.step(action)\n",
    "        demands_after = obs_next['demands']\n",
    "        \n",
    "        # Calculate delivered energy\n",
    "        delivered = np.maximum(0, demands_before - demands_after)\n",
    "        # In debug_satisfaction_calculation, add:\n",
    "        if 'reward_breakdown' in info:\n",
    "            rb = info['reward_breakdown']\n",
    "            show(f\"Reward breakdown keys: {list(rb.keys())}\")\n",
    "            if 'delivered_energy' in rb or 'satisfaction' in rb:\n",
    "                show(f\"True metrics available: {rb}\")\n",
    "        show(f\"section: Step {step}\")\n",
    "        show_metrics({\n",
    "            'Active stations': int(np.sum(demands_before > 0)),\n",
    "            'Total demand before': float(np.sum(demands_before)),\n",
    "            'Total demand after': float(np.sum(demands_after)),\n",
    "            'Delivered (proxy)': float(np.sum(delivered)),\n",
    "            'Reward': float(reward),\n",
    "            'Info keys': list(info.keys()) if isinstance(info, dict) else 'Not a dict'\n",
    "        })\n",
    "        \n",
    "        obs = obs_next\n",
    "        if np.sum(demands_before) == 0:\n",
    "            break\n",
    "\n",
    "# Run the debugging\n",
    "debug_environment_density()\n",
    "debug_satisfaction_calculation()"
   ]
  },
  {
   "cell_type": "markdown",
   "id": "6bc13a0f",
   "metadata": {},
   "source": [
    "## Key Takeaways\n",
    "\n",
    "- **Safety constraints fundamentally change the learning problem** - Unlike soft penalties, hard constraints create discontinuous feasible regions that require specialized handling (projection, barrier methods, or safe exploration strategies). This applies to any cyber-physical system with infrastructure limits.\n",
    "\n",
    "- **Multi-objective optimization reveals preference trade-offs** - The inherent tension between competing objectives (profit/emissions/safety) cannot be resolved without explicit weighting choices. This is universal in real-world control where multiple stakeholders exist.\n",
    "\n",
    "- **Robustness must be designed in, not added later** - Performance under noise/uncertainty often diverges significantly from nominal conditions. Testing with distribution shift should be part of the development cycle, not validation.\n",
    "\n",
    "- **Domain knowledge shapes reward engineering** - The EV charging context provides natural structure (time-varying carbon intensity, departure deadlines) that informed agents can exploit. Similar temporal patterns exist in many infrastructure systems (power grids, traffic networks, data centers).\n",
    "\n",
    "*The EV charging environment serves as a concrete instantiation of these principles, but the insights apply broadly to safe RL in cyber-physical systems where safety, robustness, and multi-agent coordination are critical.*"
   ]
  },
  {
   "cell_type": "markdown",
   "id": "a0bb502f",
   "metadata": {},
   "source": [
    "## What's Next\n",
    "\n",
    "**Tutorial 02: Baselines and Trajectories** — Establish classical control strategies (Greedy, Random, MPC, Offline Optimal) and create performance benchmarks for comparing learning-based approaches."
   ]
  },
  {
   "cell_type": "markdown",
   "id": "8ed87157",
   "metadata": {},
   "source": [
    "## Acknowledgments\n",
    "\n",
    "This tutorial series builds on:\n",
    "- **[SustainGym](https://chrisyeh96.github.io/sustaingym/)** ([Yeh et al., NeurIPS 2023](https://openreview.net/forum?id=vZ9tA3o3hr)) — Base EV charging environment, adapted with robustness wrappers\n",
    "- **[ACN-Data/Sim](https://github.com/zach401/acnportal)** ([Lee et al., 2019](https://doi.org/10.1145/3307772.3331015)) — Real charging session data from Caltech\n",
    "- **[Robust-Gymnasium](https://github.com/SafeRL-Lab/Robust-Gymnasium)** ([Gu et al., ICLR 2025](https://openreview.net/forum?id=example)) — Robustness testing framework\n",
    "- **[WattTime](https://www.watttime.org/)** / [CA SGIP](https://www.selfgenca.com/) — Marginal operating emissions rates data\n",
    "\n",
    "**Survey:** Jin, M. (2025). [RL Meets the Power Grid](https://jinming.tech/assets/pdfs/2025-fnt-safe-rl-power-grid-survey.pdf). *Foundations and Trends in Electric Energy Systems*.  \n",
    "*If you find these tutorials helpful, please consider citing the survey.*\n",
    "\n",
    "**Note:** AI-assisted tools were used in developing these materials for clarity and code generation.\n"
   ]
  }
 ],
 "metadata": {
  "jupytext": {
   "cell_metadata_filter": "-all",
   "formats": "ipynb,py:percent",
   "main_language": "python",
   "notebook_metadata_filter": "-kernelspec,-language_info"
  },
  "kernelspec": {
   "display_name": "Python (gridguardian)",
   "language": "python",
   "name": "gridguardian"
  },
  "language_info": {
   "codemirror_mode": {
    "name": "ipython",
    "version": 3
   },
   "file_extension": ".py",
   "mimetype": "text/x-python",
   "name": "python",
   "nbconvert_exporter": "python",
   "pygments_lexer": "ipython3",
   "version": "3.9.6"
  }
 },
 "nbformat": 4,
 "nbformat_minor": 5
}
