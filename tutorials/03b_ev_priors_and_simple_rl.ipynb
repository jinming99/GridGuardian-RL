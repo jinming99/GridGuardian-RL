{
 "cells": [
  {
   "cell_type": "markdown",
   "id": "4aebea60",
   "metadata": {},
   "source": [
    "# Tutorial 03b: From Failure to Success — The Power of Priors\n",
    "\n",
    "In Tutorial 03, we saw that standard deep RL (e.g., PPO) with large neural networks\n",
    "can struggle to outperform simple baselines on EV charging. In this sequel, we\n",
    "show how to leverage domain priors to achieve stronger performance with a fraction\n",
    "of the parameters — and better robustness.\n",
    "\n",
    "**Key idea:** encode structure (what to do), learn only a few critical thresholds (how much).\n",
    "We compare against the Greedy baseline used in Tutorial 02."
   ]
  },
  {
   "cell_type": "code",
   "execution_count": 13,
   "id": "484d3f29",
   "metadata": {},
   "outputs": [
    {
     "data": {
      "text/html": [
       "\n",
       "            <div style=\"font-family:ui-monospace, SFMono-Regular, Menlo, Monaco, Consolas, 'Liberation Mono', 'Courier New', monospace;\n",
       "                                color:#065F46;background:#ECFDF5;border:1px solid #A7F3D0;display:inline-block;\n",
       "                                padding:4px 8px;border-radius:6px;margin:2px 0;\">Using device: mps</div>\n",
       "            "
      ],
      "text/plain": [
       "<IPython.core.display.HTML object>"
      ]
     },
     "metadata": {},
     "output_type": "display_data"
    }
   ],
   "source": [
    "# Standard setup and imports\n",
    "import sys\n",
    "from pathlib import Path\n",
    "\n",
    "try:\n",
    "    nb_dir = Path(__file__).parent\n",
    "except NameError:\n",
    "    nb_dir = Path.cwd()\n",
    "\n",
    "repo_root = nb_dir.parent  # tutorials/ -> repo root\n",
    "if str(repo_root) not in sys.path:\n",
    "    sys.path.insert(0, str(repo_root))\n",
    "\n",
    "import numpy as np\n",
    "import pandas as pd\n",
    "import torch\n",
    "import torch.nn as nn\n",
    "import torch.nn.functional as F\n",
    "import matplotlib.pyplot as plt\n",
    "from dataclasses import dataclass\n",
    "from typing import Callable, Dict, Any, Optional, Tuple, List\n",
    "\n",
    "# Tutorial utilities (single import hub)\n",
    "from tutorials.utils import (\n",
    "    # Notebook helpers\n",
    "    show, show_metrics, quick_plot,\n",
    "    # Env factory and planning config\n",
    "    create_ev_env, PlanningEvalConfig, get_planning_eval_env_fn, apply_wrappers,\n",
    "    # Baselines and wrappers\n",
    "    GreedyAlgorithm, wrap_policy,\n",
    "    DepartureUncertaintyWrapper, GrowingForecastErrorWrapper, CarbonEmphasisWrapper, DemandChargeWrapper,\n",
    "    # Eval helpers\n",
    "    evaluate_policy, rollout_to_trajectory,\n",
    "    # Shapes\n",
    "    get_obs_shape, get_action_dim,\n",
    "    # Vector envs\n",
    "    make_vec_envs,\n",
    ")\n",
    "\n",
    "# Device selection (CUDA/MPS/CPU)\n",
    "if torch.cuda.is_available():\n",
    "    device = torch.device(\"cuda\")\n",
    "elif hasattr(torch.backends, \"mps\") and torch.backends.mps.is_available():\n",
    "    device = torch.device(\"mps\")\n",
    "else:\n",
    "    device = torch.device(\"cpu\")\n",
    "show(\"metric: Using device: {device}\", device=device)"
   ]
  },
  {
   "cell_type": "markdown",
   "id": "a14ddce3",
   "metadata": {},
   "source": [
    "## 1. Standardized Evaluation Environment\n",
    "\n",
    "We reuse the planning-friendly evaluation settings introduced in Tutorials 02/03\n",
    "to keep comparisons consistent. We construct a single evaluation environment with\n",
    "dict observations (used by our simple/prior policies). For robustness sweeps, we\n",
    "expose `noise` and `noise_action` at construction.\n",
    "\n",
    "Notation note: throughout this tutorial, actions are normalized charging rates\n",
    "$\\boldsymbol{\\rho}^{\\text{rate}}\\in[0,1]^N$ (often called the \"pilot\"). Hardware maps\n",
    "these to currents via the per‑station maximum $I^{\\text{max}}=32\\,\\text{A}$."
   ]
  },
  {
   "cell_type": "code",
   "execution_count": 14,
   "id": "4934b57e",
   "metadata": {
    "lines_to_next_cell": 1
   },
   "outputs": [
    {
     "data": {
      "text/html": [
       "\n",
       "            <div style=\"margin:0;padding:2px 6px;display:inline-block;border-left:4px solid #4F46E5;background:#F8FAFC;border-radius:6px;line-height:1.1;\">\n",
       "              <span style=\"font-weight:600;color:#1F2937;\">Evaluation Environment Settings</span>\n",
       "            </div>\n",
       "            "
      ],
      "text/plain": [
       "<IPython.core.display.HTML object>"
      ]
     },
     "metadata": {},
     "output_type": "display_data"
    },
    {
     "data": {
      "text/html": [
       "\n",
       "        <div style=\"margin:0;padding:6px 8px;border-radius:6px;border:1px solid #e5e7eb;background:#ffffff;display:block;line-height:1.15;\">\n",
       "          <div style=\"font-weight:700;color:#111827;margin-bottom:2px;\">Standardized Evaluation Settings</div>\n",
       "          <ul style=\"margin:0 0 0 10px;padding:0;color:#374151;list-style-position:inside;\"><li style='margin:2px 0;'><b>Density multiplier</b>: 3.000</li><li style='margin:2px 0;'><b>Violation weight</b>: 0.050</li><li style='margin:2px 0;'><b>Carbon multiplier</b>: 0.300</li><li style='margin:2px 0;'><b>Departure ext (steps)</b>: 24</li><li style='margin:2px 0;'><b>Forecast error enabled</b>: True</li><li style='margin:2px 0;'><b>Demand charge enabled</b>: False</li></ul>\n",
       "        </div>\n",
       "        "
      ],
      "text/plain": [
       "<IPython.core.display.HTML object>"
      ]
     },
     "metadata": {},
     "output_type": "display_data"
    }
   ],
   "source": [
    "EVAL_CFG = PlanningEvalConfig(\n",
    "    density_multiplier=3.0,\n",
    "    violation_weight=0.05,\n",
    "    carbon_multiplier=0.3,\n",
    "    departure_extension_steps=24,\n",
    "    enable_forecast_error=True,\n",
    "    enable_demand_charge=False,\n",
    "    demand_charge_per_kw=200.0,\n",
    "    seed=42,\n",
    ")\n",
    "\n",
    "# Build a planning-friendly env using the same structure as get_planning_eval_env_fn,\n",
    "# but allowing us to pass noise and flatten as needed.\n",
    "\n",
    "def make_eval_env(*, flatten: bool = False, noise: float = 0.0, noise_action: float = 0.0):\n",
    "    base = create_ev_env(\n",
    "        site='caltech',\n",
    "        date_range=('2019-05-01', '2019-08-31'),\n",
    "        seed=EVAL_CFG.seed,\n",
    "        flatten=flatten,\n",
    "        moer_forecast_steps=36,\n",
    "        project_action_in_env=False,\n",
    "        dense_mode=True,\n",
    "        density_multiplier=EVAL_CFG.density_multiplier,\n",
    "        violation_weight=EVAL_CFG.violation_weight,\n",
    "        noise=noise,\n",
    "        noise_action=noise_action,\n",
    "    )\n",
    "    wrappers = [\n",
    "        (CarbonEmphasisWrapper, {'multiplier': EVAL_CFG.carbon_multiplier}),\n",
    "        (DepartureUncertaintyWrapper, {\n",
    "            'uncertainty_mode': 'optimistic_bias',\n",
    "            'params': {'avg_extension_steps': int(EVAL_CFG.departure_extension_steps)},\n",
    "            'rng_seed': int(EVAL_CFG.seed) + 1,\n",
    "        }),\n",
    "    ]\n",
    "    if EVAL_CFG.enable_forecast_error:\n",
    "        wrappers.append((GrowingForecastErrorWrapper, {\n",
    "            'error_model': 'linear_growth',\n",
    "            'params': {'linear_scale': 0.0075},\n",
    "            'rng_seed': int(EVAL_CFG.seed) + 2,\n",
    "        }))\n",
    "    if EVAL_CFG.enable_demand_charge:\n",
    "        wrappers.append((DemandChargeWrapper, {\n",
    "            'charge_per_kw': float(EVAL_CFG.demand_charge_per_kw),\n",
    "            'window_minutes': 15,\n",
    "            'expose_peak_in_obs': False,\n",
    "        }))\n",
    "    return apply_wrappers(base, wrappers)\n",
    "\n",
    "# Factories\n",
    "make_env_dict = lambda: make_eval_env(flatten=False)\n",
    "\n",
    "show(\"section: Evaluation Environment Settings\")\n",
    "show_metrics({\n",
    "    'Density multiplier': EVAL_CFG.density_multiplier,\n",
    "    'Violation weight': EVAL_CFG.violation_weight,\n",
    "    'Carbon multiplier': EVAL_CFG.carbon_multiplier,\n",
    "    'Departure ext (steps)': EVAL_CFG.departure_extension_steps,\n",
    "    'Forecast error enabled': EVAL_CFG.enable_forecast_error,\n",
    "    'Demand charge enabled': EVAL_CFG.enable_demand_charge,\n",
    "}, title='Standardized Evaluation Settings')"
   ]
  },
  {
   "cell_type": "markdown",
   "id": "b0b208d2",
   "metadata": {},
   "source": [
    "## 2. Policies Under Test\n",
    "\n",
    "We compare:\n",
    "- Greedy baseline (0 learned params)\n",
    "- Learnable Greedy (4 params)\n",
    "- Shared Linear Policy (4 shared params across stations)\n",
    "- Memory-Augmented Greedy (5 params + 1 state)\n",
    "\n",
    "All prior-based policies operate on dict observations for clarity."
   ]
  },
  {
   "cell_type": "code",
   "execution_count": 15,
   "id": "07695e9b",
   "metadata": {
    "lines_to_next_cell": 1
   },
   "outputs": [],
   "source": [
    "# Helper: extract signals safely from dict observations\n",
    "\n",
    "def _extract_demands(obs: Any) -> np.ndarray:\n",
    "    if isinstance(obs, dict) and ('demands' in obs):\n",
    "        return np.asarray(obs['demands'], dtype=float).reshape(-1)\n",
    "    return np.zeros(1, dtype=float)\n",
    "\n",
    "def _extract_moer(obs: Any) -> float:\n",
    "    # Prefer previous (current) MOER if exposed\n",
    "    if isinstance(obs, dict):\n",
    "        try:\n",
    "            if 'prev_moer' in obs and len(obs['prev_moer']) > 0:\n",
    "                return float(np.asarray(obs['prev_moer'])[0])\n",
    "            # Fallback: first forecast step\n",
    "            if 'forecasted_moer' in obs and len(obs['forecasted_moer']) > 0:\n",
    "                return float(np.asarray(obs['forecasted_moer'])[0])\n",
    "        except Exception:\n",
    "            pass\n",
    "    return 0.5\n",
    "\n",
    "def _features_from_obs(obs: Any) -> Tuple[torch.Tensor, torch.Tensor]:\n",
    "    \"\"\"Return (station_features, base_mask) for one dict observation.\n",
    "    station_features: [n_stations, 3] = [active, demand, moer]\n",
    "    base_mask: [n_stations] in [0,1]\n",
    "    \"\"\"\n",
    "    d = _extract_demands(obs)\n",
    "    m = _extract_moer(obs)\n",
    "    active = (d > 0).astype(float)\n",
    "    feats = np.stack([active, d, np.full_like(d, m)], axis=-1).astype(np.float32)\n",
    "    # Default thresholds (actor has learnable ones and will override effectively)\n",
    "    dt, mt, cr, ub = 0.1, 0.5, 0.7, 2.0\n",
    "    has_demand = 1.0 / (1.0 + np.exp(-(d - dt) * 10.0))\n",
    "    low_carbon = 1.0 / (1.0 + np.exp(-((mt - m) * 10.0)))\n",
    "    urgency = 1.0 / (1.0 + np.exp(-(ub * d)))\n",
    "    base = np.clip(has_demand * low_carbon * (cr * urgency), 0.0, 1.0).astype(np.float32)\n",
    "    return torch.from_numpy(feats), torch.from_numpy(base)\n",
    "\n",
    "# --- Prior-based minimal policies (few parameters) ---\n",
    "\n",
    "@dataclass\n",
    "class LearnableGreedy:\n",
    "    demand_threshold: float = 0.1\n",
    "    moer_threshold: float = 0.5\n",
    "    charge_rate: float = 0.7\n",
    "    urgency_boost: float = 2.0\n",
    "\n",
    "    def get_action(self, obs: Any) -> np.ndarray:\n",
    "        d = _extract_demands(obs)\n",
    "        m = _extract_moer(obs)\n",
    "        has_demand = 1.0 / (1.0 + np.exp(-(d - self.demand_threshold) * 10.0))\n",
    "        low_carbon = 1.0 / (1.0 + np.exp(-((self.moer_threshold - m) * 10.0)))\n",
    "        urgency = 1.0 / (1.0 + np.exp(-(self.urgency_boost * d)))\n",
    "        action = has_demand * low_carbon * (self.charge_rate * urgency)\n",
    "        return np.clip(action, 0.0, 1.0)\n",
    "\n",
    "    def describe(self) -> Dict[str, float]:\n",
    "        return {\n",
    "            'demand_threshold': self.demand_threshold,\n",
    "            'moer_threshold': self.moer_threshold,\n",
    "            'charge_rate': self.charge_rate,\n",
    "            'urgency_boost': self.urgency_boost,\n",
    "        }\n",
    "\n",
    "    def parameter_count(self) -> int:\n",
    "        return 4\n",
    "\n",
    "@dataclass\n",
    "class SharedLinearPolicy:\n",
    "    # Shared linear model per station: sigmoid(w0 + w1*active + w2*demand + w3*moer)\n",
    "    w0: float = -1.0\n",
    "    w1: float = 1.0\n",
    "    w2: float = 2.0\n",
    "    w3: float = -1.0\n",
    "\n",
    "    def get_action(self, obs: Any) -> np.ndarray:\n",
    "        d = _extract_demands(obs)\n",
    "        m = _extract_moer(obs)\n",
    "        active = (d > 0).astype(float)\n",
    "        z = self.w0 + self.w1 * active + self.w2 * d + self.w3 * m\n",
    "        action = 1.0 / (1.0 + np.exp(-z))\n",
    "        return np.clip(action, 0.0, 1.0)\n",
    "\n",
    "    def describe(self) -> Dict[str, float]:\n",
    "        return {'w0': self.w0, 'w1': self.w1, 'w2': self.w2, 'w3': self.w3}\n",
    "\n",
    "    def parameter_count(self) -> int:\n",
    "        return 4\n",
    "\n",
    "@dataclass\n",
    "class MemoryAugmentedGreedy:\n",
    "    demand_threshold: float = 0.1\n",
    "    moer_base_threshold: float = 0.5\n",
    "    memory_weight: float = 0.3    # EMA weight\n",
    "    trend_sensitivity: float = 1.0\n",
    "    charge_rate: float = 0.8\n",
    "\n",
    "    # Internal state (not a parameter)\n",
    "    moer_ema: float = 0.5\n",
    "\n",
    "    def reset_memory(self):\n",
    "        self.moer_ema = 0.5\n",
    "\n",
    "    def get_action(self, obs: Any) -> np.ndarray:\n",
    "        d = _extract_demands(obs)\n",
    "        m = _extract_moer(obs)\n",
    "        # Update EMA of MOER\n",
    "        self.moer_ema = float(self.memory_weight * m + (1.0 - self.memory_weight) * self.moer_ema)\n",
    "        moer_trend = m - self.moer_ema\n",
    "        adaptive_thr = self.moer_base_threshold - self.trend_sensitivity * moer_trend\n",
    "        has_demand = 1.0 / (1.0 + np.exp(-(d - self.demand_threshold) * 10.0))\n",
    "        low_carbon = 1.0 / (1.0 + np.exp(-((adaptive_thr - m) * 10.0)))\n",
    "        action = has_demand * low_carbon * self.charge_rate\n",
    "        return np.clip(action, 0.0, 1.0)\n",
    "\n",
    "    def describe(self) -> Dict[str, float]:\n",
    "        return {\n",
    "            'demand_threshold': self.demand_threshold,\n",
    "            'moer_base_threshold': self.moer_base_threshold,\n",
    "            'memory_weight': self.memory_weight,\n",
    "            'trend_sensitivity': self.trend_sensitivity,\n",
    "            'charge_rate': self.charge_rate,\n",
    "        }\n",
    "\n",
    "    def parameter_count(self) -> int:\n",
    "        return 5"
   ]
  },
  {
   "cell_type": "markdown",
   "id": "bf5394d8",
   "metadata": {},
   "source": [
    "## 3. Simple Random Local Search for Parameter Optimization\n",
    "\n",
    "We use random local search (hill climbing) to optimize the few learnable parameters of our prior-based policies—a robust gradient-free method well-suited for small parameter spaces.\n",
    "\n",
    "### Algorithm Description\n",
    "\n",
    "Given policy parameters $\\boldsymbol{\\theta} \\in \\mathbb{R}^d$ where $d \\in \\{4, 5\\}$, we maintain a center point $\\boldsymbol{\\theta}_{\\text{best}}$ initialized from domain knowledge.\n",
    "\n",
    "**Candidate Generation:** At iteration $t$, sample $K = 8$ candidates:\n",
    "$$\\boldsymbol{\\theta}^{(k)} = \\boldsymbol{\\theta}_{\\text{best}} + \\boldsymbol{\\epsilon}^{(k)}, \\quad \\boldsymbol{\\epsilon}^{(k)} \\sim \\mathcal{N}(0, \\sigma^2 \\mathbf{I})$$\n",
    "where $\\sigma = 0.075$ controls exploration.\n",
    "\n",
    "**Evaluation:** Each candidate is evaluated over $E = 3$ episodes ($H = 288$ steps) using:\n",
    "$$J(\\boldsymbol{\\theta}) = R(\\boldsymbol{\\theta}) - \\alpha \\cdot C(\\boldsymbol{\\theta})$$\n",
    "where $R(\\boldsymbol{\\theta})$ = mean return, $C(\\boldsymbol{\\theta})$ = mean safety cost, $\\alpha = 0.7$.\n",
    "\n",
    "**Update Rule:** Winner-take-all strategy:\n",
    "$$\\boldsymbol{\\theta}_{\\text{best}} \\leftarrow \\begin{cases}\n",
    "\\arg\\max_{\\boldsymbol{\\theta}^{(k)}} J(\\boldsymbol{\\theta}^{(k)}) & \\text{if } \\max_k J(\\boldsymbol{\\theta}^{(k)}) > J(\\boldsymbol{\\theta}_{\\text{best}}) \\\\\n",
    "\\boldsymbol{\\theta}_{\\text{best}} & \\text{otherwise}\n",
    "\\end{cases}$$\n",
    "\n",
    "**Parameter Bounds:** \n",
    "- Demand threshold: $[-0.5, 1.5]$\n",
    "- MOER threshold: $[0.0, 2.0]$  \n",
    "- Charge rate: $[0.0, 1.5]$\n",
    "- Urgency boost: $[0.0, 5.0]$\n",
    "\n",
    "### Efficiency\n",
    "\n",
    "Unlike [Augmented Random Search (ARS)](https://papers.nips.cc/paper_files/paper/2018/hash/7634ea65a4e6d9041cfd3f7de18e334a-Abstract.html) which uses finite differences and weighted averaging, or [Evolutionary Search methods as applied in the winning solution to the 2021 CityLearn Challenge](https://ojs.aaai.org/index.php/AAAI/article/view/26671/26443), our simpler approach is more sample-efficient for small parameter spaces. The algorithm typically uses orders of magnitude fewer than standard deep RL methods require for similar domains."
   ]
  },
  {
   "cell_type": "code",
   "execution_count": 16,
   "id": "2bd3e94a",
   "metadata": {
    "lines_to_next_cell": 1
   },
   "outputs": [],
   "source": [
    "@dataclass\n",
    "class TuneConfig:\n",
    "    iterations: int = 40\n",
    "    candidates_per_iter: int = 8\n",
    "    episodes: int = 2\n",
    "    horizon: int = 288\n",
    "    noise_scale: float = 0.1\n",
    "    seed: int = 123\n",
    "\n",
    "rng_global = np.random.default_rng(123)\n",
    "\n",
    "\n",
    "def _sample_params(center: Dict[str, float], noise_scale: float) -> Dict[str, float]:\n",
    "    out = {}\n",
    "    for k, v in center.items():\n",
    "        out[k] = float(v + rng_global.normal(0.0, noise_scale))\n",
    "    return out\n",
    "\n",
    "\n",
    "def _assign_params(policy_obj: Any, params: Dict[str, float]) -> None:\n",
    "    for k, v in params.items():\n",
    "        if hasattr(policy_obj, k):\n",
    "            setattr(policy_obj, k, float(v))\n",
    "\n",
    "\n",
    "def _clip_params(params: Dict[str, float]) -> Dict[str, float]:\n",
    "    \"\"\"Clamp parameter proposals to reasonable bounds to keep tuning stable.\n",
    "    Bounds chosen to allow greedy-like behavior but prevent extreme values.\n",
    "    \"\"\"\n",
    "    bounds = {\n",
    "        # LearnableGreedy\n",
    "        'demand_threshold': (-0.5, 1.5),\n",
    "        'moer_threshold': (0.0, 2.0),\n",
    "        'charge_rate': (0.0, 1.5),\n",
    "        'urgency_boost': (0.0, 5.0),\n",
    "        # SharedLinearPolicy\n",
    "        'w0': (-5.0, 5.0),\n",
    "        'w1': (-5.0, 5.0),\n",
    "        'w2': (-5.0, 5.0),\n",
    "        'w3': (-5.0, 5.0),\n",
    "        # MemoryAugmentedGreedy\n",
    "        'moer_base_threshold': (0.0, 2.0),\n",
    "        'memory_weight': (0.0, 1.0),\n",
    "        'trend_sensitivity': (0.0, 5.0),\n",
    "    }\n",
    "    clipped = {}\n",
    "    for k, v in params.items():\n",
    "        if k in bounds:\n",
    "            lo, hi = bounds[k]\n",
    "            clipped[k] = float(np.clip(v, lo, hi))\n",
    "        else:\n",
    "            clipped[k] = float(v)\n",
    "    return clipped\n",
    "\n",
    "\n",
    "def tune_policy(\n",
    "    policy_obj: Any,\n",
    "    make_env_fn: Callable[[], Any],\n",
    "    cfg: TuneConfig,\n",
    "    alpha: float = 0.7,\n",
    "    milestones: Optional[List[int]] = None,\n",
    ") -> Tuple[Any, pd.DataFrame]:\n",
    "    rng = np.random.default_rng(cfg.seed)\n",
    "    history: List[Dict[str, Any]] = []\n",
    "\n",
    "    # Center at current params\n",
    "    center = dict(policy_obj.describe()) if hasattr(policy_obj, 'describe') else {}\n",
    "    best_params = dict(center)\n",
    "\n",
    "    # Evaluate current\n",
    "    def _evaluate_current(obj):\n",
    "        # Ensure any internal memory/state is reset for fair, comparable trials\n",
    "        try:\n",
    "            if hasattr(obj, 'reset_memory') and callable(getattr(obj, 'reset_memory')):\n",
    "                obj.reset_memory()  # type: ignore\n",
    "        except Exception:\n",
    "            pass\n",
    "        mean_ret, std_ret, mean_cost, _m = evaluate_policy(\n",
    "            policy_fn=obj.get_action, make_env_fn=make_env_fn,\n",
    "            episodes=cfg.episodes, horizon=cfg.horizon,\n",
    "            track_metrics=['satisfaction', 'components', 'actions'], verbose=False)\n",
    "        return mean_ret, mean_cost\n",
    "\n",
    "    best_score_ret, best_score_cost = _evaluate_current(policy_obj)\n",
    "    if milestones is None:\n",
    "        # Default sparse milestones over iterations\n",
    "        q1 = max(1, cfg.iterations // 4)\n",
    "        q2 = max(1, cfg.iterations // 2)\n",
    "        milestones = [1, q1, q2, cfg.iterations]\n",
    "\n",
    "    for it in range(cfg.iterations):\n",
    "        candidates: List[Tuple[Dict[str, float], float, float]] = []\n",
    "        for _ in range(cfg.candidates_per_iter):\n",
    "            trial = _sample_params(best_params, cfg.noise_scale)\n",
    "            _assign_params(policy_obj, trial)\n",
    "            # Reset internal memory/state before each candidate evaluation\n",
    "            try:\n",
    "                if hasattr(policy_obj, 'reset_memory') and callable(getattr(policy_obj, 'reset_memory')):\n",
    "                    policy_obj.reset_memory()  # type: ignore\n",
    "            except Exception:\n",
    "                pass\n",
    "            mean_ret, mean_cost = _evaluate_current(policy_obj)\n",
    "            candidates.append((trial, mean_ret, mean_cost))\n",
    "        # Select best by composite score: mean_return - alpha * mean_cost\n",
    "        best = max(candidates, key=lambda t: (t[1] - float(alpha) * t[2]))\n",
    "        trial_params, trial_ret, trial_cost = best\n",
    "        # Update if composite improves\n",
    "        if (trial_ret - float(alpha) * trial_cost) > (best_score_ret - float(alpha) * best_score_cost):\n",
    "            best_params = trial_params\n",
    "            best_score_ret, best_score_cost = trial_ret, trial_cost\n",
    "        # Log\n",
    "        iter_idx = it + 1\n",
    "        row = {\n",
    "            'iter': iter_idx,\n",
    "            'best_return': best_score_ret,\n",
    "            'best_cost': best_score_cost,\n",
    "            'best_composite': float(best_score_ret - float(alpha) * best_score_cost),\n",
    "            'is_milestone': bool(iter_idx in milestones),\n",
    "            **{f'p_{k}': v for k, v in best_params.items()}\n",
    "        }\n",
    "        history.append(row)\n",
    "        if row['is_milestone']:\n",
    "            try:\n",
    "                show(\n",
    "                    \"metric: Tuning milestone {it}: composite={comp:.3f}, return={ret:.3f}, cost={cost:.3f}\",\n",
    "                    it=iter_idx, comp=row['best_composite'], ret=row['best_return'], cost=row['best_cost']\n",
    "                )\n",
    "            except Exception:\n",
    "                pass\n",
    "        if (it % 5) == 0:\n",
    "            # Re-center occasionally\n",
    "            best_params = _clip_params(best_params)\n",
    "            center = dict(best_params)\n",
    "    # Assign final best params back\n",
    "    _assign_params(policy_obj, best_params)\n",
    "    return policy_obj, pd.DataFrame(history)"
   ]
  },
  {
   "cell_type": "markdown",
   "id": "83af695e",
   "metadata": {},
   "source": [
    "## 4. Tuning the Prior-Based Policies\n",
    "\n",
    "We tune only the few scalar parameters. This is fast and robust. After tuning,\n",
    "we re-run the evaluation.\n",
    "\n",
    "### Baseline vs Priors (Before Tuning)"
   ]
  },
  {
   "cell_type": "code",
   "execution_count": 17,
   "id": "9a4f6b78",
   "metadata": {},
   "outputs": [],
   "source": [
    "# Baseline greedy (dict env)\n",
    "baseline_algo = GreedyAlgorithm(make_env_dict())\n",
    "baseline_policy_fn = wrap_policy(baseline_algo)\n",
    "\n",
    "# Prior policies (initialize Learnable Greedy to approximate hard Greedy(0))\n",
    "# Intuition: near-zero demand threshold, very high MOER threshold (always charge),\n",
    "# charge_rate=1, and a strong urgency_boost so sigmoid(~) ≈ 1 when demand>0.\n",
    "learnable = LearnableGreedy(\n",
    "    demand_threshold=0.0,\n",
    "    moer_threshold=2.0,\n",
    "    charge_rate=1.0,\n",
    "    urgency_boost=5.0,\n",
    ")\n",
    "shared = SharedLinearPolicy(\n",
    "    w0=-0.8, w1=1.2, w2=2.5, w3=-0.6\n",
    ")\n",
    "memory = MemoryAugmentedGreedy(\n",
    "    demand_threshold=0.05,\n",
    "    moer_base_threshold=0.8,\n",
    "    memory_weight=0.3,\n",
    "    trend_sensitivity=1.0,\n",
    "    charge_rate=1.0,\n",
    ")"
   ]
  },
  {
   "cell_type": "code",
   "execution_count": 18,
   "id": "a5939014",
   "metadata": {
    "lines_to_next_cell": 2
   },
   "outputs": [
    {
     "data": {
      "text/html": [
       "\n",
       "            <div style=\"margin:0;padding:2px 6px;display:inline-block;border-left:4px solid #4F46E5;background:#F8FAFC;border-radius:6px;line-height:1.1;\">\n",
       "              <span style=\"font-weight:600;color:#1F2937;\">Initial Evaluation (Consistent Settings)</span>\n",
       "            </div>\n",
       "            "
      ],
      "text/plain": [
       "<IPython.core.display.HTML object>"
      ]
     },
     "metadata": {},
     "output_type": "display_data"
    },
    {
     "data": {
      "text/html": [
       "<div>\n",
       "<style scoped>\n",
       "    .dataframe tbody tr th:only-of-type {\n",
       "        vertical-align: middle;\n",
       "    }\n",
       "\n",
       "    .dataframe tbody tr th {\n",
       "        vertical-align: top;\n",
       "    }\n",
       "\n",
       "    .dataframe thead th {\n",
       "        text-align: right;\n",
       "    }\n",
       "</style>\n",
       "<table border=\"1\" class=\"dataframe\">\n",
       "  <thead>\n",
       "    <tr style=\"text-align: right;\">\n",
       "      <th></th>\n",
       "      <th>mean_return</th>\n",
       "      <th>std_return</th>\n",
       "      <th>mean_cost</th>\n",
       "      <th>satisfaction</th>\n",
       "      <th>composite</th>\n",
       "    </tr>\n",
       "  </thead>\n",
       "  <tbody>\n",
       "    <tr>\n",
       "      <th>Greedy (0)</th>\n",
       "      <td>16.773</td>\n",
       "      <td>10.050</td>\n",
       "      <td>20.377</td>\n",
       "      <td>0.894</td>\n",
       "      <td>2.509</td>\n",
       "    </tr>\n",
       "    <tr>\n",
       "      <th>Learnable Greedy (init)</th>\n",
       "      <td>16.773</td>\n",
       "      <td>10.051</td>\n",
       "      <td>20.497</td>\n",
       "      <td>0.894</td>\n",
       "      <td>2.425</td>\n",
       "    </tr>\n",
       "    <tr>\n",
       "      <th>Shared Linear (init)</th>\n",
       "      <td>16.773</td>\n",
       "      <td>10.051</td>\n",
       "      <td>28.119</td>\n",
       "      <td>0.894</td>\n",
       "      <td>-2.910</td>\n",
       "    </tr>\n",
       "    <tr>\n",
       "      <th>Memory Greedy (init)</th>\n",
       "      <td>16.770</td>\n",
       "      <td>10.076</td>\n",
       "      <td>73.670</td>\n",
       "      <td>0.892</td>\n",
       "      <td>-34.798</td>\n",
       "    </tr>\n",
       "  </tbody>\n",
       "</table>\n",
       "</div>"
      ],
      "text/plain": [
       "                         mean_return  std_return  mean_cost  satisfaction  \\\n",
       "Greedy (0)                    16.773      10.050     20.377         0.894   \n",
       "Learnable Greedy (init)       16.773      10.051     20.497         0.894   \n",
       "Shared Linear (init)          16.773      10.051     28.119         0.894   \n",
       "Memory Greedy (init)          16.770      10.076     73.670         0.892   \n",
       "\n",
       "                         composite  \n",
       "Greedy (0)                   2.509  \n",
       "Learnable Greedy (init)      2.425  \n",
       "Shared Linear (init)        -2.910  \n",
       "Memory Greedy (init)       -34.798  "
      ]
     },
     "metadata": {},
     "output_type": "display_data"
    },
    {
     "name": "stdout",
     "output_type": "stream",
     "text": [
      "Composite score = mean_return - ALPHA * mean_cost, with ALPHA = 0.7\n"
     ]
    },
    {
     "data": {
      "text/html": [
       "\n",
       "            <div style=\"margin:0;padding:6px 8px;border-radius:6px;line-height:1.1;\n",
       "                        background:linear-gradient(180deg,#ffffff, #ffffff);border:1px solid #e5e7eb;display:inline-block;\">\n",
       "              <div style=\"font-weight:700;font-size:2.20rem;color:#111827;\">\n",
       "                Tuning Learnable Greedy (4 params)\n",
       "              </div>\n",
       "            </div>\n",
       "            "
      ],
      "text/plain": [
       "<IPython.core.display.HTML object>"
      ]
     },
     "metadata": {},
     "output_type": "display_data"
    },
    {
     "data": {
      "text/html": [
       "\n",
       "            <div style=\"font-family:ui-monospace, SFMono-Regular, Menlo, Monaco, Consolas, 'Liberation Mono', 'Courier New', monospace;\n",
       "                                color:#065F46;background:#ECFDF5;border:1px solid #A7F3D0;display:inline-block;\n",
       "                                padding:4px 8px;border-radius:6px;margin:2px 0;\">Tuning milestone 1: composite=9.192, return=16.596, cost=10.576</div>\n",
       "            "
      ],
      "text/plain": [
       "<IPython.core.display.HTML object>"
      ]
     },
     "metadata": {},
     "output_type": "display_data"
    },
    {
     "data": {
      "text/html": [
       "\n",
       "            <div style=\"font-family:ui-monospace, SFMono-Regular, Menlo, Monaco, Consolas, 'Liberation Mono', 'Courier New', monospace;\n",
       "                                color:#065F46;background:#ECFDF5;border:1px solid #A7F3D0;display:inline-block;\n",
       "                                padding:4px 8px;border-radius:6px;margin:2px 0;\">Tuning milestone 12: composite=12.618, return=15.336, cost=3.884</div>\n",
       "            "
      ],
      "text/plain": [
       "<IPython.core.display.HTML object>"
      ]
     },
     "metadata": {},
     "output_type": "display_data"
    },
    {
     "data": {
      "text/html": [
       "\n",
       "            <div style=\"font-family:ui-monospace, SFMono-Regular, Menlo, Monaco, Consolas, 'Liberation Mono', 'Courier New', monospace;\n",
       "                                color:#065F46;background:#ECFDF5;border:1px solid #A7F3D0;display:inline-block;\n",
       "                                padding:4px 8px;border-radius:6px;margin:2px 0;\">Tuning milestone 24: composite=12.933, return=14.670, cost=2.481</div>\n",
       "            "
      ],
      "text/plain": [
       "<IPython.core.display.HTML object>"
      ]
     },
     "metadata": {},
     "output_type": "display_data"
    },
    {
     "data": {
      "text/html": [
       "\n",
       "            <div style=\"font-family:ui-monospace, SFMono-Regular, Menlo, Monaco, Consolas, 'Liberation Mono', 'Courier New', monospace;\n",
       "                                color:#065F46;background:#ECFDF5;border:1px solid #A7F3D0;display:inline-block;\n",
       "                                padding:4px 8px;border-radius:6px;margin:2px 0;\">Tuning milestone 48: composite=12.933, return=14.670, cost=2.481</div>\n",
       "            "
      ],
      "text/plain": [
       "<IPython.core.display.HTML object>"
      ]
     },
     "metadata": {},
     "output_type": "display_data"
    },
    {
     "data": {
      "text/html": [
       "\n",
       "            <div style=\"display:inline-flex;align-items:center;padding:4px 8px;border-radius:6px; background:#ECFDF5; color:#065F46; border:1px solid #A7F3D0;\">\n",
       "              <span style=\"margin-right:6px;\">✔</span><span>Learnable Greedy tuned</span>\n",
       "            </div>\n",
       "            "
      ],
      "text/plain": [
       "<IPython.core.display.HTML object>"
      ]
     },
     "metadata": {},
     "output_type": "display_data"
    },
    {
     "data": {
      "text/html": [
       "\n",
       "        <div style=\"margin:0;padding:6px 8px;border-radius:6px;border:1px solid #e5e7eb;background:#ffffff;display:block;line-height:1.15;\">\n",
       "          <div style=\"font-weight:700;color:#111827;margin-bottom:2px;\">Learned Thresholds</div>\n",
       "          <ul style=\"margin:0 0 0 10px;padding:0;color:#374151;list-style-position:inside;\"><li style='margin:2px 0;'><b>demand_threshold</b>: 0.221</li><li style='margin:2px 0;'><b>moer_threshold</b>: 1.624</li><li style='margin:2px 0;'><b>charge_rate</b>: 0.611</li><li style='margin:2px 0;'><b>urgency_boost</b>: 5.000</li></ul>\n",
       "        </div>\n",
       "        "
      ],
      "text/plain": [
       "<IPython.core.display.HTML object>"
      ]
     },
     "metadata": {},
     "output_type": "display_data"
    },
    {
     "data": {
      "text/html": [
       "<div>\n",
       "<style scoped>\n",
       "    .dataframe tbody tr th:only-of-type {\n",
       "        vertical-align: middle;\n",
       "    }\n",
       "\n",
       "    .dataframe tbody tr th {\n",
       "        vertical-align: top;\n",
       "    }\n",
       "\n",
       "    .dataframe thead th {\n",
       "        text-align: right;\n",
       "    }\n",
       "</style>\n",
       "<table border=\"1\" class=\"dataframe\">\n",
       "  <thead>\n",
       "    <tr style=\"text-align: right;\">\n",
       "      <th></th>\n",
       "      <th>iter</th>\n",
       "      <th>best_return</th>\n",
       "      <th>best_cost</th>\n",
       "      <th>best_composite</th>\n",
       "    </tr>\n",
       "  </thead>\n",
       "  <tbody>\n",
       "    <tr>\n",
       "      <th>0</th>\n",
       "      <td>1</td>\n",
       "      <td>16.596</td>\n",
       "      <td>10.576</td>\n",
       "      <td>9.192</td>\n",
       "    </tr>\n",
       "    <tr>\n",
       "      <th>11</th>\n",
       "      <td>12</td>\n",
       "      <td>15.336</td>\n",
       "      <td>3.884</td>\n",
       "      <td>12.618</td>\n",
       "    </tr>\n",
       "    <tr>\n",
       "      <th>23</th>\n",
       "      <td>24</td>\n",
       "      <td>14.670</td>\n",
       "      <td>2.481</td>\n",
       "      <td>12.933</td>\n",
       "    </tr>\n",
       "    <tr>\n",
       "      <th>47</th>\n",
       "      <td>48</td>\n",
       "      <td>14.670</td>\n",
       "      <td>2.481</td>\n",
       "      <td>12.933</td>\n",
       "    </tr>\n",
       "  </tbody>\n",
       "</table>\n",
       "</div>"
      ],
      "text/plain": [
       "    iter  best_return  best_cost  best_composite\n",
       "0      1       16.596     10.576           9.192\n",
       "11    12       15.336      3.884          12.618\n",
       "23    24       14.670      2.481          12.933\n",
       "47    48       14.670      2.481          12.933"
      ]
     },
     "metadata": {},
     "output_type": "display_data"
    },
    {
     "data": {
      "text/html": [
       "\n",
       "            <div style=\"margin:0;padding:6px 8px;border-radius:6px;line-height:1.1;\n",
       "                        background:linear-gradient(180deg,#ffffff, #ffffff);border:1px solid #e5e7eb;display:inline-block;\">\n",
       "              <div style=\"font-weight:700;font-size:2.20rem;color:#111827;\">\n",
       "                Tuning Shared Linear (4 params)\n",
       "              </div>\n",
       "            </div>\n",
       "            "
      ],
      "text/plain": [
       "<IPython.core.display.HTML object>"
      ]
     },
     "metadata": {},
     "output_type": "display_data"
    },
    {
     "data": {
      "text/html": [
       "\n",
       "            <div style=\"font-family:ui-monospace, SFMono-Regular, Menlo, Monaco, Consolas, 'Liberation Mono', 'Courier New', monospace;\n",
       "                                color:#065F46;background:#ECFDF5;border:1px solid #A7F3D0;display:inline-block;\n",
       "                                padding:4px 8px;border-radius:6px;margin:2px 0;\">Tuning milestone 1: composite=-2.910, return=16.773, cost=28.119</div>\n",
       "            "
      ],
      "text/plain": [
       "<IPython.core.display.HTML object>"
      ]
     },
     "metadata": {},
     "output_type": "display_data"
    },
    {
     "data": {
      "text/html": [
       "\n",
       "            <div style=\"font-family:ui-monospace, SFMono-Regular, Menlo, Monaco, Consolas, 'Liberation Mono', 'Courier New', monospace;\n",
       "                                color:#065F46;background:#ECFDF5;border:1px solid #A7F3D0;display:inline-block;\n",
       "                                padding:4px 8px;border-radius:6px;margin:2px 0;\">Tuning milestone 12: composite=8.438, return=16.773, cost=11.906</div>\n",
       "            "
      ],
      "text/plain": [
       "<IPython.core.display.HTML object>"
      ]
     },
     "metadata": {},
     "output_type": "display_data"
    },
    {
     "data": {
      "text/html": [
       "\n",
       "            <div style=\"font-family:ui-monospace, SFMono-Regular, Menlo, Monaco, Consolas, 'Liberation Mono', 'Courier New', monospace;\n",
       "                                color:#065F46;background:#ECFDF5;border:1px solid #A7F3D0;display:inline-block;\n",
       "                                padding:4px 8px;border-radius:6px;margin:2px 0;\">Tuning milestone 24: composite=11.232, return=16.756, cost=7.890</div>\n",
       "            "
      ],
      "text/plain": [
       "<IPython.core.display.HTML object>"
      ]
     },
     "metadata": {},
     "output_type": "display_data"
    },
    {
     "data": {
      "text/html": [
       "\n",
       "            <div style=\"font-family:ui-monospace, SFMono-Regular, Menlo, Monaco, Consolas, 'Liberation Mono', 'Courier New', monospace;\n",
       "                                color:#065F46;background:#ECFDF5;border:1px solid #A7F3D0;display:inline-block;\n",
       "                                padding:4px 8px;border-radius:6px;margin:2px 0;\">Tuning milestone 48: composite=12.330, return=16.361, cost=5.759</div>\n",
       "            "
      ],
      "text/plain": [
       "<IPython.core.display.HTML object>"
      ]
     },
     "metadata": {},
     "output_type": "display_data"
    },
    {
     "data": {
      "text/html": [
       "\n",
       "            <div style=\"display:inline-flex;align-items:center;padding:4px 8px;border-radius:6px; background:#ECFDF5; color:#065F46; border:1px solid #A7F3D0;\">\n",
       "              <span style=\"margin-right:6px;\">✔</span><span>Shared Linear tuned</span>\n",
       "            </div>\n",
       "            "
      ],
      "text/plain": [
       "<IPython.core.display.HTML object>"
      ]
     },
     "metadata": {},
     "output_type": "display_data"
    },
    {
     "data": {
      "text/html": [
       "\n",
       "        <div style=\"margin:0;padding:6px 8px;border-radius:6px;border:1px solid #e5e7eb;background:#ffffff;display:block;line-height:1.15;\">\n",
       "          <div style=\"font-weight:700;color:#111827;margin-bottom:2px;\">Shared Parameters</div>\n",
       "          <ul style=\"margin:0 0 0 10px;padding:0;color:#374151;list-style-position:inside;\"><li style='margin:2px 0;'><b>w0</b>: -2.890</li><li style='margin:2px 0;'><b>w1</b>: -0.016</li><li style='margin:2px 0;'><b>w2</b>: 2.964</li><li style='margin:2px 0;'><b>w3</b>: -0.133</li></ul>\n",
       "        </div>\n",
       "        "
      ],
      "text/plain": [
       "<IPython.core.display.HTML object>"
      ]
     },
     "metadata": {},
     "output_type": "display_data"
    },
    {
     "data": {
      "text/html": [
       "<div>\n",
       "<style scoped>\n",
       "    .dataframe tbody tr th:only-of-type {\n",
       "        vertical-align: middle;\n",
       "    }\n",
       "\n",
       "    .dataframe tbody tr th {\n",
       "        vertical-align: top;\n",
       "    }\n",
       "\n",
       "    .dataframe thead th {\n",
       "        text-align: right;\n",
       "    }\n",
       "</style>\n",
       "<table border=\"1\" class=\"dataframe\">\n",
       "  <thead>\n",
       "    <tr style=\"text-align: right;\">\n",
       "      <th></th>\n",
       "      <th>iter</th>\n",
       "      <th>best_return</th>\n",
       "      <th>best_cost</th>\n",
       "      <th>best_composite</th>\n",
       "    </tr>\n",
       "  </thead>\n",
       "  <tbody>\n",
       "    <tr>\n",
       "      <th>0</th>\n",
       "      <td>1</td>\n",
       "      <td>16.773</td>\n",
       "      <td>28.119</td>\n",
       "      <td>-2.910</td>\n",
       "    </tr>\n",
       "    <tr>\n",
       "      <th>11</th>\n",
       "      <td>12</td>\n",
       "      <td>16.773</td>\n",
       "      <td>11.906</td>\n",
       "      <td>8.438</td>\n",
       "    </tr>\n",
       "    <tr>\n",
       "      <th>23</th>\n",
       "      <td>24</td>\n",
       "      <td>16.756</td>\n",
       "      <td>7.890</td>\n",
       "      <td>11.232</td>\n",
       "    </tr>\n",
       "    <tr>\n",
       "      <th>47</th>\n",
       "      <td>48</td>\n",
       "      <td>16.361</td>\n",
       "      <td>5.759</td>\n",
       "      <td>12.330</td>\n",
       "    </tr>\n",
       "  </tbody>\n",
       "</table>\n",
       "</div>"
      ],
      "text/plain": [
       "    iter  best_return  best_cost  best_composite\n",
       "0      1       16.773     28.119          -2.910\n",
       "11    12       16.773     11.906           8.438\n",
       "23    24       16.756      7.890          11.232\n",
       "47    48       16.361      5.759          12.330"
      ]
     },
     "metadata": {},
     "output_type": "display_data"
    },
    {
     "data": {
      "text/html": [
       "\n",
       "            <div style=\"margin:0;padding:6px 8px;border-radius:6px;line-height:1.1;\n",
       "                        background:linear-gradient(180deg,#ffffff, #ffffff);border:1px solid #e5e7eb;display:inline-block;\">\n",
       "              <div style=\"font-weight:700;font-size:2.20rem;color:#111827;\">\n",
       "                Tuning Memory-Augmented Greedy (5 params)\n",
       "              </div>\n",
       "            </div>\n",
       "            "
      ],
      "text/plain": [
       "<IPython.core.display.HTML object>"
      ]
     },
     "metadata": {},
     "output_type": "display_data"
    },
    {
     "data": {
      "text/html": [
       "\n",
       "            <div style=\"font-family:ui-monospace, SFMono-Regular, Menlo, Monaco, Consolas, 'Liberation Mono', 'Courier New', monospace;\n",
       "                                color:#065F46;background:#ECFDF5;border:1px solid #A7F3D0;display:inline-block;\n",
       "                                padding:4px 8px;border-radius:6px;margin:2px 0;\">Tuning milestone 1: composite=8.589, return=16.575, cost=11.409</div>\n",
       "            "
      ],
      "text/plain": [
       "<IPython.core.display.HTML object>"
      ]
     },
     "metadata": {},
     "output_type": "display_data"
    },
    {
     "data": {
      "text/html": [
       "\n",
       "            <div style=\"font-family:ui-monospace, SFMono-Regular, Menlo, Monaco, Consolas, 'Liberation Mono', 'Courier New', monospace;\n",
       "                                color:#065F46;background:#ECFDF5;border:1px solid #A7F3D0;display:inline-block;\n",
       "                                padding:4px 8px;border-radius:6px;margin:2px 0;\">Tuning milestone 12: composite=12.690, return=13.963, cost=1.819</div>\n",
       "            "
      ],
      "text/plain": [
       "<IPython.core.display.HTML object>"
      ]
     },
     "metadata": {},
     "output_type": "display_data"
    },
    {
     "data": {
      "text/html": [
       "\n",
       "            <div style=\"font-family:ui-monospace, SFMono-Regular, Menlo, Monaco, Consolas, 'Liberation Mono', 'Courier New', monospace;\n",
       "                                color:#065F46;background:#ECFDF5;border:1px solid #A7F3D0;display:inline-block;\n",
       "                                padding:4px 8px;border-radius:6px;margin:2px 0;\">Tuning milestone 24: composite=12.930, return=14.607, cost=2.395</div>\n",
       "            "
      ],
      "text/plain": [
       "<IPython.core.display.HTML object>"
      ]
     },
     "metadata": {},
     "output_type": "display_data"
    },
    {
     "data": {
      "text/html": [
       "\n",
       "            <div style=\"font-family:ui-monospace, SFMono-Regular, Menlo, Monaco, Consolas, 'Liberation Mono', 'Courier New', monospace;\n",
       "                                color:#065F46;background:#ECFDF5;border:1px solid #A7F3D0;display:inline-block;\n",
       "                                padding:4px 8px;border-radius:6px;margin:2px 0;\">Tuning milestone 48: composite=12.936, return=14.570, cost=2.334</div>\n",
       "            "
      ],
      "text/plain": [
       "<IPython.core.display.HTML object>"
      ]
     },
     "metadata": {},
     "output_type": "display_data"
    },
    {
     "data": {
      "text/html": [
       "\n",
       "            <div style=\"display:inline-flex;align-items:center;padding:4px 8px;border-radius:6px; background:#ECFDF5; color:#065F46; border:1px solid #A7F3D0;\">\n",
       "              <span style=\"margin-right:6px;\">✔</span><span>Memory-Augmented tuned</span>\n",
       "            </div>\n",
       "            "
      ],
      "text/plain": [
       "<IPython.core.display.HTML object>"
      ]
     },
     "metadata": {},
     "output_type": "display_data"
    },
    {
     "data": {
      "text/html": [
       "\n",
       "        <div style=\"margin:0;padding:6px 8px;border-radius:6px;border:1px solid #e5e7eb;background:#ffffff;display:block;line-height:1.15;\">\n",
       "          <div style=\"font-weight:700;color:#111827;margin-bottom:2px;\">Memory Policy Parameters</div>\n",
       "          <ul style=\"margin:0 0 0 10px;padding:0;color:#374151;list-style-position:inside;\"><li style='margin:2px 0;'><b>demand_threshold</b>: 0.436</li><li style='margin:2px 0;'><b>moer_base_threshold</b>: 1.185</li><li style='margin:2px 0;'><b>memory_weight</b>: 0.723</li><li style='margin:2px 0;'><b>trend_sensitivity</b>: 1.245</li><li style='margin:2px 0;'><b>charge_rate</b>: 0.624</li></ul>\n",
       "        </div>\n",
       "        "
      ],
      "text/plain": [
       "<IPython.core.display.HTML object>"
      ]
     },
     "metadata": {},
     "output_type": "display_data"
    },
    {
     "data": {
      "text/html": [
       "<div>\n",
       "<style scoped>\n",
       "    .dataframe tbody tr th:only-of-type {\n",
       "        vertical-align: middle;\n",
       "    }\n",
       "\n",
       "    .dataframe tbody tr th {\n",
       "        vertical-align: top;\n",
       "    }\n",
       "\n",
       "    .dataframe thead th {\n",
       "        text-align: right;\n",
       "    }\n",
       "</style>\n",
       "<table border=\"1\" class=\"dataframe\">\n",
       "  <thead>\n",
       "    <tr style=\"text-align: right;\">\n",
       "      <th></th>\n",
       "      <th>iter</th>\n",
       "      <th>best_return</th>\n",
       "      <th>best_cost</th>\n",
       "      <th>best_composite</th>\n",
       "    </tr>\n",
       "  </thead>\n",
       "  <tbody>\n",
       "    <tr>\n",
       "      <th>0</th>\n",
       "      <td>1</td>\n",
       "      <td>16.575</td>\n",
       "      <td>11.409</td>\n",
       "      <td>8.589</td>\n",
       "    </tr>\n",
       "    <tr>\n",
       "      <th>11</th>\n",
       "      <td>12</td>\n",
       "      <td>13.963</td>\n",
       "      <td>1.819</td>\n",
       "      <td>12.690</td>\n",
       "    </tr>\n",
       "    <tr>\n",
       "      <th>23</th>\n",
       "      <td>24</td>\n",
       "      <td>14.607</td>\n",
       "      <td>2.395</td>\n",
       "      <td>12.930</td>\n",
       "    </tr>\n",
       "    <tr>\n",
       "      <th>47</th>\n",
       "      <td>48</td>\n",
       "      <td>14.570</td>\n",
       "      <td>2.334</td>\n",
       "      <td>12.936</td>\n",
       "    </tr>\n",
       "  </tbody>\n",
       "</table>\n",
       "</div>"
      ],
      "text/plain": [
       "    iter  best_return  best_cost  best_composite\n",
       "0      1       16.575     11.409           8.589\n",
       "11    12       13.963      1.819          12.690\n",
       "23    24       14.607      2.395          12.930\n",
       "47    48       14.570      2.334          12.936"
      ]
     },
     "metadata": {},
     "output_type": "display_data"
    },
    {
     "data": {
      "image/png": "[encoded data removed]",
      "text/plain": [
       "<Figure size 1800x400 with 3 Axes>"
      ]
     },
     "metadata": {},
     "output_type": "display_data"
    }
   ],
   "source": [
    "# Quick toggle: use lighter settings for faster demo runs\n",
    "FAST_DEMO = True\n",
    "if FAST_DEMO:\n",
    "    TUNE_CFG = TuneConfig(\n",
    "        iterations=48,             # more iterations for gradual gains\n",
    "        candidates_per_iter=3,     # fewer candidates per iter to reduce big jumps\n",
    "        episodes=3,\n",
    "        horizon=288,\n",
    "        noise_scale=0.075,         # smaller perturbations\n",
    "        seed=2025,\n",
    "    )\n",
    "else:\n",
    "    TUNE_CFG = TuneConfig(\n",
    "        iterations=120,             # deeper search\n",
    "        candidates_per_iter=4,      # moderate candidates per iter\n",
    "        episodes=5,                 # reduce variance\n",
    "        horizon=288,\n",
    "        noise_scale=0.075,          # balanced exploration\n",
    "        seed=2025,\n",
    "    )\n",
    "\n",
    "# Composite weighting used throughout Section 5\n",
    "ALPHA = 0.7\n",
    "\n",
    "# Consistent initial evaluation (Greedy and initial priors), same settings as tuning\n",
    "show(\"section: Initial Evaluation (Consistent Settings)\")\n",
    "initial5 = {}\n",
    "\n",
    "# Greedy (0)\n",
    "mean_ret_g, std_ret_g, mean_cost_g, m_g = evaluate_policy(\n",
    "    policy_fn=baseline_policy_fn, make_env_fn=make_env_dict,\n",
    "    episodes=TUNE_CFG.episodes, horizon=TUNE_CFG.horizon,\n",
    "    track_metrics=['satisfaction', 'components', 'actions'], verbose=False)\n",
    "initial5['Greedy (0)'] = {\n",
    "    'mean_return': mean_ret_g, 'std_return': std_ret_g, 'mean_cost': mean_cost_g,\n",
    "    'satisfaction': m_g.get('true_satisfaction_mean', m_g.get('satisfaction_mean', 0.0)),\n",
    "    'composite': float(mean_ret_g - ALPHA * mean_cost_g),\n",
    "}\n",
    "\n",
    "# Learnable (initial)\n",
    "mean_ret_li, std_ret_li, mean_cost_li, m_li = evaluate_policy(\n",
    "    policy_fn=learnable.get_action, make_env_fn=make_env_dict,\n",
    "    episodes=TUNE_CFG.episodes, horizon=TUNE_CFG.horizon,\n",
    "    track_metrics=['satisfaction', 'components', 'actions'], verbose=False)\n",
    "initial5['Learnable Greedy (init)'] = {\n",
    "    'mean_return': mean_ret_li, 'std_return': std_ret_li, 'mean_cost': mean_cost_li,\n",
    "    'satisfaction': m_li.get('true_satisfaction_mean', m_li.get('satisfaction_mean', 0.0)),\n",
    "    'composite': float(mean_ret_li - ALPHA * mean_cost_li),\n",
    "}\n",
    "\n",
    "# Shared Linear (initial)\n",
    "mean_ret_si, std_ret_si, mean_cost_si, m_si = evaluate_policy(\n",
    "    policy_fn=shared.get_action, make_env_fn=make_env_dict,\n",
    "    episodes=TUNE_CFG.episodes, horizon=TUNE_CFG.horizon,\n",
    "    track_metrics=['satisfaction', 'components', 'actions'], verbose=False)\n",
    "initial5['Shared Linear (init)'] = {\n",
    "    'mean_return': mean_ret_si, 'std_return': std_ret_si, 'mean_cost': mean_cost_si,\n",
    "    'satisfaction': m_si.get('true_satisfaction_mean', m_si.get('satisfaction_mean', 0.0)),\n",
    "    'composite': float(mean_ret_si - ALPHA * mean_cost_si),\n",
    "}\n",
    "\n",
    "# Memory Greedy (initial)\n",
    "memory.reset_memory()\n",
    "mean_ret_mi, std_ret_mi, mean_cost_mi, m_mi = evaluate_policy(\n",
    "    policy_fn=memory.get_action, make_env_fn=make_env_dict,\n",
    "    episodes=TUNE_CFG.episodes, horizon=TUNE_CFG.horizon,\n",
    "    track_metrics=['satisfaction', 'components', 'actions'], verbose=False)\n",
    "initial5['Memory Greedy (init)'] = {\n",
    "    'mean_return': mean_ret_mi, 'std_return': std_ret_mi, 'mean_cost': mean_cost_mi,\n",
    "    'satisfaction': m_mi.get('true_satisfaction_mean', m_mi.get('satisfaction_mean', 0.0)),\n",
    "    'composite': float(mean_ret_mi - ALPHA * mean_cost_mi),\n",
    "}\n",
    "\n",
    "initial5_df = pd.DataFrame(initial5).T.round(3)\n",
    "show(\"table\", df=initial5_df, title=\"Initial Results (return, cost, composite)\")\n",
    "\n",
    "# Clarify composite definition\n",
    "show(\"text: Composite score = mean_return - ALPHA * mean_cost, with ALPHA = {alpha}\", alpha=ALPHA)\n",
    "\n",
    "show(\"header: Tuning Learnable Greedy (4 params)\")\n",
    "learnable, learn_hist = tune_policy(learnable, make_env_dict, TUNE_CFG, alpha=ALPHA)\n",
    "show(\"result: Learnable Greedy tuned\")\n",
    "show_metrics(learnable.describe(), title=\"Learned Thresholds\")\n",
    "try:\n",
    "    show(\"table\", df=learn_hist.loc[learn_hist['is_milestone'], ['iter','best_return','best_cost','best_composite']].round(3), title=\"Milestones — Learnable Greedy\")\n",
    "except Exception:\n",
    "    pass\n",
    "\n",
    "show(\"header: Tuning Shared Linear (4 params)\")\n",
    "shared, shared_hist = tune_policy(shared, make_env_dict, TUNE_CFG, alpha=ALPHA)\n",
    "show(\"result: Shared Linear tuned\")\n",
    "show_metrics(shared.describe(), title=\"Shared Parameters\")\n",
    "try:\n",
    "    show(\"table\", df=shared_hist.loc[shared_hist['is_milestone'], ['iter','best_return','best_cost','best_composite']].round(3), title=\"Milestones — Shared Linear\")\n",
    "except Exception:\n",
    "    pass\n",
    "\n",
    "show(\"header: Tuning Memory-Augmented Greedy (5 params)\")\n",
    "memory.reset_memory()\n",
    "memory, mem_hist = tune_policy(memory, make_env_dict, TUNE_CFG, alpha=ALPHA)\n",
    "show(\"result: Memory-Augmented tuned\")\n",
    "show_metrics(memory.describe(), title=\"Memory Policy Parameters\")\n",
    "try:\n",
    "    show(\"table\", df=mem_hist.loc[mem_hist['is_milestone'], ['iter','best_return','best_cost','best_composite']].round(3), title=\"Milestones — Memory Greedy\")\n",
    "except Exception:\n",
    "    pass\n",
    "\n",
    "# Plot tuning traces\n",
    "# Seed traces with iter=0 initial points, then concatenate tuning histories\n",
    "learn_init_row = pd.DataFrame([{'iter': 0, 'best_return': mean_ret_li, 'best_cost': mean_cost_li, 'best_composite': float(mean_ret_li - ALPHA * mean_cost_li), 'policy': 'Learnable'}])\n",
    "shared_init_row = pd.DataFrame([{'iter': 0, 'best_return': mean_ret_si, 'best_cost': mean_cost_si, 'best_composite': float(mean_ret_si - ALPHA * mean_cost_si), 'policy': 'SharedLinear'}])\n",
    "mem_init_row = pd.DataFrame([{'iter': 0, 'best_return': mean_ret_mi, 'best_cost': mean_cost_mi, 'best_composite': float(mean_ret_mi - ALPHA * mean_cost_mi), 'policy': 'MemoryGreedy'}])\n",
    "\n",
    "trace_df = pd.concat([\n",
    "    learn_init_row,\n",
    "    learn_hist.assign(policy='Learnable'),\n",
    "    shared_init_row,\n",
    "    shared_hist.assign(policy='SharedLinear'),\n",
    "    mem_init_row,\n",
    "    mem_hist.assign(policy='MemoryGreedy'),\n",
    "], ignore_index=True)\n",
    "\n",
    "# Add Greedy (0) reference line across iterations (horizontal reference)\n",
    "try:\n",
    "    max_iter = int(trace_df['iter'].max())\n",
    "    greedy_ref = pd.DataFrame({\n",
    "        'iter': np.arange(0, max_iter + 1),\n",
    "        'best_return': mean_ret_g,\n",
    "        'best_cost': mean_cost_g,\n",
    "        'best_composite': float(mean_ret_g - ALPHA * mean_cost_g),\n",
    "        'policy': 'Greedy (ref)'\n",
    "    })\n",
    "    trace_df_plot = pd.concat([trace_df, greedy_ref], ignore_index=True)\n",
    "except Exception:\n",
    "    trace_df_plot = trace_df\n",
    "\n",
    "quick_plot({\n",
    "    'layout': '1x3', 'size': (18, 4), 'plots': [\n",
    "        {'type': 'line', 'data': trace_df_plot, 'x': 'iter', 'y': 'best_return', 'group': 'policy', 'legend': True, 'title': 'Best Return vs Iteration'},\n",
    "        {'type': 'line', 'data': trace_df_plot, 'x': 'iter', 'y': 'best_cost', 'group': 'policy', 'legend': True, 'title': 'Best Cost vs Iteration'},\n",
    "        {'type': 'line', 'data': trace_df_plot, 'x': 'iter', 'y': 'best_composite', 'group': 'policy', 'legend': True, 'title': 'Composite (return - 0.7*cost)'},\n",
    "    ]\n",
    "})"
   ]
  },
  {
   "cell_type": "markdown",
   "id": "062079d8",
   "metadata": {},
   "source": [
    "## 5. Final Comparison: Simple vs Complex"
   ]
  },
  {
   "cell_type": "code",
   "execution_count": 19,
   "id": "819cc400",
   "metadata": {},
   "outputs": [
    {
     "data": {
      "text/html": [
       "\n",
       "            <div style=\"margin:0;padding:2px 6px;display:inline-block;border-left:4px solid #4F46E5;background:#F8FAFC;border-radius:6px;line-height:1.1;\">\n",
       "              <span style=\"font-weight:600;color:#1F2937;\">Final Performance Rankings (Composite First)</span>\n",
       "            </div>\n",
       "            "
      ],
      "text/plain": [
       "<IPython.core.display.HTML object>"
      ]
     },
     "metadata": {},
     "output_type": "display_data"
    },
    {
     "data": {
      "text/html": [
       "<div>\n",
       "<style scoped>\n",
       "    .dataframe tbody tr th:only-of-type {\n",
       "        vertical-align: middle;\n",
       "    }\n",
       "\n",
       "    .dataframe tbody tr th {\n",
       "        vertical-align: top;\n",
       "    }\n",
       "\n",
       "    .dataframe thead th {\n",
       "        text-align: right;\n",
       "    }\n",
       "</style>\n",
       "<table border=\"1\" class=\"dataframe\">\n",
       "  <thead>\n",
       "    <tr style=\"text-align: right;\">\n",
       "      <th></th>\n",
       "      <th>composite</th>\n",
       "      <th>mean_return</th>\n",
       "      <th>std_return</th>\n",
       "      <th>mean_cost</th>\n",
       "      <th>satisfaction</th>\n",
       "    </tr>\n",
       "  </thead>\n",
       "  <tbody>\n",
       "    <tr>\n",
       "      <th>Shared Linear (4)</th>\n",
       "      <td>12.760</td>\n",
       "      <td>15.275</td>\n",
       "      <td>7.697</td>\n",
       "      <td>3.593</td>\n",
       "      <td>0.864</td>\n",
       "    </tr>\n",
       "    <tr>\n",
       "      <th>Learnable Greedy (4)</th>\n",
       "      <td>12.562</td>\n",
       "      <td>13.604</td>\n",
       "      <td>7.021</td>\n",
       "      <td>1.488</td>\n",
       "      <td>0.766</td>\n",
       "    </tr>\n",
       "    <tr>\n",
       "      <th>Memory Greedy (5)</th>\n",
       "      <td>12.533</td>\n",
       "      <td>13.513</td>\n",
       "      <td>6.969</td>\n",
       "      <td>1.400</td>\n",
       "      <td>0.761</td>\n",
       "    </tr>\n",
       "    <tr>\n",
       "      <th>Greedy (0)</th>\n",
       "      <td>6.652</td>\n",
       "      <td>15.636</td>\n",
       "      <td>7.909</td>\n",
       "      <td>12.834</td>\n",
       "      <td>0.884</td>\n",
       "    </tr>\n",
       "  </tbody>\n",
       "</table>\n",
       "</div>"
      ],
      "text/plain": [
       "                      composite  mean_return  std_return  mean_cost  \\\n",
       "Shared Linear (4)        12.760       15.275       7.697      3.593   \n",
       "Learnable Greedy (4)     12.562       13.604       7.021      1.488   \n",
       "Memory Greedy (5)        12.533       13.513       6.969      1.400   \n",
       "Greedy (0)                6.652       15.636       7.909     12.834   \n",
       "\n",
       "                      satisfaction  \n",
       "Shared Linear (4)            0.864  \n",
       "Learnable Greedy (4)         0.766  \n",
       "Memory Greedy (5)            0.761  \n",
       "Greedy (0)                   0.884  "
      ]
     },
     "metadata": {},
     "output_type": "display_data"
    }
   ],
   "source": [
    "all_policies: Dict[str, Callable[[Any], np.ndarray]] = {\n",
    "    'Greedy (0)': baseline_policy_fn,\n",
    "    'Learnable Greedy (4)': learnable.get_action,\n",
    "    'Shared Linear (4)': shared.get_action,\n",
    "    'Memory Greedy (5)': memory.get_action,\n",
    "}\n",
    "\n",
    "final_results = {}\n",
    "for name, policy_fn in all_policies.items():\n",
    "    if hasattr(policy_fn, '__self__') and hasattr(policy_fn.__self__, 'reset_memory'):\n",
    "        policy_fn.__self__.reset_memory()\n",
    "    env_fn = make_env_dict\n",
    "    mean_ret, std_ret, mean_cost, metrics = evaluate_policy(\n",
    "        policy_fn=policy_fn, make_env_fn=env_fn,\n",
    "        episodes=5, horizon=288,\n",
    "        track_metrics=['satisfaction', 'components', 'actions'], verbose=False)\n",
    "    final_results[name] = {\n",
    "        'mean_return': mean_ret,\n",
    "        'std_return': std_ret,\n",
    "        'mean_cost': mean_cost,\n",
    "        'satisfaction': metrics.get('true_satisfaction_mean', metrics.get('satisfaction_mean', 0.0)),\n",
    "    }\n",
    "\n",
    "final_df = pd.DataFrame(final_results).T.round(3)\n",
    "show(\"section: Final Performance Rankings (Composite First)\")\n",
    "# Add composite metric and present it as the first column; rank by highest composite\n",
    "try:\n",
    "    final_df['composite'] = final_df['mean_return'] - ALPHA * final_df['mean_cost']\n",
    "    # Reorder columns with composite first if available\n",
    "    ordered_cols = ['composite', 'mean_return', 'std_return', 'mean_cost', 'satisfaction']\n",
    "    final_df = final_df[[c for c in ordered_cols if c in final_df.columns]].round(3)\n",
    "    show(\"table\", df=final_df.sort_values('composite', ascending=False))\n",
    "except Exception:\n",
    "    # Fallback to original sorting if composite could not be computed\n",
    "    show(\"table\", df=final_df.sort_values('mean_return', ascending=False))\n",
    "\n",
    "# Parameter counts (computed, not hard-coded)\n",
    "param_counts = {\n",
    "    'Greedy (0)': 0,\n",
    "    'Learnable Greedy (4)': learnable.parameter_count(),\n",
    "    'Shared Linear (4)': shared.parameter_count(),\n",
    "    'Memory Greedy (5)': memory.parameter_count(),\n",
    "}\n",
    "\n",
    "scatter_df = pd.DataFrame({\n",
    "    'policy': list(final_df.index),\n",
    "    'params': [param_counts.get(k, 0) for k in final_df.index],\n",
    "    'return': final_df['mean_return'].values,\n",
    "})"
   ]
  },
  {
   "cell_type": "markdown",
   "id": "874cd449",
   "metadata": {},
   "source": [
    "## 6. Lessons and Recommendations\n",
    "\n",
    "1. Start with domain knowledge (greedy structure); it is surprisingly strong.\n",
    "2. Make only critical parts learnable (4–6 parameters suffice for big gains).\n",
    "3. Share parameters across similar subproblems (one tiny model for all stations).\n",
    "4. Use minimal memory for temporal patterns (EMA of MOER is effective).\n",
    "5. Prioritize robustness; simple policies degrade gracefully compared to large NNs.\n",
    "\n",
    "The EV case study reinforces: every added parameter should earn its place with measurable improvement."
   ]
  },
  {
   "cell_type": "code",
   "execution_count": null,
   "id": "38b70fa4",
   "metadata": {},
   "outputs": [],
   "source": []
  }
 ],
 "metadata": {
  "jupytext": {
   "cell_metadata_filter": "-all",
   "formats": "ipynb,py:percent",
   "main_language": "python",
   "notebook_metadata_filter": "-kernelspec,-language_info"
  },
  "kernelspec": {
   "display_name": "Python 3 (ipykernel)",
   "language": "python",
   "name": "python3"
  },
  "language_info": {
   "codemirror_mode": {
    "name": "ipython",
    "version": 3
   },
   "file_extension": ".py",
   "mimetype": "text/x-python",
   "name": "python",
   "nbconvert_exporter": "python",
   "pygments_lexer": "ipython3",
   "version": "3.9.6"
  }
 },
 "nbformat": 4,
 "nbformat_minor": 5
}
