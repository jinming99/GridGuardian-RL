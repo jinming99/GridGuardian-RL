{
 "cells": [
  {
   "cell_type": "markdown",
   "id": "2e2b2de9",
   "metadata": {},
   "source": [
    "# Tutorial 02: Baselines and Trajectory Diagnostics\n",
    "\n",
    "**Author:** Ming Jin | [jinming.tech](https://jinming.tech) | jinming@vt.edu  \n",
    "**Series:** Safe RL for Power and Energy Systems | [Full References](https://github.com/jinming99/GridGuardian-RL/blob/main/REFERENCES.md)\n",
    "\n",
    "This notebook runs baseline controllers (Greedy, Random, MPC, Offline Optimal) and introduces trajectory-level diagnostics to understand optimality gaps, constraint binding, and where to improve policies.\n",
    "\n",
    "### Objectives\n",
    "\n",
    "- Run and compare baseline controllers\n",
    "- Visualize charging schedules and constraint usage\n",
    "- Introduce trajectory debugging:\n",
    "  - Constraint slack inspection and binding times\n",
    "  - Action critique at critical states via one-step MPC\n",
    "  - Immediate reward/cost deltas for counterfactual actions\n",
    "  - Critical state ranking (e.g., high MOER × high demand, tight network capacity)\n"
   ]
  },
  {
   "cell_type": "markdown",
   "id": "da911752",
   "metadata": {},
   "source": [
    "## Section 1: Setup and Data Understanding\n",
    "\n",
    "### 1.1 Dependencies and Core Imports"
   ]
  },
  {
   "cell_type": "code",
   "execution_count": 1,
   "id": "a19bc636",
   "metadata": {},
   "outputs": [],
   "source": [
    "import sys\n",
    "from pathlib import Path\n",
    "\n",
    "try:\n",
    "    nb_dir = Path(__file__).parent\n",
    "except NameError:\n",
    "    nb_dir = Path.cwd()\n",
    "\n",
    "repo_root = nb_dir.parent  # tutorials/ -> repo root\n",
    "if str(repo_root) not in sys.path:\n",
    "    sys.path.insert(0, str(repo_root))\n",
    "    \n",
    "import numpy as np\n",
    "import pandas as pd\n",
    "import matplotlib.pyplot as plt\n",
    "import seaborn as sns\n",
    "from IPython.display import display, HTML\n",
    "import plotly.graph_objects as go\n",
    "import plotly.express as px\n",
    "from ipywidgets import interact, widgets, interactive_output\n",
    "import warnings\n",
    "import os\n",
    "import copy\n",
    "warnings.filterwarnings('ignore')\n",
    "\n",
    "# Set plotting style\n",
    "plt.style.use('seaborn-v0_8-darkgrid')\n",
    "sns.set_palette(\"husl\")\n",
    "\n",
    "# Notebook helpers for compact prints and plots\n",
    "from tutorials.utils import quick_plot, show, show_metrics"
   ]
  },
  {
   "cell_type": "code",
   "execution_count": 2,
   "id": "826c43f1",
   "metadata": {
    "lines_to_next_cell": 1
   },
   "outputs": [],
   "source": [
    "# Core environment and baselines\n",
    "from envs.evcharging import EVChargingEnv, GMMsTraceGenerator, RealTraceGenerator, MultiAgentEVChargingEnv\n",
    "from envs.evcharging.env import magnitude_constraint\n",
    "from tutorials.utils import GreedyAlgorithm, RandomAlgorithm, MPC, OfflineOptimal\n",
    "\n",
    "# Data loading\n",
    "from data.load_moer import load_monthly_moer, MOERLoader\n",
    "from envs.evcharging.utils import get_real_events, to_la_dt\n",
    "\n",
    "# Import utility functions\n",
    "from tutorials.utils import (\n",
    "    save_timeseries, load_timeseries,\n",
    "    save_df_gz, load_df_gz,\n",
    "    get_cache_dir, ensure_dir,\n",
    "    evaluate_policy, sweep_noise,\n",
    "    plot_robustness_heatmap, plot_action_saturation,\n",
    "    plot_action_distribution, plot_actions_heatmap,\n",
    "    plot_cost_return_pareto, plot_violation_heatmap,\n",
    "    plot_training_curves,\n",
    "    find_critical_windows_from_series,\n",
    "    save_evaluation_results, load_evaluation_results,\n",
    "    run_scenario_sweep, plot_algorithm_comparison_matrix,\n",
    "    run_multiagent_scenario_sweep, collect_ma_trajectory, plot_agent_coordination_matrix\n",
    ")\n",
    "\n",
    "from tutorials.utils import (\n",
    "    pilot_signals_df,\n",
    "    constraint_slack_t,\n",
    "    constraint_slack_series,\n",
    "    plot_slack_from_env,\n",
    "    algorithm_arena,\n",
    "    interactive_critical_timeline,\n",
    "    reconstruct_state,\n",
    "    rollout_to_trajectory,\n",
    "    traj_to_timeseries_df,\n",
    "    standardize_trajectory_costs,\n",
    "    collect_trajectory_direct,\n",
    "    # Planning-friendly wrappers and composer\n",
    "    apply_wrappers,\n",
    "    DepartureUncertaintyWrapper, GrowingForecastErrorWrapper, CarbonEmphasisWrapper, DemandChargeWrapper,\n",
    ")\n",
    "\n",
    "import cvxpy as cp\n",
    "import acnportal.acnsim as acns\n",
    "from tutorials.utils import wrap_policy, create_ev_env, PlanningEvalConfig, get_planning_eval_env_fn\n",
    "\n",
    "\n",
    "# Global density toggle for tutorial demos\n",
    "# This tutorial enables a denser, more demonstrable scenario when using the shared\n",
    "# environment factory `create_ev_env()` by passing `dense_mode=True` (default 3x sessions).\n",
    "# This improves interactivity and reduces flat segments during short horizons.\n",
    "# For realistic benchmarking and research experiments, set `TUTORIAL_DENSE = False`.\n",
    "TUTORIAL_DENSE = True"
   ]
  },
  {
   "cell_type": "markdown",
   "id": "30b34cd5",
   "metadata": {},
   "source": [
    "### 1.2 Solver Configuration\n",
    "\n"
   ]
  },
  {
   "cell_type": "code",
   "execution_count": 3,
   "id": "661fe133",
   "metadata": {},
   "outputs": [
    {
     "data": {
      "text/html": [
       "\n",
       "            <div style=\"margin:0;padding:2px 6px;display:inline-block;border-left:4px solid #4F46E5;background:#F8FAFC;border-radius:6px;line-height:1.1;\">\n",
       "              <span style=\"font-weight:600;color:#1F2937;\">Available solvers</span>\n",
       "            </div>\n",
       "            "
      ],
      "text/plain": [
       "<IPython.core.display.HTML object>"
      ]
     },
     "metadata": {},
     "output_type": "display_data"
    },
    {
     "name": "stdout",
     "output_type": "stream",
     "text": [
      "['CLARABEL', 'ECOS', 'ECOS_BB', 'OSQP', 'SCIPY', 'SCS']\n"
     ]
    }
   ],
   "source": [
    "def solve_with_fallback(prob):\n",
    "    \"\"\"Solve CVXPY problem using a robust fallback across installed solvers.\n",
    "\n",
    "    Rationale: not all environments have commercial solvers (e.g., MOSEK).\n",
    "    This wrapper tries multiple solvers in order of preference so the\n",
    "    notebooks run everywhere. Solver choice may affect speed but should not\n",
    "    affect correctness.\n",
    "    \"\"\"\n",
    "    from tutorials.utils import solve_cvx_with_fallback\n",
    "    return solve_cvx_with_fallback(prob)\n",
    "\n",
    "show(\"section: Available solvers\")\n",
    "show(\"text: {solvers}\", solvers=cp.installed_solvers())"
   ]
  },
  {
   "cell_type": "markdown",
   "id": "0f88dffb",
   "metadata": {},
   "source": [
    "### 1.3 Data Inspection\n",
    "\n",
    "Let's examine our three data sources: MOER (carbon intensity), real EV sessions, and synthetic GMM sessions.\n",
    "MOER shows daily patterns (low at night, high during day), and charging sessions cluster around work hours - \n",
    "these patterns directly impact optimal charging strategies.\n",
    "\n",
    "#### MOER Data\n",
    "\n",
    "**MOER (Marginal Operating Emissions Rate)** represents the carbon intensity of electricity at each 5-minute interval. Lower MOER means cleaner energy. The forecasts (f1, f6, f12, etc.) allow algorithms to plan ahead."
   ]
  },
  {
   "cell_type": "code",
   "execution_count": 4,
   "id": "60fd4c49",
   "metadata": {},
   "outputs": [
    {
     "data": {
      "text/html": [
       "\n",
       "            <div style=\"margin:0;padding:2px 6px;display:inline-block;border-left:4px solid #4F46E5;background:#F8FAFC;border-radius:6px;line-height:1.1;\">\n",
       "              <span style=\"font-weight:600;color:#1F2937;\">MOER Data Structure</span>\n",
       "            </div>\n",
       "            "
      ],
      "text/plain": [
       "<IPython.core.display.HTML object>"
      ]
     },
     "metadata": {},
     "output_type": "display_data"
    },
    {
     "data": {
      "text/html": [
       "\n",
       "        <div style=\"margin:0;padding:6px 8px;border-radius:6px;border:1px solid #e5e7eb;background:#ffffff;display:block;line-height:1.15;\">\n",
       "          <div style=\"font-weight:700;color:#111827;margin-bottom:2px;\">Metrics</div>\n",
       "          <ul style=\"margin:0 0 0 10px;padding:0;color:#374151;list-style-position:inside;\"><li style='margin:2px 0;'><b>Columns</b>: [&#x27;moer&#x27;, &#x27;f1&#x27;, &#x27;f2&#x27;, &#x27;f3&#x27;, &#x27;f4&#x27;, &#x27;f5&#x27;, &#x27;f6&#x27;, &#x27;f7&#x27;, &#x27;f8&#x27;, &#x27;f9&#x27;]</li><li style='margin:2px 0;'><b>Shape</b>: (9216, 37)</li><li style='margin:2px 0;'><b>Date Range</b>: 2019-05-31 00:00:00+00:00 to 2019-07-01 23:55:00+00:00</li></ul>\n",
       "        </div>\n",
       "        "
      ],
      "text/plain": [
       "<IPython.core.display.HTML object>"
      ]
     },
     "metadata": {},
     "output_type": "display_data"
    },
    {
     "data": {
      "text/html": [
       "<div>\n",
       "<style scoped>\n",
       "    .dataframe tbody tr th:only-of-type {\n",
       "        vertical-align: middle;\n",
       "    }\n",
       "\n",
       "    .dataframe tbody tr th {\n",
       "        vertical-align: top;\n",
       "    }\n",
       "\n",
       "    .dataframe thead th {\n",
       "        text-align: right;\n",
       "    }\n",
       "</style>\n",
       "<table border=\"1\" class=\"dataframe\">\n",
       "  <thead>\n",
       "    <tr style=\"text-align: right;\">\n",
       "      <th></th>\n",
       "      <th>moer</th>\n",
       "      <th>f1</th>\n",
       "      <th>f2</th>\n",
       "      <th>f3</th>\n",
       "      <th>f4</th>\n",
       "      <th>f5</th>\n",
       "      <th>f6</th>\n",
       "      <th>f7</th>\n",
       "      <th>f8</th>\n",
       "      <th>f9</th>\n",
       "      <th>...</th>\n",
       "      <th>f27</th>\n",
       "      <th>f28</th>\n",
       "      <th>f29</th>\n",
       "      <th>f30</th>\n",
       "      <th>f31</th>\n",
       "      <th>f32</th>\n",
       "      <th>f33</th>\n",
       "      <th>f34</th>\n",
       "      <th>f35</th>\n",
       "      <th>f36</th>\n",
       "    </tr>\n",
       "    <tr>\n",
       "      <th>time</th>\n",
       "      <th></th>\n",
       "      <th></th>\n",
       "      <th></th>\n",
       "      <th></th>\n",
       "      <th></th>\n",
       "      <th></th>\n",
       "      <th></th>\n",
       "      <th></th>\n",
       "      <th></th>\n",
       "      <th></th>\n",
       "      <th></th>\n",
       "      <th></th>\n",
       "      <th></th>\n",
       "      <th></th>\n",
       "      <th></th>\n",
       "      <th></th>\n",
       "      <th></th>\n",
       "      <th></th>\n",
       "      <th></th>\n",
       "      <th></th>\n",
       "      <th></th>\n",
       "    </tr>\n",
       "  </thead>\n",
       "  <tbody>\n",
       "    <tr>\n",
       "      <th>2019-05-31 00:00:00+00:00</th>\n",
       "      <td>0.121442</td>\n",
       "      <td>0.143301</td>\n",
       "      <td>0.140829</td>\n",
       "      <td>0.138640</td>\n",
       "      <td>0.136275</td>\n",
       "      <td>0.137925</td>\n",
       "      <td>0.145098</td>\n",
       "      <td>0.155275</td>\n",
       "      <td>0.169213</td>\n",
       "      <td>0.165420</td>\n",
       "      <td>...</td>\n",
       "      <td>0.191443</td>\n",
       "      <td>0.200999</td>\n",
       "      <td>0.204948</td>\n",
       "      <td>0.210293</td>\n",
       "      <td>0.222099</td>\n",
       "      <td>0.234960</td>\n",
       "      <td>0.233212</td>\n",
       "      <td>0.220456</td>\n",
       "      <td>0.214562</td>\n",
       "      <td>0.220264</td>\n",
       "    </tr>\n",
       "    <tr>\n",
       "      <th>2019-05-31 00:05:00+00:00</th>\n",
       "      <td>0.121442</td>\n",
       "      <td>0.123767</td>\n",
       "      <td>0.128867</td>\n",
       "      <td>0.130003</td>\n",
       "      <td>0.124601</td>\n",
       "      <td>0.137613</td>\n",
       "      <td>0.155275</td>\n",
       "      <td>0.169213</td>\n",
       "      <td>0.165420</td>\n",
       "      <td>0.162794</td>\n",
       "      <td>...</td>\n",
       "      <td>0.200999</td>\n",
       "      <td>0.204948</td>\n",
       "      <td>0.210293</td>\n",
       "      <td>0.222099</td>\n",
       "      <td>0.234960</td>\n",
       "      <td>0.233212</td>\n",
       "      <td>0.220456</td>\n",
       "      <td>0.214562</td>\n",
       "      <td>0.220264</td>\n",
       "      <td>0.213462</td>\n",
       "    </tr>\n",
       "    <tr>\n",
       "      <th>2019-05-31 00:10:00+00:00</th>\n",
       "      <td>0.122233</td>\n",
       "      <td>0.120110</td>\n",
       "      <td>0.121420</td>\n",
       "      <td>0.117840</td>\n",
       "      <td>0.128653</td>\n",
       "      <td>0.138215</td>\n",
       "      <td>0.169213</td>\n",
       "      <td>0.165420</td>\n",
       "      <td>0.162794</td>\n",
       "      <td>0.151170</td>\n",
       "      <td>...</td>\n",
       "      <td>0.204948</td>\n",
       "      <td>0.210293</td>\n",
       "      <td>0.222099</td>\n",
       "      <td>0.234960</td>\n",
       "      <td>0.233212</td>\n",
       "      <td>0.220456</td>\n",
       "      <td>0.214562</td>\n",
       "      <td>0.220264</td>\n",
       "      <td>0.213462</td>\n",
       "      <td>0.209941</td>\n",
       "    </tr>\n",
       "  </tbody>\n",
       "</table>\n",
       "<p>3 rows × 37 columns</p>\n",
       "</div>"
      ],
      "text/plain": [
       "                               moer        f1        f2        f3        f4  \\\n",
       "time                                                                          \n",
       "2019-05-31 00:00:00+00:00  0.121442  0.143301  0.140829  0.138640  0.136275   \n",
       "2019-05-31 00:05:00+00:00  0.121442  0.123767  0.128867  0.130003  0.124601   \n",
       "2019-05-31 00:10:00+00:00  0.122233  0.120110  0.121420  0.117840  0.128653   \n",
       "\n",
       "                                 f5        f6        f7        f8        f9  \\\n",
       "time                                                                          \n",
       "2019-05-31 00:00:00+00:00  0.137925  0.145098  0.155275  0.169213  0.165420   \n",
       "2019-05-31 00:05:00+00:00  0.137613  0.155275  0.169213  0.165420  0.162794   \n",
       "2019-05-31 00:10:00+00:00  0.138215  0.169213  0.165420  0.162794  0.151170   \n",
       "\n",
       "                           ...       f27       f28       f29       f30  \\\n",
       "time                       ...                                           \n",
       "2019-05-31 00:00:00+00:00  ...  0.191443  0.200999  0.204948  0.210293   \n",
       "2019-05-31 00:05:00+00:00  ...  0.200999  0.204948  0.210293  0.222099   \n",
       "2019-05-31 00:10:00+00:00  ...  0.204948  0.210293  0.222099  0.234960   \n",
       "\n",
       "                                f31       f32       f33       f34       f35  \\\n",
       "time                                                                          \n",
       "2019-05-31 00:00:00+00:00  0.222099  0.234960  0.233212  0.220456  0.214562   \n",
       "2019-05-31 00:05:00+00:00  0.234960  0.233212  0.220456  0.214562  0.220264   \n",
       "2019-05-31 00:10:00+00:00  0.233212  0.220456  0.214562  0.220264  0.213462   \n",
       "\n",
       "                                f36  \n",
       "time                                 \n",
       "2019-05-31 00:00:00+00:00  0.220264  \n",
       "2019-05-31 00:05:00+00:00  0.213462  \n",
       "2019-05-31 00:10:00+00:00  0.209941  \n",
       "\n",
       "[3 rows x 37 columns]"
      ]
     },
     "metadata": {},
     "output_type": "display_data"
    },
    {
     "data": {
      "image/png": "[encoded data removed]",
      "text/plain": [
       "<Figure size 1200x400 with 2 Axes>"
      ]
     },
     "metadata": {},
     "output_type": "display_data"
    }
   ],
   "source": [
    "# MOER (historical + forecasts)\n",
    "df_moer = load_monthly_moer(2019, 6, ba='SGIP_CAISO_SCE')\n",
    "show(\"section: MOER Data Structure\")\n",
    "show_metrics({'Columns': list(df_moer.columns)[:10], 'Shape': df_moer.shape, 'Date Range': f\"{df_moer.index[0]} to {df_moer.index[-1]}\"})\n",
    "show(\"table\", df=df_moer.head(3))\n",
    "\n",
    "# Visualize MOER pattern\n",
    "ref_idx = 144  # noon sample\n",
    "# Build overlay for the next available forecast horizon (36 steps = 3 hours)\n",
    "h = np.arange(1, 37)\n",
    "hours_ahead = h * (5.0 / 60.0)\n",
    "forecast_cols = [f\"f{i}\" for i in h]\n",
    "try:\n",
    "    true_future = df_moer['moer'].values[ref_idx+1: ref_idx+1+36]\n",
    "    forecast_future = df_moer[forecast_cols].iloc[ref_idx].values\n",
    "    L = int(min(len(true_future), len(forecast_future), len(hours_ahead)))\n",
    "    overlay_df = pd.DataFrame({\n",
    "        'hours_ahead': hours_ahead[:L],\n",
    "        'true_moer': np.asarray(true_future[:L], dtype=float),\n",
    "        'forecast_moer': np.asarray(forecast_future[:L], dtype=float),\n",
    "    })\n",
    "    overlay_long = overlay_df.melt(id_vars='hours_ahead', value_vars=['true_moer','forecast_moer'],\n",
    "                                   var_name='series', value_name='moer')\n",
    "except Exception:\n",
    "    # Fallback if forecasts are missing: empty overlay\n",
    "    overlay_long = pd.DataFrame({'hours_ahead': [], 'moer': [], 'series': []})\n",
    "\n",
    "quick_plot({\n",
    "    'layout': '1x2', 'size': (12, 4), 'sharex': False,\n",
    "    'plots': [\n",
    "        {\n",
    "            'type': 'line', 'x': 'time', 'y': 'moer_day',\n",
    "            'title': 'Historical MOER (1 day)', 'xlabel': 'Time', 'ylabel': 'kg CO2/kWh'\n",
    "        },\n",
    "        {\n",
    "            'type': 'line', 'data': 'overlay_long', 'x': 'hours_ahead', 'y': 'moer', 'group': 'series',\n",
    "            'title': 'MOER: Forecast vs True (next 3 hours from noon)',\n",
    "            'xlabel': 'Hours ahead', 'ylabel': 'kg CO2/kWh', 'legend': True\n",
    "        }\n",
    "    ]\n",
    "}, {\n",
    "    'time': df_moer.index[:288],\n",
    "    'moer_day': df_moer['moer'].values[:288],\n",
    "    'overlay_long': overlay_long\n",
    "})"
   ]
  },
  {
   "cell_type": "markdown",
   "id": "ac469375",
   "metadata": {},
   "source": [
    "#### Real Events\n",
    "\n",
    "**What we're seeing:** Real charging sessions from Caltech's ACN dataset. The 'claimed' flag indicates sessions with known departure times, which are easier to schedule optimally.\n"
   ]
  },
  {
   "cell_type": "code",
   "execution_count": 5,
   "id": "2f893191",
   "metadata": {},
   "outputs": [
    {
     "data": {
      "text/html": [
       "\n",
       "            <div style=\"margin:0;padding:2px 6px;display:inline-block;border-left:4px solid #4F46E5;background:#F8FAFC;border-radius:6px;line-height:1.1;\">\n",
       "              <span style=\"font-weight:600;color:#1F2937;\">Real Events Data Structure</span>\n",
       "            </div>\n",
       "            "
      ],
      "text/plain": [
       "<IPython.core.display.HTML object>"
      ]
     },
     "metadata": {},
     "output_type": "display_data"
    },
    {
     "data": {
      "text/html": [
       "\n",
       "        <div style=\"margin:0;padding:6px 8px;border-radius:6px;border:1px solid #e5e7eb;background:#ffffff;display:block;line-height:1.15;\">\n",
       "          <div style=\"font-weight:700;color:#111827;margin-bottom:2px;\">Metrics</div>\n",
       "          <ul style=\"margin:0 0 0 10px;padding:0;color:#374151;list-style-position:inside;\"><li style='margin:2px 0;'><b>Columns</b>: [&#x27;arrival&#x27;, &#x27;departure&#x27;, &#x27;requested_energy (kWh)&#x27;, &#x27;delivered_energy (kWh)&#x27;, &#x27;station_id&#x27;, &#x27;session_id&#x27;, &#x27;estimated_departure&#x27;, &#x27;claimed&#x27;]</li><li style='margin:2px 0;'><b>Total sessions</b>: 3527</li><li style='margin:2px 0;'><b>Avg requested energy (kWh)</b>: 15.68</li></ul>\n",
       "        </div>\n",
       "        "
      ],
      "text/plain": [
       "<IPython.core.display.HTML object>"
      ]
     },
     "metadata": {},
     "output_type": "display_data"
    }
   ],
   "source": [
    "# Real events (ACN-Data packaged)\n",
    "start, end = to_la_dt('2019-05-01'), to_la_dt('2019-08-31')\n",
    "events_df = get_real_events(start, end, site='caltech')\n",
    "show(\"section: Real Events Data Structure\")\n",
    "show_metrics({\n",
    "    'Columns': list(events_df.columns),\n",
    "    'Total sessions': len(events_df),\n",
    "    'Avg requested energy (kWh)': f\"{events_df['requested_energy (kWh)'].mean():.2f}\",\n",
    "})"
   ]
  },
  {
   "cell_type": "markdown",
   "id": "978b0b72",
   "metadata": {},
   "source": [
    "#### GMM-Generated Events\n",
    "\n",
    "**Purpose:** The GMM (Gaussian Mixture Model) generates synthetic charging sessions that statistically match real patterns. This allows unlimited experimentation without privacy concerns."
   ]
  },
  {
   "cell_type": "code",
   "execution_count": 6,
   "id": "51e1fe9e",
   "metadata": {},
   "outputs": [
    {
     "data": {
      "text/html": [
       "\n",
       "            <div style=\"margin:0;padding:2px 6px;display:inline-block;border-left:4px solid #4F46E5;background:#F8FAFC;border-radius:6px;line-height:1.1;\">\n",
       "              <span style=\"font-weight:600;color:#1F2937;\">Synthetic (GMM) Events Structure</span>\n",
       "            </div>\n",
       "            "
      ],
      "text/plain": [
       "<IPython.core.display.HTML object>"
      ]
     },
     "metadata": {},
     "output_type": "display_data"
    },
    {
     "data": {
      "text/html": [
       "\n",
       "        <div style=\"margin:0;padding:6px 8px;border-radius:6px;border:1px solid #e5e7eb;background:#ffffff;display:block;line-height:1.15;\">\n",
       "          <div style=\"font-weight:700;color:#111827;margin-bottom:2px;\">Metrics</div>\n",
       "          <ul style=\"margin:0 0 0 10px;padding:0;color:#374151;list-style-position:inside;\"><li style='margin:2px 0;'><b>Columns</b>: [&#x27;index&#x27;, &#x27;arrival&#x27;, &#x27;departure&#x27;, &#x27;estimated_departure&#x27;, &#x27;requested_energy (kWh)&#x27;, &#x27;session_id&#x27;, &#x27;station_id&#x27;]</li><li style='margin:2px 0;'><b>Total synthetic sessions</b>: 26</li><li style='margin:2px 0;'><b>Avg requested energy (kWh)</b>: 16.48</li></ul>\n",
       "        </div>\n",
       "        "
      ],
      "text/plain": [
       "<IPython.core.display.HTML object>"
      ]
     },
     "metadata": {},
     "output_type": "display_data"
    }
   ],
   "source": [
    "# GMM-sampled events (synthetic) — preview with regular generator (not necessarily dense)\n",
    "gmm_gen = GMMsTraceGenerator(site='caltech', date_period=('2019-05-01','2019-08-31'), seed=0)\n",
    "gmm_events_df = gmm_gen._create_events()\n",
    "show(\"section: Synthetic (GMM) Events Structure\")\n",
    "show_metrics({\n",
    "    'Columns': list(gmm_events_df.columns),\n",
    "    'Total synthetic sessions': len(gmm_events_df),\n",
    "    'Avg requested energy (kWh)': f\"{gmm_events_df['requested_energy (kWh)'].mean():.2f}\",\n",
    "})"
   ]
  },
  {
   "cell_type": "markdown",
   "id": "3077c7bc",
   "metadata": {},
   "source": [
    "### 1.4 Environment Configuration\n",
    "\n",
    "Initializing the EV charging environment with specific parameters. The `moer_forecast_steps=36` means algorithms can see 3 hours ahead (36 × 5 minutes).\n",
    "\n",
    "Notation note: we refer to actions as normalized rates $\\rho^{\\text{rate}}_{i,t} \\in [0,1]$ (often called \"pilot\"). Hardware maps these to currents via `ACTION_SCALE_FACTOR` (i.e., $I^{\\text{max}}=32$ A).\n",
    "\n",
    "**Key parameters explained:**\n",
    "- `num_stations`: Physical charging ports available\n",
    "- `ACTION_SCALE_FACTOR`: Converts normalized [0,1] actions to actual charging rates\n",
    "- `PROFIT_FACTOR` and `CARBON_COST_FACTOR`: Weight the trade-off between revenue and emissions\n"
   ]
  },
  {
   "cell_type": "code",
   "execution_count": 7,
   "id": "5edbd23f",
   "metadata": {},
   "outputs": [
    {
     "data": {
      "text/html": [
       "\n",
       "            <div style=\"margin:0;padding:2px 6px;display:inline-block;border-left:4px solid #4F46E5;background:#F8FAFC;border-radius:6px;line-height:1.1;\">\n",
       "              <span style=\"font-weight:600;color:#1F2937;\">Environment Configuration</span>\n",
       "            </div>\n",
       "            "
      ],
      "text/plain": [
       "<IPython.core.display.HTML object>"
      ]
     },
     "metadata": {},
     "output_type": "display_data"
    },
    {
     "data": {
      "text/html": [
       "\n",
       "        <div style=\"margin:0;padding:6px 8px;border-radius:6px;border:1px solid #e5e7eb;background:#ffffff;display:block;line-height:1.15;\">\n",
       "          <div style=\"font-weight:700;color:#111827;margin-bottom:2px;\">Metrics</div>\n",
       "          <ul style=\"margin:0 0 0 10px;padding:0;color:#374151;list-style-position:inside;\"><li style='margin:2px 0;'><b>Env</b>: &lt;EVChargingEnv instance&gt;</li><li style='margin:2px 0;'><b>Stations</b>: 54</li><li style='margin:2px 0;'><b>Max timestep</b>: 288</li><li style='margin:2px 0;'><b>Action scale factor</b>: 32</li></ul>\n",
       "        </div>\n",
       "        "
      ],
      "text/plain": [
       "<IPython.core.display.HTML object>"
      ]
     },
     "metadata": {},
     "output_type": "display_data"
    }
   ],
   "source": [
    "# Initialize environment via factory (dense for tutorials by toggle)\n",
    "# Use raw actions to expose constraint violations for diagnostics.\n",
    "# Set `project_action_in_env=True` to enable safety projection guardrails\n",
    "# when you want to evaluate outcomes under enforced feasibility.\n",
    "env = create_ev_env(\n",
    "    site='caltech',\n",
    "    date_range=('2019-05-01', '2019-08-31'),\n",
    "    seed=0,\n",
    "    flatten=False,\n",
    "    moer_forecast_steps=36,\n",
    "    project_action_in_env=False,\n",
    "    dense_mode=TUTORIAL_DENSE,\n",
    "    # Use EVAL_CFG if available (defined later); otherwise fall back to 3.0 for this intro env\n",
    "    density_multiplier=(globals().get('EVAL_CFG').density_multiplier if globals().get('EVAL_CFG') is not None else 3.0),\n",
    ")\n",
    "\n",
    "show(\"section: Environment Configuration\")\n",
    "show_metrics({\n",
    "    'Env': str(env),\n",
    "    'Stations': env.num_stations,\n",
    "    'Max timestep': env.max_timestep,\n",
    "    'Action scale factor': env.ACTION_SCALE_FACTOR,\n",
    "})"
   ]
  },
  {
   "cell_type": "markdown",
   "id": "a729d86d",
   "metadata": {},
   "source": [
    "## Section 2: Baseline Algorithms\n",
    "\n",
    "We use four canonical baselines (adapted from SustainGym) that form a spectrum from\n",
    "myopic to full-information planning. Let $\\rho^{\\text{rate}}_{i,t} \\in [0,1]$ denote the\n",
    "normalized charging rate (\"pilot\") for station $i$ at time $t$, and let\n",
    "$d^{\\text{energy}}_{i,t}$ be the remaining energy demand (kWh).\n",
    "\n",
    "- **Greedy (myopic full-rate):** Charges at maximum rate whenever there is demand.\n",
    "\n",
    "    $$\n",
    "    \\rho^{\\text{rate}}_{i,t} = \\begin{cases}\n",
    "    1, & d^{\\text{energy}}_{i,t} > 0 \\\\\n",
    "    0, & \\text{otherwise}\n",
    "    \\end{cases}\n",
    "    $$\n",
    "\n",
    "- **Random (uninformed):** Samples actions from a uniform distribution, serving as a lower-bound.\n",
    "\n",
    "    $$\n",
    "    \\rho^{\\text{rate}}_{i,t} \\sim \\mathcal{U}[0,1] \\quad (\\text{continuous})\n",
    "    $$\n",
    "\n",
    "- **MPC (receding-horizon planning):** Solves a short-horizon optimization problem at each step using forecasted data. With a horizon $H$ and MOER forecast $\\text{MOER}_{t+\\tau}$:\n",
    "\n",
    "    $$\n",
    "    \\max_{\\{p^{\\text{charge}}_{i,t+\\tau}\\}_{i,\\tau}} \\sum_{\\tau=0}^{H-1} \\Big( c_p \\sum_i p^{\\text{charge}}_{i,t+\\tau} - c_c \\cdot \\text{MOER}_{t+\\tau} \\cdot \\sum_i p^{\\text{charge}}_{i,t+\\tau} \\Big)\n",
    "    $$\n",
    "\n",
    "    This is subject to energy demand, network, and station constraints. The first normalized rate of the plan, $\\rho^{\\text{rate}}_{i,t}$, is executed.\n",
    "\n",
    "- **Offline Optimal (oracle):** Solves the full-horizon optimization problem with perfect information about the entire episode (demands, arrivals, departures, and MOER). This provides a theoretical upper bound on performance.\n",
    "\n",
    "    $$\n",
    "    \\max_{\\{p^{\\text{charge}}_{i,t}\\}_{i,t}} \\sum_{t=0}^{T-1} \\Big( c_p \\sum_i p^{\\text{charge}}_{i,t} - c_c \\cdot \\text{MOER}_t \\cdot \\sum_i p^{\\text{charge}}_{i,t} \\Big)\n",
    "    $$\n",
    "\n",
    "#### Cost Convention (Per-step vs Cumulative)\n",
    "\n",
    "Throughout these tutorials we use a per-step safety cost $c_t$ and evaluate constraints on the cumulative episode cost.\n",
    "\n",
    "- Per-step cost:\n",
    "  $$c_t\\;=\\;\\Bigl\\|\\,\\max\\{0,\\;|\\tilde{\\mathbf{A}}^{\\text{net}}\\,\\boldsymbol{\\rho}^{\\text{rate}}_t|\\cdot I^{\\text{max}} - \\mathbf{b}^{\\text{limit}}\\}\\,\\Bigr\\|_1$$\n",
    "\n",
    "- Episode cumulative cost:\n",
    "  $$C^{(\\text{ep})} = \\sum_{t=0}^{T-1} c_t.$$\n",
    "\n",
    "- Constraint used in diagnostics/comparisons:\n",
    "  $$\\mathbb{E}[\\,C^{(\\text{ep})}\\,] \\le d.$$\n",
    "\n",
    "Practical notes:\n",
    "- The environment exposes `info['reward_breakdown']['excess_charge']` as a cumulative series.\n",
    "- Utilities convert it to per-step via differencing and report `info['cost']` per step.\n",
    "- Plots and summary `mean_cost` use episode totals to match training dashboards.\n",
    "\n"
   ]
  },
  {
   "cell_type": "code",
   "execution_count": 8,
   "id": "362d13f7",
   "metadata": {},
   "outputs": [],
   "source": [
    "# Create a standardized way to run any baseline algorithm and collect trajectory data.\n",
    "# This works with any algorithm that has a `get_action()` method.\n",
    "def rollout_baseline(env, algo, max_steps=288, seed=0, verbose=False):\n",
    "    \"\"\"Collect trajectory via shared utility and standardize costs/fields.\"\"\"\n",
    "    return collect_trajectory_direct(\n",
    "        env,\n",
    "        algo,\n",
    "        max_steps=max_steps,\n",
    "        seed=seed,\n",
    "        deep_copy_obs=True,\n",
    "        standardize=True,\n",
    "    )"
   ]
  },
  {
   "cell_type": "markdown",
   "id": "d4ee0905",
   "metadata": {},
   "source": [
    "\n",
    "### 2.1 Running All Baselines\n",
    "\n",
    "**What we're doing:** Running four baseline algorithms to establish performance bounds:\n",
    "- **Greedy**: Charges as fast as possible (simple but may violate constraints)\n",
    "- **Random**: Random actions (uninformed baseline)\n",
    "- **MPC-12**: Representative MPC with a 12-step planning horizon\n",
    "- **Offline**: Knows entire future (upper bound on performance)\n",
    "\n",
    "**Key insight:** The gap between Greedy and Offline shows the value of planning. MPC‑12 captures most of the benefit, so we keep it as the representative MPC baseline here. See the MPC Deep Dive notebook for full horizon analyses.\n"
   ]
  },
  {
   "cell_type": "code",
   "execution_count": 9,
   "id": "df0d35ef",
   "metadata": {},
   "outputs": [
    {
     "data": {
      "text/html": [
       "\n",
       "            <div style=\"margin:0;padding:2px 6px;display:inline-block;border-left:4px solid #4F46E5;background:#F8FAFC;border-radius:6px;line-height:1.1;\">\n",
       "              <span style=\"font-weight:600;color:#1F2937;\">Detailed evaluation using utility functions</span>\n",
       "            </div>\n",
       "            "
      ],
      "text/plain": [
       "<IPython.core.display.HTML object>"
      ]
     },
     "metadata": {},
     "output_type": "display_data"
    },
    {
     "data": {
      "text/html": [
       "\n",
       "        <div style=\"margin:0;padding:6px 8px;border-radius:6px;border:1px solid #e5e7eb;background:#ffffff;display:block;line-height:1.15;\">\n",
       "          <div style=\"font-weight:700;color:#111827;margin-bottom:2px;\">Evaluation Environment Settings (Shared)</div>\n",
       "          <ul style=\"margin:0 0 0 10px;padding:0;color:#374151;list-style-position:inside;\"><li style='margin:2px 0;'><b>Density multiplier</b>: 3.000</li><li style='margin:2px 0;'><b>Violation weight</b>: 0.100</li><li style='margin:2px 0;'><b>Carbon multiplier</b>: 0.300</li><li style='margin:2px 0;'><b>Departure ext (steps)</b>: 24</li><li style='margin:2px 0;'><b>Forecast error enabled</b>: True</li><li style='margin:2px 0;'><b>Demand charge enabled</b>: False</li><li style='margin:2px 0;'><b>Demand charge $/kW</b>: 0.000</li></ul>\n",
       "        </div>\n",
       "        "
      ],
      "text/plain": [
       "<IPython.core.display.HTML object>"
      ]
     },
     "metadata": {},
     "output_type": "display_data"
    },
    {
     "data": {
      "text/html": [
       "\n",
       "            <div style=\"margin:0;padding:6px 8px;border-radius:6px;line-height:1.1;\n",
       "                        background:linear-gradient(180deg,#ffffff, #ffffff);border:1px solid #e5e7eb;display:inline-block;\">\n",
       "              <div style=\"font-weight:700;font-size:2.20rem;color:#111827;\">\n",
       "                Reward Analysis Summary\n",
       "              </div>\n",
       "            </div>\n",
       "            "
      ],
      "text/plain": [
       "<IPython.core.display.HTML object>"
      ]
     },
     "metadata": {},
     "output_type": "display_data"
    },
    {
     "data": {
      "text/html": [
       "\n",
       "        <div style=\"font-family:ui-sans-serif, system-ui; margin:6px 0; padding:8px 10px; border-radius:6px; background:#ecfdf5; color:#065f46; border:1px solid rgba(0,0,0,0.05);\">\n",
       "          <span style=\"margin-right:6px;\">🍺</span>\n",
       "          <span>Evaluation saved to /Users/jinming/Dropbox/CodingProjects/GridGuardian-RL/tutorials/utils/cache/baselines/baseline_greedy_evaluation.json</span>\n",
       "        </div>\n",
       "        "
      ],
      "text/plain": [
       "<IPython.core.display.HTML object>"
      ]
     },
     "metadata": {},
     "output_type": "display_data"
    },
    {
     "data": {
      "text/html": [
       "\n",
       "        <div style=\"font-family:ui-sans-serif, system-ui; margin:6px 0; padding:8px 10px; border-radius:6px; background:#ecfdf5; color:#065f46; border:1px solid rgba(0,0,0,0.05);\">\n",
       "          <span style=\"margin-right:6px;\">🍺</span>\n",
       "          <span>Summary saved to /Users/jinming/Dropbox/CodingProjects/GridGuardian-RL/tutorials/utils/cache/baselines/baseline_greedy_summary.csv</span>\n",
       "        </div>\n",
       "        "
      ],
      "text/plain": [
       "<IPython.core.display.HTML object>"
      ]
     },
     "metadata": {},
     "output_type": "display_data"
    },
    {
     "data": {
      "text/html": [
       "\n",
       "            <div style=\"font-family:ui-monospace, SFMono-Regular, Menlo, Monaco, Consolas, 'Liberation Mono', 'Courier New', monospace;\n",
       "                                color:#065F46;background:#ECFDF5;border:1px solid #A7F3D0;display:inline-block;\n",
       "                                padding:4px 8px;border-radius:6px;margin:2px 0;\">Greedy: μ=20.54±11.07, cost=52.90</div>\n",
       "            "
      ],
      "text/plain": [
       "<IPython.core.display.HTML object>"
      ]
     },
     "metadata": {},
     "output_type": "display_data"
    },
    {
     "data": {
      "text/html": [
       "\n",
       "            <div style=\"margin:0;padding:2px 6px;display:inline-block;border-left:4px solid #4F46E5;background:#F8FAFC;border-radius:6px;line-height:1.1;\">\n",
       "              <span style=\"font-weight:600;color:#1F2937;\">Behavior Metrics — Greedy</span>\n",
       "            </div>\n",
       "            "
      ],
      "text/plain": [
       "<IPython.core.display.HTML object>"
      ]
     },
     "metadata": {},
     "output_type": "display_data"
    },
    {
     "data": {
      "text/html": [
       "\n",
       "        <div style=\"margin:0;padding:6px 8px;border-radius:6px;border:1px solid #e5e7eb;background:#ffffff;display:block;line-height:1.15;\">\n",
       "          <div style=\"font-weight:700;color:#111827;margin-bottom:2px;\">Metrics</div>\n",
       "          <ul style=\"margin:0 0 0 10px;padding:0;color:#374151;list-style-position:inside;\"><li style='margin:2px 0;'><b>Total return</b>: $20.54</li><li style='margin:2px 0;'><b>Objective (return - violations)</b>: $-32.36</li><li style='margin:2px 0;'><b>Profit</b>: $22.42</li><li style='margin:2px 0;'><b>Carbon cost</b>: $1.88</li><li style='margin:2px 0;'><b>Violations (mean cost)</b>: $52.90</li><li style='margin:2px 0;'><b>Satisfaction</b>: 88.4%</li></ul>\n",
       "        </div>\n",
       "        "
      ],
      "text/plain": [
       "<IPython.core.display.HTML object>"
      ]
     },
     "metadata": {},
     "output_type": "display_data"
    },
    {
     "data": {
      "text/html": [
       "\n",
       "        <div style=\"font-family:ui-sans-serif, system-ui; margin:6px 0; padding:8px 10px; border-radius:6px; background:#ecfdf5; color:#065f46; border:1px solid rgba(0,0,0,0.05);\">\n",
       "          <span style=\"margin-right:6px;\">🍺</span>\n",
       "          <span>Evaluation saved to /Users/jinming/Dropbox/CodingProjects/GridGuardian-RL/tutorials/utils/cache/baselines/baseline_random_evaluation.json</span>\n",
       "        </div>\n",
       "        "
      ],
      "text/plain": [
       "<IPython.core.display.HTML object>"
      ]
     },
     "metadata": {},
     "output_type": "display_data"
    },
    {
     "data": {
      "text/html": [
       "\n",
       "        <div style=\"font-family:ui-sans-serif, system-ui; margin:6px 0; padding:8px 10px; border-radius:6px; background:#ecfdf5; color:#065f46; border:1px solid rgba(0,0,0,0.05);\">\n",
       "          <span style=\"margin-right:6px;\">🍺</span>\n",
       "          <span>Summary saved to /Users/jinming/Dropbox/CodingProjects/GridGuardian-RL/tutorials/utils/cache/baselines/baseline_random_summary.csv</span>\n",
       "        </div>\n",
       "        "
      ],
      "text/plain": [
       "<IPython.core.display.HTML object>"
      ]
     },
     "metadata": {},
     "output_type": "display_data"
    },
    {
     "data": {
      "text/html": [
       "\n",
       "            <div style=\"font-family:ui-monospace, SFMono-Regular, Menlo, Monaco, Consolas, 'Liberation Mono', 'Courier New', monospace;\n",
       "                                color:#065F46;background:#ECFDF5;border:1px solid #A7F3D0;display:inline-block;\n",
       "                                padding:4px 8px;border-radius:6px;margin:2px 0;\">Random: μ=15.89±8.26, cost=233.02</div>\n",
       "            "
      ],
      "text/plain": [
       "<IPython.core.display.HTML object>"
      ]
     },
     "metadata": {},
     "output_type": "display_data"
    },
    {
     "data": {
      "text/html": [
       "\n",
       "            <div style=\"margin:0;padding:2px 6px;display:inline-block;border-left:4px solid #4F46E5;background:#F8FAFC;border-radius:6px;line-height:1.1;\">\n",
       "              <span style=\"font-weight:600;color:#1F2937;\">Behavior Metrics — Random</span>\n",
       "            </div>\n",
       "            "
      ],
      "text/plain": [
       "<IPython.core.display.HTML object>"
      ]
     },
     "metadata": {},
     "output_type": "display_data"
    },
    {
     "data": {
      "text/html": [
       "\n",
       "        <div style=\"margin:0;padding:6px 8px;border-radius:6px;border:1px solid #e5e7eb;background:#ffffff;display:block;line-height:1.15;\">\n",
       "          <div style=\"font-weight:700;color:#111827;margin-bottom:2px;\">Metrics</div>\n",
       "          <ul style=\"margin:0 0 0 10px;padding:0;color:#374151;list-style-position:inside;\"><li style='margin:2px 0;'><b>Total return</b>: $15.89</li><li style='margin:2px 0;'><b>Objective (return - violations)</b>: $-217.13</li><li style='margin:2px 0;'><b>Profit</b>: $17.38</li><li style='margin:2px 0;'><b>Carbon cost</b>: $1.49</li><li style='margin:2px 0;'><b>Violations (mean cost)</b>: $233.02</li><li style='margin:2px 0;'><b>Satisfaction</b>: 69.6%</li></ul>\n",
       "        </div>\n",
       "        "
      ],
      "text/plain": [
       "<IPython.core.display.HTML object>"
      ]
     },
     "metadata": {},
     "output_type": "display_data"
    },
    {
     "data": {
      "text/html": [
       "\n",
       "        <div style=\"font-family:ui-sans-serif, system-ui; margin:6px 0; padding:8px 10px; border-radius:6px; background:#ecfdf5; color:#065f46; border:1px solid rgba(0,0,0,0.05);\">\n",
       "          <span style=\"margin-right:6px;\">🍺</span>\n",
       "          <span>Evaluation saved to /Users/jinming/Dropbox/CodingProjects/GridGuardian-RL/tutorials/utils/cache/baselines/baseline_mpc_12_evaluation.json</span>\n",
       "        </div>\n",
       "        "
      ],
      "text/plain": [
       "<IPython.core.display.HTML object>"
      ]
     },
     "metadata": {},
     "output_type": "display_data"
    },
    {
     "data": {
      "text/html": [
       "\n",
       "        <div style=\"font-family:ui-sans-serif, system-ui; margin:6px 0; padding:8px 10px; border-radius:6px; background:#ecfdf5; color:#065f46; border:1px solid rgba(0,0,0,0.05);\">\n",
       "          <span style=\"margin-right:6px;\">🍺</span>\n",
       "          <span>Summary saved to /Users/jinming/Dropbox/CodingProjects/GridGuardian-RL/tutorials/utils/cache/baselines/baseline_mpc_12_summary.csv</span>\n",
       "        </div>\n",
       "        "
      ],
      "text/plain": [
       "<IPython.core.display.HTML object>"
      ]
     },
     "metadata": {},
     "output_type": "display_data"
    },
    {
     "data": {
      "text/html": [
       "\n",
       "            <div style=\"font-family:ui-monospace, SFMono-Regular, Menlo, Monaco, Consolas, 'Liberation Mono', 'Courier New', monospace;\n",
       "                                color:#065F46;background:#ECFDF5;border:1px solid #A7F3D0;display:inline-block;\n",
       "                                padding:4px 8px;border-radius:6px;margin:2px 0;\">MPC-12: μ=19.03±9.44, cost=0.07</div>\n",
       "            "
      ],
      "text/plain": [
       "<IPython.core.display.HTML object>"
      ]
     },
     "metadata": {},
     "output_type": "display_data"
    },
    {
     "data": {
      "text/html": [
       "\n",
       "            <div style=\"margin:0;padding:2px 6px;display:inline-block;border-left:4px solid #4F46E5;background:#F8FAFC;border-radius:6px;line-height:1.1;\">\n",
       "              <span style=\"font-weight:600;color:#1F2937;\">Behavior Metrics — MPC-12</span>\n",
       "            </div>\n",
       "            "
      ],
      "text/plain": [
       "<IPython.core.display.HTML object>"
      ]
     },
     "metadata": {},
     "output_type": "display_data"
    },
    {
     "data": {
      "text/html": [
       "\n",
       "        <div style=\"margin:0;padding:6px 8px;border-radius:6px;border:1px solid #e5e7eb;background:#ffffff;display:block;line-height:1.15;\">\n",
       "          <div style=\"font-weight:700;color:#111827;margin-bottom:2px;\">Metrics</div>\n",
       "          <ul style=\"margin:0 0 0 10px;padding:0;color:#374151;list-style-position:inside;\"><li style='margin:2px 0;'><b>Total return</b>: $19.03</li><li style='margin:2px 0;'><b>Objective (return - violations)</b>: $18.96</li><li style='margin:2px 0;'><b>Profit</b>: $20.78</li><li style='margin:2px 0;'><b>Carbon cost</b>: $1.75</li><li style='margin:2px 0;'><b>Violations (mean cost)</b>: $0.07</li><li style='margin:2px 0;'><b>Satisfaction</b>: 84.0%</li></ul>\n",
       "        </div>\n",
       "        "
      ],
      "text/plain": [
       "<IPython.core.display.HTML object>"
      ]
     },
     "metadata": {},
     "output_type": "display_data"
    },
    {
     "data": {
      "text/html": [
       "\n",
       "        <div style=\"font-family:ui-sans-serif, system-ui; margin:6px 0; padding:8px 10px; border-radius:6px; background:#ecfdf5; color:#065f46; border:1px solid rgba(0,0,0,0.05);\">\n",
       "          <span style=\"margin-right:6px;\">🍺</span>\n",
       "          <span>Evaluation saved to /Users/jinming/Dropbox/CodingProjects/GridGuardian-RL/tutorials/utils/cache/baselines/baseline_offline_evaluation.json</span>\n",
       "        </div>\n",
       "        "
      ],
      "text/plain": [
       "<IPython.core.display.HTML object>"
      ]
     },
     "metadata": {},
     "output_type": "display_data"
    },
    {
     "data": {
      "text/html": [
       "\n",
       "        <div style=\"font-family:ui-sans-serif, system-ui; margin:6px 0; padding:8px 10px; border-radius:6px; background:#ecfdf5; color:#065f46; border:1px solid rgba(0,0,0,0.05);\">\n",
       "          <span style=\"margin-right:6px;\">🍺</span>\n",
       "          <span>Summary saved to /Users/jinming/Dropbox/CodingProjects/GridGuardian-RL/tutorials/utils/cache/baselines/baseline_offline_summary.csv</span>\n",
       "        </div>\n",
       "        "
      ],
      "text/plain": [
       "<IPython.core.display.HTML object>"
      ]
     },
     "metadata": {},
     "output_type": "display_data"
    },
    {
     "data": {
      "text/html": [
       "\n",
       "            <div style=\"font-family:ui-monospace, SFMono-Regular, Menlo, Monaco, Consolas, 'Liberation Mono', 'Courier New', monospace;\n",
       "                                color:#065F46;background:#ECFDF5;border:1px solid #A7F3D0;display:inline-block;\n",
       "                                padding:4px 8px;border-radius:6px;margin:2px 0;\">Offline: μ=19.73±10.28, cost=0.11</div>\n",
       "            "
      ],
      "text/plain": [
       "<IPython.core.display.HTML object>"
      ]
     },
     "metadata": {},
     "output_type": "display_data"
    },
    {
     "data": {
      "text/html": [
       "\n",
       "            <div style=\"margin:0;padding:2px 6px;display:inline-block;border-left:4px solid #4F46E5;background:#F8FAFC;border-radius:6px;line-height:1.1;\">\n",
       "              <span style=\"font-weight:600;color:#1F2937;\">Behavior Metrics — Offline</span>\n",
       "            </div>\n",
       "            "
      ],
      "text/plain": [
       "<IPython.core.display.HTML object>"
      ]
     },
     "metadata": {},
     "output_type": "display_data"
    },
    {
     "data": {
      "text/html": [
       "\n",
       "        <div style=\"margin:0;padding:6px 8px;border-radius:6px;border:1px solid #e5e7eb;background:#ffffff;display:block;line-height:1.15;\">\n",
       "          <div style=\"font-weight:700;color:#111827;margin-bottom:2px;\">Metrics</div>\n",
       "          <ul style=\"margin:0 0 0 10px;padding:0;color:#374151;list-style-position:inside;\"><li style='margin:2px 0;'><b>Total return</b>: $19.73</li><li style='margin:2px 0;'><b>Objective (return - violations)</b>: $19.62</li><li style='margin:2px 0;'><b>Profit</b>: $21.49</li><li style='margin:2px 0;'><b>Carbon cost</b>: $1.75</li><li style='margin:2px 0;'><b>Violations (mean cost)</b>: $0.11</li><li style='margin:2px 0;'><b>Satisfaction</b>: 85.6%</li></ul>\n",
       "        </div>\n",
       "        "
      ],
      "text/plain": [
       "<IPython.core.display.HTML object>"
      ]
     },
     "metadata": {},
     "output_type": "display_data"
    }
   ],
   "source": [
    "# Instantiate baselines\n",
    "greedy = GreedyAlgorithm(env)\n",
    "random_baseline = RandomAlgorithm(env)\n",
    "mpc_12 = MPC(env, lookahead=12)\n",
    "offline = OfflineOptimal(env)\n",
    "\n",
    "# Suppress noisy header while still collecting trajectories for downstream plots/diagnostics\n",
    "# show(\"header: Running baseline simulations...\")\n",
    "\n",
    "# Collect trajectories using rollout helper\n",
    "trajectories = {}\n",
    "baseline_algos = {\n",
    "    'Greedy': greedy,\n",
    "    'Random': random_baseline,\n",
    "    'MPC-12': mpc_12,\n",
    "    'Offline': offline\n",
    "}\n",
    "\n",
    "for name, algo in baseline_algos.items():\n",
    "    traj = rollout_baseline(env, algo, seed=42)\n",
    "    trajectories[name] = traj\n",
    "    # Suppress per-algorithm single-episode totals to avoid confusion with multi-episode evaluation\n",
    "    # show(\"metric: {name}: Total reward = ${reward:.2f}\", name=name, reward=np.sum(traj['reward']))\n",
    "\n",
    "# Standardize costs across collected trajectories (ensure per-step series)\n",
    "for k, tr in list(trajectories.items()):\n",
    "    trajectories[k] = standardize_trajectory_costs(tr)\n",
    "\n",
    "# Fix trajectory fields from stored observations for consistent downstream analysis\n",
    "for k, tr in list(trajectories.items()):\n",
    "    try:\n",
    "        obs_list = tr.get('obs', [])\n",
    "        if obs_list:\n",
    "            # Derive MOER from prev_moer in obs\n",
    "            moer_from_obs = np.array([\n",
    "                (o['prev_moer'][0] if isinstance(o, dict) and 'prev_moer' in o and len(o['prev_moer']) > 0 else np.nan)\n",
    "                for o in obs_list\n",
    "            ], dtype=float)\n",
    "            tr['moer'] = moer_from_obs\n",
    "            # Derive demands directly from obs to avoid earlier zeros\n",
    "            tr['demands'] = np.array([\n",
    "                (o['demands'].copy() if isinstance(o, dict) and 'demands' in o else np.zeros(1))\n",
    "                for o in obs_list\n",
    "            ], dtype=object)\n",
    "            trajectories[k] = tr\n",
    "    except Exception:\n",
    "        pass\n",
    "\n",
    "# Also evaluate with utility function for comprehensive metrics\n",
    "show(\"section: Detailed evaluation using utility functions\")\n",
    "# Increase episodes for better statistical significance\n",
    "EVAL_EPISODES = 10\n",
    "\n",
    "# Shared planning-friendly evaluation settings\n",
    "EVAL_CFG = PlanningEvalConfig(\n",
    "    density_multiplier=3.0,\n",
    "    violation_weight=0.1,\n",
    "    carbon_multiplier=0.3,\n",
    "    departure_extension_steps=24,\n",
    "    enable_forecast_error=True,\n",
    "    enable_demand_charge=False,\n",
    "    demand_charge_per_kw=200.0,\n",
    "    seed=42,\n",
    ")\n",
    "\n",
    "# Fresh env factory decoupled from earlier rollouts\n",
    "eval_env_fn = get_planning_eval_env_fn(\n",
    "    EVAL_CFG,\n",
    "    site='caltech',\n",
    "    date_range=('2019-05-01', '2019-08-31'),\n",
    "    flatten=False,\n",
    "    moer_forecast_steps=36,\n",
    "    project_action_in_env=False,\n",
    "    dense_mode=TUTORIAL_DENSE,\n",
    ")\n",
    "\n",
    "make_env_fn = lambda **kwargs: eval_env_fn()\n",
    "\n",
    "# Display active evaluation settings for transparency\n",
    "show_metrics({\n",
    "    'Density multiplier': EVAL_CFG.density_multiplier,\n",
    "    'Violation weight': EVAL_CFG.violation_weight,\n",
    "    'Carbon multiplier': EVAL_CFG.carbon_multiplier,\n",
    "    'Departure ext (steps)': EVAL_CFG.departure_extension_steps,\n",
    "    'Forecast error enabled': EVAL_CFG.enable_forecast_error,\n",
    "    'Demand charge enabled': EVAL_CFG.enable_demand_charge,\n",
    "    'Demand charge $/kW': EVAL_CFG.demand_charge_per_kw if EVAL_CFG.enable_demand_charge else 0.0,\n",
    "}, title='Evaluation Environment Settings (Shared)')\n",
    "\n",
    "show(\"header: Reward Analysis Summary\")\n",
    "# Accumulate per‑algorithm summary for downstream comparison plots\n",
    "baseline_eval_rows = []\n",
    "for name, algo in baseline_algos.items():\n",
    "    if name == 'Offline':\n",
    "        # Fair evaluation for Offline: fresh env + fresh OfflineOptimal per episode\n",
    "        ep_returns = []\n",
    "        ep_costs = []\n",
    "        ep_profits = []\n",
    "        ep_carbons = []\n",
    "        ep_true_sats = []\n",
    "\n",
    "        for ep in range(EVAL_EPISODES):\n",
    "            env_ep = None\n",
    "            try:\n",
    "                env_ep = make_env_fn()\n",
    "                off = OfflineOptimal(env_ep)\n",
    "                obs, _ = env_ep.reset(seed=ep)\n",
    "                total_ret = 0.0\n",
    "                total_cost = 0.0\n",
    "                total_profit = 0.0\n",
    "                total_carbon = 0.0\n",
    "                last_excess = 0.0\n",
    "                last_profit = 0.0\n",
    "                last_carbon = 0.0\n",
    "                t = 0\n",
    "                done = False\n",
    "                while (not done) and (t < 288):\n",
    "                    a = off.get_action(obs)\n",
    "                    obs, r, term, trunc, info = env_ep.step(a)\n",
    "                    total_ret += float(r)\n",
    "                    rb = info.get('reward_breakdown', {})\n",
    "                    ex_cum = float(rb.get('excess_charge', 0.0))\n",
    "                    total_cost += max(0.0, ex_cum - last_excess)\n",
    "                    last_excess = ex_cum\n",
    "                    pr_cum = float(rb.get('profit', 0.0))\n",
    "                    total_profit += max(0.0, pr_cum - last_profit)\n",
    "                    last_profit = pr_cum\n",
    "                    ca_cum = float(rb.get('carbon_cost', 0.0))\n",
    "                    total_carbon += max(0.0, ca_cum - last_carbon)\n",
    "                    last_carbon = ca_cum\n",
    "                    done = bool(term) or bool(trunc)\n",
    "                    t += 1\n",
    "                # Compute true satisfaction from simulator (delivered kWh / requested kWh)\n",
    "                try:\n",
    "                    base_env = env_ep\n",
    "                    for _ in range(5):\n",
    "                        if hasattr(base_env, 'env'):\n",
    "                            base_env = getattr(base_env, 'env')\n",
    "                        else:\n",
    "                            break\n",
    "                    base_env = getattr(base_env, 'unwrapped', base_env)\n",
    "                    sim = getattr(base_env, '_simulator', None)\n",
    "                    evs = getattr(base_env, '_evs', [])\n",
    "                    a_pers_to_kwh = float(getattr(base_env, 'A_PERS_TO_KWH', 0.0))\n",
    "                    if sim is not None and hasattr(sim, 'charging_rates') and a_pers_to_kwh > 0:\n",
    "                        R = np.asarray(sim.charging_rates)\n",
    "                        T_used = min(int(t), R.shape[1]) if R.ndim == 2 else int(t)\n",
    "                        delivered_amp_periods = float(np.sum(R[:, :T_used])) if R.ndim == 2 else 0.0\n",
    "                        delivered_kwh = delivered_amp_periods * a_pers_to_kwh\n",
    "                        requested_total_kwh = float(np.sum([float(getattr(ev, 'requested_energy', 0.0)) for ev in evs]))\n",
    "                        true_sat = (delivered_kwh / max(requested_total_kwh, 1e-9)) if requested_total_kwh > 0 else 0.0\n",
    "                        ep_true_sats.append(true_sat)\n",
    "                except Exception:\n",
    "                    pass\n",
    "                ep_returns.append(total_ret)\n",
    "                ep_costs.append(total_cost)\n",
    "                ep_profits.append(total_profit)\n",
    "                ep_carbons.append(total_carbon)\n",
    "            finally:\n",
    "                try:\n",
    "                    if env_ep is not None:\n",
    "                        env_ep.close()\n",
    "                except Exception:\n",
    "                    pass\n",
    "\n",
    "        mean_ret = float(np.mean(ep_returns)) if ep_returns else 0.0\n",
    "        std_ret = float(np.std(ep_returns)) if ep_returns else 0.0\n",
    "        mean_cost = float(np.mean(ep_costs)) if ep_costs else 0.0\n",
    "        objective_mean = mean_ret - mean_cost\n",
    "        metrics = {\n",
    "            'profit_mean': float(np.mean(ep_profits)) if ep_profits else 0.0,\n",
    "            'carbon_cost_mean': float(np.mean(ep_carbons)) if ep_carbons else 0.0,\n",
    "            'true_satisfaction_mean': float(np.mean(ep_true_sats)) if ep_true_sats else 0.0,\n",
    "        }\n",
    "\n",
    "        save_evaluation_results(\n",
    "            tag=f\"baseline_{name.lower().replace('-', '_')}\",\n",
    "            policy_name=name,\n",
    "            mean_return=mean_ret,\n",
    "            std_return=std_ret,\n",
    "            mean_cost=mean_cost,\n",
    "            metrics=metrics,\n",
    "            kind='baselines'\n",
    "        )\n",
    "\n",
    "        show(\"metric: {name}: μ={mean:.2f}±{std:.2f}, cost={cost:.2f}\", name=name, mean=mean_ret, std=std_ret, cost=mean_cost)\n",
    "        show(\"section: Behavior Metrics — {name}\", name=name)\n",
    "        show_metrics({\n",
    "            'Total return': f'${mean_ret:.2f}',\n",
    "            'Objective (return - violations)': f'${objective_mean:.2f}',\n",
    "            'Profit': f'${metrics.get(\"profit_mean\", 0):.2f}',\n",
    "            'Carbon cost': f'${metrics.get(\"carbon_cost_mean\", 0):.2f}',\n",
    "            'Violations (mean cost)': f'${mean_cost:.2f}',\n",
    "            'Satisfaction': f'{metrics.get(\"true_satisfaction_mean\", 0)*100:.1f}%'\n",
    "        })\n",
    "        # Store for comparison plots\n",
    "        baseline_eval_rows.append({\n",
    "            'algorithm': name,\n",
    "            'return_mean': mean_ret,\n",
    "            'violation_cost_mean': mean_cost,\n",
    "            'objective_mean': objective_mean,\n",
    "            'profit_mean': metrics.get('profit_mean', 0.0),\n",
    "            'carbon_cost_mean': metrics.get('carbon_cost_mean', 0.0),\n",
    "        })\n",
    "        continue\n",
    "\n",
    "    policy_fn = wrap_policy(algo)\n",
    "    mean_ret, std_ret, mean_cost, metrics = evaluate_policy(\n",
    "        policy_fn, make_env_fn,\n",
    "        episodes=EVAL_EPISODES,\n",
    "        track_metrics=['satisfaction', 'components', 'actions']\n",
    "    )\n",
    "\n",
    "    # Save evaluation results using utility\n",
    "    save_evaluation_results(\n",
    "        tag=f\"baseline_{name.lower().replace('-', '_')}\",\n",
    "        policy_name=name,\n",
    "        mean_return=mean_ret,\n",
    "        std_return=std_ret,\n",
    "        mean_cost=mean_cost,\n",
    "        metrics=metrics,\n",
    "        kind='baselines'\n",
    "    )\n",
    "\n",
    "    show(\"metric: {name}: μ={mean:.2f}±{std:.2f}, cost={cost:.2f}\", name=name, mean=mean_ret, std=std_ret, cost=mean_cost)\n",
    "    show(\"section: Behavior Metrics — {name}\", name=name)\n",
    "    show_metrics({\n",
    "        'Total return': f'${mean_ret:.2f}',\n",
    "        'Objective (return - violations)': f'${(mean_ret - mean_cost):.2f}',\n",
    "        'Profit': f'${metrics.get(\"profit_mean\", 0):.2f}',\n",
    "        'Carbon cost': f'${metrics.get(\"carbon_cost_mean\", 0):.2f}',\n",
    "        'Violations (mean cost)': f'${mean_cost:.2f}',\n",
    "        # Prefer simulator-derived true satisfaction if available\n",
    "        'Satisfaction': f'{metrics.get(\"true_satisfaction_mean\", metrics.get(\"satisfaction_mean\", 0))*100:.1f}%',\n",
    "    })\n",
    "    # Store for comparison plots\n",
    "    baseline_eval_rows.append({\n",
    "        'algorithm': name,\n",
    "        'return_mean': mean_ret,\n",
    "        'violation_cost_mean': mean_cost,\n",
    "        'objective_mean': (mean_ret - mean_cost),\n",
    "        'profit_mean': metrics.get('profit_mean', 0.0),\n",
    "        'carbon_cost_mean': metrics.get('carbon_cost_mean', 0.0),\n",
    "    })"
   ]
  },
  {
   "cell_type": "markdown",
   "id": "044f7306",
   "metadata": {},
   "source": [
    "### 2.2 Performance Visualization\n",
    "\n",
    "#### Side-by-Side Algorithm Arena\n",
    " \n",
    "The arena synchronizes playback and shows a safety-aware scoreboard. When `excess_charge` is tracked, the scoreboard includes safety metrics (Total Cost, Violation Steps, Mean/Max Violation). Expect Greedy to incur more violations, MPC to balance safety and reward, and Offline to have minimal or zero violations."
   ]
  },
  {
   "cell_type": "code",
   "execution_count": 10,
   "id": "08cbecdf",
   "metadata": {},
   "outputs": [
    {
     "data": {
      "application/vnd.jupyter.widget-view+json": {
       "model_id": "4d363259889e40f0afdad43b63d80475",
       "version_major": 2,
       "version_minor": 0
      },
      "text/plain": [
       "VBox(children=(HTML(value='<h3>Algorithm Face-Off</h3>'), FigureWidget({\n",
       "    'data': [{'colorbar': {'len': 0.4…"
      ]
     },
     "metadata": {},
     "output_type": "display_data"
    },
    {
     "data": {
      "text/html": [
       "\n",
       "            <div style=\"margin:0;padding:2px 6px;display:inline-block;border-left:4px solid #4F46E5;background:#F8FAFC;border-radius:6px;line-height:1.1;\">\n",
       "              <span style=\"font-weight:600;color:#1F2937;\">Reward vs Violation Cost (Episode Means)</span>\n",
       "            </div>\n",
       "            "
      ],
      "text/plain": [
       "<IPython.core.display.HTML object>"
      ]
     },
     "metadata": {},
     "output_type": "display_data"
    },
    {
     "data": {
      "image/png": "[encoded data removed]",
      "text/plain": [
       "<Figure size 1500x400 with 3 Axes>"
      ]
     },
     "metadata": {},
     "output_type": "display_data"
    },
    {
     "name": "stdout",
     "output_type": "stream",
     "text": [
      "We report episode‑level mean return, mean violation cost, and the composite objective (return − violations). See Tutorial 03 for per‑step vs cumulative cost conventions.\n"
     ]
    }
   ],
   "source": [
    "# Use the interactive algorithm arena for synchronized comparison\n",
    "# Note: Exclude Offline from the interactive arena because reusing the same\n",
    "# OfflineOptimal instance after a full 288-step rollout causes its internal\n",
    "# timestep to overflow on subsequent use. Keeping interactive to policies that\n",
    "# don't require full-episode planning avoids this issue.\n",
    "algorithms = {name: wrap_policy(algo) for name, algo in baseline_algos.items() if name != 'Offline'}\n",
    "\n",
    "# Reuse the planning-friendly evaluation env config for the arena\n",
    "env_fn = lambda: eval_env_fn()\n",
    "\n",
    "arena = algorithm_arena(algorithms, env_fn, seed=42, max_steps=288,\n",
    "                        metrics_to_track=['profit', 'carbon_cost', 'excess_charge'])\n",
    "display(arena)\n",
    "\n",
    "# Summarize baseline performance: reward vs violation cost (episode means)\n",
    "try:\n",
    "    if baseline_eval_rows:\n",
    "        _df = pd.DataFrame(baseline_eval_rows)\n",
    "        # Keep a stable ordering by algorithm name\n",
    "        _df = _df.sort_values('algorithm')\n",
    "        show(\"section: Reward vs Violation Cost (Episode Means)\")\n",
    "        quick_plot({\n",
    "            'layout': '1x3',\n",
    "            'size': (15, 4),\n",
    "            'plots': [\n",
    "                {\n",
    "                    'type': 'bar',\n",
    "                    'data': _df,\n",
    "                    'x': 'algorithm',\n",
    "                    'y': 'return_mean',\n",
    "                    'title': 'Mean Return by Algorithm',\n",
    "                    'ylabel': 'Return ($)'\n",
    "                },\n",
    "                {\n",
    "                    'type': 'bar',\n",
    "                    'data': _df,\n",
    "                    'x': 'algorithm',\n",
    "                    'y': 'violation_cost_mean',\n",
    "                    'title': 'Mean Violation Cost by Algorithm',\n",
    "                    'ylabel': 'Violation Cost ($)'\n",
    "                },\n",
    "                {\n",
    "                    'type': 'bar',\n",
    "                    'data': _df,\n",
    "                    'x': 'algorithm',\n",
    "                    'y': 'objective_mean',\n",
    "                    'title': 'Objective (Return - Violations)',\n",
    "                    'ylabel': 'Objective ($)'\n",
    "                }\n",
    "            ]\n",
    "        }, {})\n",
    "        show(\"text: We report episode‑level mean return, mean violation cost, and the composite objective (return − violations). This aligns with the cost definitions from Section 2.\")\n",
    "except Exception:\n",
    "    pass"
   ]
  },
  {
   "cell_type": "markdown",
   "id": "a22dadec",
   "metadata": {
    "lines_to_next_cell": 0
   },
   "source": [
    "> For a full MPC deep dive, see `tutorials/08_ev_mpc_deep_dive.py`:\n",
    "> - Why different MPC horizons perform similarly in this setting\n",
    "> - How to create scenarios where horizons matter\n",
    "> - Computational scaling, stability, and limitations\n",
    "> - Complete investigations and debug scripts\n"
   ]
  },
  {
   "cell_type": "markdown",
   "id": "ef788fb1",
   "metadata": {},
   "source": [
    "## Section 3: Constraint and Safety Analysis\n",
    "\n",
    "### 3.1 Constraint Slack Inspection\n",
    "\n",
    "Network constraints limit total current flow. \"Slack\" is the safety margin before violating a constraint. Near-zero slack means the constraint is binding (limiting our actions).\n",
    "\n",
    "**Insight:** Understanding when and where constraints bind helps identify infrastructure bottlenecks and guides policy design."
   ]
  },
  {
   "cell_type": "code",
   "execution_count": 11,
   "id": "1acbedc2",
   "metadata": {},
   "outputs": [
    {
     "data": {
      "text/html": [
       "\n",
       "        <div style=\"font-family:ui-sans-serif, system-ui; margin:6px 0;\">\n",
       "          <div style=\"color:#374151;font-size:0.9rem;margin-bottom:4px;\">Running MPC-12 to populate simulator arrays... (0/100)</div>\n",
       "          <div style=\"background:#E5E7EB;border-radius:9999px;overflow:hidden;height:10px;\">\n",
       "            <div style=\"width:0%;background:#4F46E5;height:10px;\"></div>\n",
       "          </div>\n",
       "        </div>\n",
       "        "
      ],
      "text/plain": [
       "<IPython.core.display.HTML object>"
      ]
     },
     "metadata": {},
     "output_type": "display_data"
    },
    {
     "data": {
      "text/html": [
       "\n",
       "            <div style=\"margin:0;padding:6px 8px;border-radius:6px;line-height:1.1;\n",
       "                        background:linear-gradient(180deg,#ffffff, #ffffff);border:1px solid #e5e7eb;display:inline-block;\">\n",
       "              <div style=\"font-weight:700;font-size:2.20rem;color:#111827;\">\n",
       "                Constraint Analysis at Key Times\n",
       "              </div>\n",
       "            </div>\n",
       "            "
      ],
      "text/plain": [
       "<IPython.core.display.HTML object>"
      ]
     },
     "metadata": {},
     "output_type": "display_data"
    },
    {
     "data": {
      "text/html": [
       "\n",
       "            <div style=\"margin:0;padding:2px 6px;display:inline-block;border-left:4px solid #4F46E5;background:#F8FAFC;border-radius:6px;line-height:1.1;\">\n",
       "              <span style=\"font-weight:600;color:#1F2937;\">Time t=24 (hour 2.0)</span>\n",
       "            </div>\n",
       "            "
      ],
      "text/plain": [
       "<IPython.core.display.HTML object>"
      ]
     },
     "metadata": {},
     "output_type": "display_data"
    },
    {
     "data": {
      "text/html": [
       "\n",
       "        <div style=\"margin:0;padding:6px 8px;border-radius:6px;border:1px solid #e5e7eb;background:#ffffff;display:block;line-height:1.15;\">\n",
       "          <div style=\"font-weight:700;color:#111827;margin-bottom:2px;\">Metrics</div>\n",
       "          <ul style=\"margin:0 0 0 10px;padding:0;color:#374151;list-style-position:inside;\"><li style='margin:2px 0;'><b>Min slack (A)</b>: 80.00</li><li style='margin:2px 0;'><b>Binding constraints</b>: 0</li></ul>\n",
       "        </div>\n",
       "        "
      ],
      "text/plain": [
       "<IPython.core.display.HTML object>"
      ]
     },
     "metadata": {},
     "output_type": "display_data"
    },
    {
     "data": {
      "text/html": [
       "\n",
       "            <div style=\"margin:0;padding:2px 6px;display:inline-block;border-left:4px solid #4F46E5;background:#F8FAFC;border-radius:6px;line-height:1.1;\">\n",
       "              <span style=\"font-weight:600;color:#1F2937;\">Time t=48 (hour 4.0)</span>\n",
       "            </div>\n",
       "            "
      ],
      "text/plain": [
       "<IPython.core.display.HTML object>"
      ]
     },
     "metadata": {},
     "output_type": "display_data"
    },
    {
     "data": {
      "text/html": [
       "\n",
       "        <div style=\"margin:0;padding:6px 8px;border-radius:6px;border:1px solid #e5e7eb;background:#ffffff;display:block;line-height:1.15;\">\n",
       "          <div style=\"font-weight:700;color:#111827;margin-bottom:2px;\">Metrics</div>\n",
       "          <ul style=\"margin:0 0 0 10px;padding:0;color:#374151;list-style-position:inside;\"><li style='margin:2px 0;'><b>Min slack (A)</b>: 80.00</li><li style='margin:2px 0;'><b>Binding constraints</b>: 0</li></ul>\n",
       "        </div>\n",
       "        "
      ],
      "text/plain": [
       "<IPython.core.display.HTML object>"
      ]
     },
     "metadata": {},
     "output_type": "display_data"
    },
    {
     "data": {
      "text/html": [
       "\n",
       "            <div style=\"margin:0;padding:2px 6px;display:inline-block;border-left:4px solid #4F46E5;background:#F8FAFC;border-radius:6px;line-height:1.1;\">\n",
       "              <span style=\"font-weight:600;color:#1F2937;\">Time t=96 (hour 8.0)</span>\n",
       "            </div>\n",
       "            "
      ],
      "text/plain": [
       "<IPython.core.display.HTML object>"
      ]
     },
     "metadata": {},
     "output_type": "display_data"
    },
    {
     "data": {
      "text/html": [
       "\n",
       "        <div style=\"margin:0;padding:6px 8px;border-radius:6px;border:1px solid #e5e7eb;background:#ffffff;display:block;line-height:1.15;\">\n",
       "          <div style=\"font-weight:700;color:#111827;margin-bottom:2px;\">Metrics</div>\n",
       "          <ul style=\"margin:0 0 0 10px;padding:0;color:#374151;list-style-position:inside;\"><li style='margin:2px 0;'><b>Min slack (A)</b>: 16.00</li><li style='margin:2px 0;'><b>Binding constraints</b>: 0</li></ul>\n",
       "        </div>\n",
       "        "
      ],
      "text/plain": [
       "<IPython.core.display.HTML object>"
      ]
     },
     "metadata": {},
     "output_type": "display_data"
    },
    {
     "data": {
      "text/html": [
       "\n",
       "            <div style=\"margin:0;padding:2px 6px;display:inline-block;border-left:4px solid #4F46E5;background:#F8FAFC;border-radius:6px;line-height:1.1;\">\n",
       "              <span style=\"font-weight:600;color:#1F2937;\">Time t=144 (hour 12.0)</span>\n",
       "            </div>\n",
       "            "
      ],
      "text/plain": [
       "<IPython.core.display.HTML object>"
      ]
     },
     "metadata": {},
     "output_type": "display_data"
    },
    {
     "data": {
      "text/html": [
       "\n",
       "        <div style=\"margin:0;padding:6px 8px;border-radius:6px;border:1px solid #e5e7eb;background:#ffffff;display:block;line-height:1.15;\">\n",
       "          <div style=\"font-weight:700;color:#111827;margin-bottom:2px;\">Metrics</div>\n",
       "          <ul style=\"margin:0 0 0 10px;padding:0;color:#374151;list-style-position:inside;\"><li style='margin:2px 0;'><b>Min slack (A)</b>: 11.73</li><li style='margin:2px 0;'><b>Binding constraints</b>: 0</li></ul>\n",
       "        </div>\n",
       "        "
      ],
      "text/plain": [
       "<IPython.core.display.HTML object>"
      ]
     },
     "metadata": {},
     "output_type": "display_data"
    },
    {
     "data": {
      "text/html": [
       "\n",
       "            <div style=\"margin:0;padding:2px 6px;display:inline-block;border-left:4px solid #4F46E5;background:#F8FAFC;border-radius:6px;line-height:1.1;\">\n",
       "              <span style=\"font-weight:600;color:#1F2937;\">Time t=192 (hour 16.0)</span>\n",
       "            </div>\n",
       "            "
      ],
      "text/plain": [
       "<IPython.core.display.HTML object>"
      ]
     },
     "metadata": {},
     "output_type": "display_data"
    },
    {
     "data": {
      "text/html": [
       "\n",
       "        <div style=\"margin:0;padding:6px 8px;border-radius:6px;border:1px solid #e5e7eb;background:#ffffff;display:block;line-height:1.15;\">\n",
       "          <div style=\"font-weight:700;color:#111827;margin-bottom:2px;\">Metrics</div>\n",
       "          <ul style=\"margin:0 0 0 10px;padding:0;color:#374151;list-style-position:inside;\"><li style='margin:2px 0;'><b>Min slack (A)</b>: 9.00</li><li style='margin:2px 0;'><b>Binding constraints</b>: 0</li></ul>\n",
       "        </div>\n",
       "        "
      ],
      "text/plain": [
       "<IPython.core.display.HTML object>"
      ]
     },
     "metadata": {},
     "output_type": "display_data"
    },
    {
     "data": {
      "text/html": [
       "\n",
       "            <div style=\"margin:0;padding:2px 6px;display:inline-block;border-left:4px solid #4F46E5;background:#F8FAFC;border-radius:6px;line-height:1.1;\">\n",
       "              <span style=\"font-weight:600;color:#1F2937;\">Constraint Slack Heatmap</span>\n",
       "            </div>\n",
       "            "
      ],
      "text/plain": [
       "<IPython.core.display.HTML object>"
      ]
     },
     "metadata": {},
     "output_type": "display_data"
    },
    {
     "data": {
      "image/png": "[encoded data removed]",
      "text/plain": [
       "<Figure size 1000x300 with 2 Axes>"
      ]
     },
     "metadata": {},
     "output_type": "display_data"
    },
    {
     "data": {
      "text/html": [
       "\n",
       "            <div style=\"margin:0;padding:2px 6px;display:inline-block;border-left:4px solid #4F46E5;background:#F8FAFC;border-radius:6px;line-height:1.1;\">\n",
       "              <span style=\"font-weight:600;color:#1F2937;\">Constraint statistics over episode</span>\n",
       "            </div>\n",
       "            "
      ],
      "text/plain": [
       "<IPython.core.display.HTML object>"
      ]
     },
     "metadata": {},
     "output_type": "display_data"
    },
    {
     "data": {
      "text/html": [
       "\n",
       "        <div style=\"margin:0;padding:6px 8px;border-radius:6px;border:1px solid #e5e7eb;background:#ffffff;display:block;line-height:1.15;\">\n",
       "          <div style=\"font-weight:700;color:#111827;margin-bottom:2px;\">Metrics</div>\n",
       "          <ul style=\"margin:0 0 0 10px;padding:0;color:#374151;list-style-position:inside;\"><li style='margin:2px 0;'><b>Min slack observed (A)</b>: -0.74</li><li style='margin:2px 0;'><b>Timesteps with binding (slack&lt;5)</b>: 27</li></ul>\n",
       "        </div>\n",
       "        "
      ],
      "text/plain": [
       "<IPython.core.display.HTML object>"
      ]
     },
     "metadata": {},
     "output_type": "display_data"
    }
   ],
   "source": [
    "# Use utilities instead of reimplementing\n",
    "show(\"progress: Running MPC-12 to populate simulator arrays...\")\n",
    "_ = rollout_baseline(env, mpc_12, seed=42)\n",
    "\n",
    "# Use utility functions for constraint analysis\n",
    "test_times = [24, 48, 96, 144, 192]  # Every 2 hours\n",
    "show(\"header: Constraint Analysis at Key Times\")\n",
    "\n",
    "for T in test_times:\n",
    "    if T < env.t - 1:\n",
    "        # Use utility function instead of custom implementation\n",
    "        mag, slack = constraint_slack_t(env, T)\n",
    "        show(\"section: Time t={t} (hour {h:.1f})\", t=T, h=T/12)\n",
    "        show_metrics({'Min slack (A)': f\"{np.min(slack):.2f}\", 'Binding constraints': int(np.sum(slack < 5))})\n",
    "\n",
    "# Use utility for constraint slack visualization\n",
    "show(\"section: Constraint Slack Heatmap\")\n",
    "plot_slack_from_env(env)\n",
    "\n",
    "# Get full constraint series for analysis\n",
    "mags, slacks = constraint_slack_series(env)\n",
    "show(\"section: Constraint statistics over episode\")\n",
    "show_metrics({'Min slack observed (A)': f\"{np.min(slacks):.2f}\", 'Timesteps with binding (slack<5)': int(np.sum(np.min(slacks, axis=1) < 5))})"
   ]
  },
  {
   "cell_type": "markdown",
   "id": "7eef6fac",
   "metadata": {},
   "source": [
    "### 3.2 Pilot Currents vs Slack: Complementary Views of Constraints\n",
    "\n",
    "**What “pilot currents” are.** In J1772/EVSE terms, the “pilot” is the control signal from the charger to the EV that advertises the maximum allowable current. In ACN‑Sim, this becomes the commanded charging current per station (Amps) at each time step.\n",
    "\n",
    "• These are the post‑constraint, post‑network values (what the simulator actually commanded), not just the raw policy action. They reflect capping, allocations, and network limits.\n",
    "\n",
    "**Why this complements slack analysis.** Slack from `constraint_slack_series(env)` measures how far each network constraint is from binding: `slack = ampacity − |current|`. Near zero or negative slack means a constraint is at/over its limit.\n",
    "\n",
    "• Pilot currents tell you where the load is actually being placed (which stations, how much, when). Slack tells you whether the network edges (transformer/lines) are near their ampacity.\n",
    "• Combining them: low‑slack windows + which stations had high pilot currents shows the “who/when” behind binding pressure. Slack alone can’t identify stations; pilot currents alone don’t show proximity to violation.\n",
    "\n",
    "Below we (1) plot a station‑by‑time heatmap of pilot currents with binding windows highlighted, and (2) summarize per‑station utilization. These directly complement the slack heatmap above."
   ]
  },
  {
   "cell_type": "code",
   "execution_count": 12,
   "id": "b196dfc5",
   "metadata": {},
   "outputs": [
    {
     "data": {
      "image/png": "[encoded data removed]",
      "text/plain": [
       "<Figure size 1100x400 with 2 Axes>"
      ]
     },
     "metadata": {},
     "output_type": "display_data"
    }
   ],
   "source": [
    "# Refresh rollout to populate simulator arrays using utility (standardized stepping)\n",
    "_traj_tmp = collect_trajectory_direct(env, mpc_12, max_steps=288, seed=42, standardize=False)\n",
    "\n",
    "# Tidy pilot signals\n",
    "ps = pilot_signals_df(env)  # columns: ['t', 'station', 'amps']\n",
    "if (ps is not None) and (not ps.empty) and (float(np.nan_to_num(ps['amps'].abs()).sum()) > 1e-9):\n",
    "    # Reuse slack series computed above; fallback if not available in scope\n",
    "    try:\n",
    "        min_slack = np.min(slacks, axis=1)\n",
    "    except Exception:\n",
    "        _, _sl = constraint_slack_series(env)\n",
    "        min_slack = np.min(_sl, axis=1)\n",
    "\n",
    "    threshold = 5.0  # A margin threshold to mark tight/binding periods\n",
    "\n",
    "    # Station-by-time matrix\n",
    "    heat_df = ps.pivot(index='station', columns='t', values='amps').fillna(0)\n",
    "    heat = heat_df.values\n",
    "    T_heat = heat.shape[1] if heat.ndim == 2 else 0\n",
    "\n",
    "    if T_heat > 0:\n",
    "        # Render via quick_plot and overlay binding windows using annotations (no direct Axes handling)\n",
    "        bind_positions = list(np.where((min_slack[:T_heat] < threshold))[0])\n",
    "        annotations = [\n",
    "            {\n",
    "                'region': (int(t_idx) - 0.5, int(t_idx) + 0.5),\n",
    "                'ymin': 0.0,\n",
    "                'ymax': 1.0,\n",
    "                'alpha': 0.12,\n",
    "                'color': 'red',\n",
    "            }\n",
    "            for t_idx in bind_positions\n",
    "        ]\n",
    "        quick_plot({\n",
    "            'type': 'heatmap',\n",
    "            'data': heat,\n",
    "            'cmap': 'viridis',\n",
    "            'clabel': 'Current (A)',\n",
    "            'figsize': (11, 4),\n",
    "            'title': 'Pilot Currents by Station with Binding Windows Highlighted',\n",
    "            'xlabel': 'Time (5-min steps)',\n",
    "            'ylabel': 'Station',\n",
    "            'annotations': annotations,\n",
    "        }, {})\n",
    "else:\n",
    "    show(\"warning: No pilot signals recorded or all zeros; skipping pilot-current plots.\")"
   ]
  },
  {
   "cell_type": "markdown",
   "id": "2134bad9",
   "metadata": {},
   "source": [
    "### 3.3 Violation Analysis\n",
    "\n",
    "When and how often each algorithm violates constraints. Violations incur penalties and could damage equipment in real deployments."
   ]
  },
  {
   "cell_type": "code",
   "execution_count": null,
   "id": "46a7aeeb",
   "metadata": {
    "lines_to_next_cell": 2
   },
   "outputs": [],
   "source": [
    "# Cost signal conventions used in diagnostics below:\n",
    "# - The environment reports a cumulative `info['reward_breakdown']['excess_charge']`.\n",
    "# - When deriving per-step costs, we difference the cumulative series (see utilities).\n",
    "# - Monetary units ($) are consistent with env constants (profit/carbon/cost factors).\n",
    "# - See env source for constants; avoid overriding here to keep comparisons fair.\n",
    "import numpy as np\n",
    "\n",
    "# Build violation data directly (convert cumulative excess to per-step when monotonic)\n",
    "# Note: env reports reward_breakdown['excess_charge'] as a COST in dollars per step.\n",
    "#       We keep dollars here for consistency with profit/carbon_cost.\n",
    "violation_data = []\n",
    "for name, traj in trajectories.items():\n",
    "    excess = np.array(traj['excess_charge'], dtype=float)\n",
    "    step_costs = np.diff(np.r_[0.0, excess]) if np.all(np.diff(excess) >= -1e-9) else excess\n",
    "    for t, cost in enumerate(step_costs):\n",
    "        violation_data.append({'t': t, 'excess_charge': float(cost), 'run_id': name})\n",
    "\n",
    "viol_df = pd.DataFrame(violation_data)\n",
    "plot_violation_heatmap(viol_df)\n",
    "\n",
    "# Summary statistics (cost units: $)\n",
    "show(\"header: Violation Summary\")\n",
    "for name in trajectories.keys():\n",
    "    v = np.asarray(trajectories[name]['excess_charge'], dtype=float)\n",
    "    if v.size == 0:\n",
    "        total_viol = 0.0\n",
    "        viol_steps = 0\n",
    "    else:\n",
    "        # If series is cumulative (monotone nondecreasing), difference it; else assume per-step\n",
    "        step_costs = np.diff(np.r_[0.0, v]) if np.all(np.diff(v) >= -1e-9) else v\n",
    "        total_viol = float(np.sum(step_costs))\n",
    "        viol_steps = int(np.sum(step_costs > 0))\n",
    "    show(\"metric: {name:8s}: Violation cost = ${total:.2f} over {steps} steps\", name=name, total=total_viol, steps=viol_steps)"
   ]
  },
  {
   "cell_type": "markdown",
   "id": "1644f085",
   "metadata": {},
   "source": [
    "### [Removed] Action Critique with One-Step MPC\n",
    "\n",
    "[Removed in favor of focused MPC analysis in `08_ev_mpc_deep_dive.py`]"
   ]
  },
  {
   "cell_type": "markdown",
   "id": "f94ec2ed",
   "metadata": {},
   "source": [
    "### 3.4 Deterministic State Reconstruction Helper\n",
    "\n",
    "What we're doing: Reconstruct the environment state at timestep `t` deterministically by re-simulating from reset with a given policy. This makes counterfactual critiques and ablations reproducible and easier to read."
   ]
  },
  {
   "cell_type": "code",
   "execution_count": 14,
   "id": "12f47edf",
   "metadata": {},
   "outputs": [],
   "source": [
    "# Example usage: get state at t=144 under greedy rollout (utility)\n",
    "obs_t144 = reconstruct_state(env, wrap_policy(greedy), t=144, seed=42)"
   ]
  },
  {
   "cell_type": "markdown",
   "id": "00e7abad",
   "metadata": {},
   "source": [
    "Key messages:\n",
    "- Use the same policy and seed to ensure deterministic reconstruction.\n",
    "- Swap in different policies to compare \"what-if\" states at the same time index.\n"
   ]
  },
  {
   "cell_type": "markdown",
   "id": "501eb3cd",
   "metadata": {},
   "source": [
    "### 3.5 Critical State Ranking\n",
    "\n",
    "**Purpose:** Identify the most challenging moments in the day where good decisions matter most. These are typically when demand is high, MOER is high, and constraints are tight.\n"
   ]
  },
  {
   "cell_type": "markdown",
   "id": "0b088144",
   "metadata": {},
   "source": [
    "#### How Critical Windows Are Identified\n",
    "\n",
    "We identify critical windows by scoring each timestep based on a simple heuristic: a combination of high aggregate demand and high carbon intensity (MOER). Windows are then centered around the highest-scoring, non-overlapping moments.\n",
    "\n",
    "**The key idea is simple:** periods where many cars need charging simultaneously, and when grid electricity is dirtiest, are the most challenging and important to get right. Our scoring function is a direct implementation of this intuition.\n"
   ]
  },
  {
   "cell_type": "code",
   "execution_count": 15,
   "id": "12474a61",
   "metadata": {},
   "outputs": [
    {
     "data": {
      "text/html": [
       "\n",
       "            <div style=\"margin:0;padding:2px 6px;display:inline-block;border-left:4px solid #4F46E5;background:#F8FAFC;border-radius:6px;line-height:1.1;\">\n",
       "              <span style=\"font-weight:600;color:#1F2937;\">Top 5 Critical Windows (MPC-12)</span>\n",
       "            </div>\n",
       "            "
      ],
      "text/plain": [
       "<IPython.core.display.HTML object>"
      ]
     },
     "metadata": {},
     "output_type": "display_data"
    },
    {
     "data": {
      "text/html": [
       "\n",
       "            <div style=\"font-family:ui-monospace, SFMono-Regular, Menlo, Monaco, Consolas, 'Liberation Mono', 'Courier New', monospace;\n",
       "                                color:#065F46;background:#ECFDF5;border:1px solid #A7F3D0;display:inline-block;\n",
       "                                padding:4px 8px;border-radius:6px;margin:2px 0;\">Rank 1: t=[108,120) (hours 9.0-10.0)</div>\n",
       "            "
      ],
      "text/plain": [
       "<IPython.core.display.HTML object>"
      ]
     },
     "metadata": {},
     "output_type": "display_data"
    },
    {
     "data": {
      "text/html": [
       "\n",
       "            <div style=\"font-family:ui-monospace, SFMono-Regular, Menlo, Monaco, Consolas, 'Liberation Mono', 'Courier New', monospace;\n",
       "                                color:#065F46;background:#ECFDF5;border:1px solid #A7F3D0;display:inline-block;\n",
       "                                padding:4px 8px;border-radius:6px;margin:2px 0;\">Rank 2: t=[120,132) (hours 10.0-11.0)</div>\n",
       "            "
      ],
      "text/plain": [
       "<IPython.core.display.HTML object>"
      ]
     },
     "metadata": {},
     "output_type": "display_data"
    },
    {
     "data": {
      "text/html": [
       "\n",
       "            <div style=\"font-family:ui-monospace, SFMono-Regular, Menlo, Monaco, Consolas, 'Liberation Mono', 'Courier New', monospace;\n",
       "                                color:#065F46;background:#ECFDF5;border:1px solid #A7F3D0;display:inline-block;\n",
       "                                padding:4px 8px;border-radius:6px;margin:2px 0;\">Rank 3: t=[135,147) (hours 11.2-12.2)</div>\n",
       "            "
      ],
      "text/plain": [
       "<IPython.core.display.HTML object>"
      ]
     },
     "metadata": {},
     "output_type": "display_data"
    },
    {
     "data": {
      "text/html": [
       "\n",
       "            <div style=\"font-family:ui-monospace, SFMono-Regular, Menlo, Monaco, Consolas, 'Liberation Mono', 'Courier New', monospace;\n",
       "                                color:#065F46;background:#ECFDF5;border:1px solid #A7F3D0;display:inline-block;\n",
       "                                padding:4px 8px;border-radius:6px;margin:2px 0;\">Rank 4: t=[96,108) (hours 8.0-9.0)</div>\n",
       "            "
      ],
      "text/plain": [
       "<IPython.core.display.HTML object>"
      ]
     },
     "metadata": {},
     "output_type": "display_data"
    },
    {
     "data": {
      "text/html": [
       "\n",
       "            <div style=\"font-family:ui-monospace, SFMono-Regular, Menlo, Monaco, Consolas, 'Liberation Mono', 'Courier New', monospace;\n",
       "                                color:#065F46;background:#ECFDF5;border:1px solid #A7F3D0;display:inline-block;\n",
       "                                padding:4px 8px;border-radius:6px;margin:2px 0;\">Rank 5: t=[148,160) (hours 12.3-13.3)</div>\n",
       "            "
      ],
      "text/plain": [
       "<IPython.core.display.HTML object>"
      ]
     },
     "metadata": {},
     "output_type": "display_data"
    }
   ],
   "source": [
    "# Direct utility usage for critical windows (no wrapper)\n",
    "traj_mpc_12 = trajectories['MPC-12']\n",
    "demands = np.sum(np.stack(traj_mpc_12['demands']), axis=1)\n",
    "critical_windows, _ = find_critical_windows_from_series(\n",
    "    moer=traj_mpc_12['moer'][:len(demands)],\n",
    "    agg_demand=demands,\n",
    "    slack=None,\n",
    "    topk=5,\n",
    "    window=12,\n",
    ")\n",
    "\n",
    "show(\"section: Top 5 Critical Windows (MPC-12)\")\n",
    "for i, (start, end) in enumerate(critical_windows):\n",
    "    show(\"metric: Rank {rank}: t=[{start},{end}) (hours {h1:.1f}-{h2:.1f})\", \n",
    "         rank=i+1, start=start, end=end, h1=start/12, h2=end/12)"
   ]
  },
  {
   "cell_type": "markdown",
   "id": "70066076",
   "metadata": {},
   "source": [
    "#### Interactive Critical Timeline (Targeted)\n"
   ]
  },
  {
   "cell_type": "code",
   "execution_count": 16,
   "id": "b4066676",
   "metadata": {
    "lines_to_next_cell": 2
   },
   "outputs": [
    {
     "data": {
      "application/vnd.jupyter.widget-view+json": {
       "model_id": "cceb6cb4aa7c491e80c41c208c7d75bd",
       "version_major": 2,
       "version_minor": 0
      },
      "text/plain": [
       "VBox(children=(HTML(value='<h3>Interactive Critical Timeline</h3>'), FigureWidget({\n",
       "    'data': [{'line': {'co…"
      ]
     },
     "execution_count": 16,
     "metadata": {},
     "output_type": "execute_result"
    }
   ],
   "source": [
    "# Build a minimal trajectory dict for interactive timeline for MPC-12\n",
    "traj = trajectories['MPC-12']\n",
    "\n",
    "reward = np.array(traj['reward'], dtype=float)\n",
    "action = np.stack(traj['action'])\n",
    "obs_seq = []\n",
    "\n",
    "# Re-run a short episode to collect obs for each step (lightweight)\n",
    "_obs, _ = env.reset(seed=42)\n",
    "obs_seq.append(_obs)\n",
    "for t in range(1, len(reward)):\n",
    "    a = mpc_12.get_action(_obs)\n",
    "    _obs, _, done, _, _ = env.step(a)\n",
    "    obs_seq.append(_obs)\n",
    "    if done:\n",
    "        break\n",
    "\n",
    "# Convert cumulative excess_charge to per-step using differences if needed\n",
    "cum_ec = np.array(traj['excess_charge'], dtype=float)\n",
    "excess_step = np.diff(np.r_[0.0, cum_ec])\n",
    "\n",
    "moer_series = np.array(traj['moer'][:len(reward)], dtype=float)\n",
    "\n",
    "timeline = {\n",
    "    'reward': reward,\n",
    "    'action': action[:len(reward)],\n",
    "    'obs': obs_seq[:len(reward)],\n",
    "    'excess_charge': excess_step[:len(reward)],\n",
    "    'moer': moer_series,\n",
    "}\n",
    "\n",
    "interactive_critical_timeline(timeline, env, wrap_policy(mpc_12))"
   ]
  },
  {
   "cell_type": "markdown",
   "id": "4e9974fe",
   "metadata": {
    "cell_marker": "\"\"\""
   },
   "source": [
    "Section 2 MPC horizon and forecast ablation content migrated to 08_ev_mpc_deep_dive.py"
   ]
  },
  {
   "cell_type": "markdown",
   "id": "d36126be",
   "metadata": {},
   "source": [
    "## 4. Robustness and Scenario Testing\n",
    "\n",
    "**What we're testing:** Real-world deployments face two types of challenges:\n",
    "1. **Measurement/control errors** - sensor noise, actuator imprecision, communication delays\n",
    "2. **Operational variability** - different arrival patterns, demand spikes, unusual days\n",
    "\n",
    "This comprehensive analysis tests both types to identify which algorithms are most robust and where they fail.\n",
    "\n",
    "### 4.1 Noise Robustness\n",
    "\n",
    "**Purpose:** Test how algorithms perform when observations or actions are corrupted by noise. This simulates real-world sensor errors (e.g., ±5% energy measurement error) and actuator imprecision (e.g., charging rate varies ±5% from commanded).\n",
    "\n",
    "**Key insight:** MPC algorithms can replan when disturbances occur, making them more robust than purely reactive approaches. The heatmaps reveal performance degradation patterns."
   ]
  },
  {
   "cell_type": "code",
   "execution_count": null,
   "id": "e771eb04",
   "metadata": {},
   "outputs": [
    {
     "data": {
      "text/html": [
       "\n",
       "            <div style=\"margin:0;padding:6px 8px;border-radius:6px;line-height:1.1;\n",
       "                        background:linear-gradient(180deg,#ffffff, #ffffff);border:1px solid #e5e7eb;display:inline-block;\">\n",
       "              <div style=\"font-weight:700;font-size:2.20rem;color:#111827;\">\n",
       "                Noise Robustness Analysis for Baselines\n",
       "              </div>\n",
       "            </div>\n",
       "            "
      ],
      "text/plain": [
       "<IPython.core.display.HTML object>"
      ]
     },
     "metadata": {},
     "output_type": "display_data"
    },
    {
     "data": {
      "text/html": [
       "\n",
       "        <div style=\"font-family:ui-sans-serif, system-ui; margin:6px 0;\">\n",
       "          <div style=\"color:#374151;font-size:0.9rem;margin-bottom:4px;\">Sweeping noise settings (1/12)</div>\n",
       "          <div style=\"background:#E5E7EB;border-radius:9999px;overflow:hidden;height:10px;\">\n",
       "            <div style=\"width:8%;background:#4F46E5;height:10px;\"></div>\n",
       "          </div>\n",
       "        </div>\n",
       "        "
      ],
      "text/plain": [
       "<IPython.core.display.HTML object>"
      ]
     },
     "metadata": {},
     "output_type": "display_data"
    },
    {
     "data": {
      "text/html": [
       "\n",
       "            <div style=\"display:inline-flex;align-items:center;padding:4px 8px;border-radius:6px; background:#ECFDF5; color:#065F46; border:1px solid #A7F3D0;\">\n",
       "              <span style=\"margin-right:6px;\">✔</span><span>Noise sweep completed</span>\n",
       "            </div>\n",
       "            "
      ],
      "text/plain": [
       "<IPython.core.display.HTML object>"
      ]
     },
     "metadata": {},
     "output_type": "display_data"
    }
   ],
   "source": [
    "# Test robustness using utility functions\n",
    "show(\"header: Noise Robustness Analysis for Baselines\")\n",
    "\n",
    "# Run sweeps for both algorithms first to compute a shared color scale\n",
    "robustness_results = {}\n",
    "for name, algo in [('Greedy', greedy), ('MPC-12', mpc_12)]:\n",
    "    policy_fn = wrap_policy(algo)\n",
    "    # Build a factory that forwards noise settings to env creation\n",
    "    def make_env_fn(noise=None, noise_action=None):\n",
    "        return create_ev_env(\n",
    "            site='caltech',\n",
    "            date_range=('2019-05-01', '2019-08-31'),\n",
    "            seed=42,\n",
    "            flatten=False,\n",
    "            moer_forecast_steps=36,\n",
    "            project_action_in_env=False,\n",
    "            dense_mode=TUTORIAL_DENSE,\n",
    "            density_multiplier=10.0,\n",
    "            noise=noise,\n",
    "            noise_action=noise_action,\n",
    "        )\n",
    "\n",
    "    df = sweep_noise(\n",
    "        policy_fn, make_env_fn,\n",
    "        Ns=[0.0, 0.05, 0.1, 0.2],\n",
    "        N_as=[0.0, 0.05, 0.1],\n",
    "        episodes=2\n",
    "    )\n",
    "    # Compute combined objective consistent with earlier sections: objective = return - violations\n",
    "    df = df.copy()\n",
    "    df['objective'] = df['return_mean'] - df['safety_cost']\n",
    "    robustness_results[name] = df\n",
    "\n",
    "# Determine shared color scale across algorithms (objective)\n",
    "all_objectives = np.concatenate([robustness_results[k]['objective'].to_numpy() for k in robustness_results.keys()])\n",
    "vmin_shared = float(np.nanmin(all_objectives)) if all_objectives.size else None\n",
    "vmax_shared = float(np.nanmax(all_objectives)) if all_objectives.size else None\n",
    "\n",
    "# Plot with consistent green-to-red colormap (red=low, green=high) and shared range\n",
    "for name in ['Greedy', 'MPC-12']:\n",
    "    show(\"section: {name} Robustness Test:\", name=name)\n",
    "    robustness_df = robustness_results[name]\n",
    "    show(\"table\", df=robustness_df)\n",
    "    plot_robustness_heatmap(\n",
    "        robustness_df,\n",
    "        value='objective',\n",
    "        title=f\"{name} Robustness to Noise (Objective = Return - Violations)\",\n",
    "        cmap='RdYlGn',\n",
    "        vmin=vmin_shared,\n",
    "        vmax=vmax_shared,\n",
    "    )\n",
    "    # Performance degradation at a moderate noise point using objective\n",
    "    def _obj_at(n, na):\n",
    "        row = robustness_df[(robustness_df['noise'] == n) & (robustness_df['noise_action'] == na)]\n",
    "        return float(row['objective'].values[0]) if len(row) > 0 else np.nan\n",
    "    baseline_perf = _obj_at(0.0, 0.0)\n",
    "    noisy_perf = _obj_at(0.1, 0.05)\n",
    "    if np.isfinite(baseline_perf) and abs(baseline_perf) > 1e-9 and np.isfinite(noisy_perf):\n",
    "        degradation = (baseline_perf - noisy_perf) / abs(baseline_perf) * 100.0\n",
    "        show(\"metric: Performance degradation at moderate noise (objective): {deg:.1f}%\", deg=degradation)\n",
    "    else:\n",
    "        show(\"warning: Could not compute degradation metric for {name}\", name=name)"
   ]
  },
  {
   "cell_type": "markdown",
   "id": "c952a064",
   "metadata": {},
   "source": [
    "**Why this matters:** A policy that works well on average days might fail during unusual conditions (e.g., conference at campus, heat wave, grid emergency). Understanding failure modes helps design robust policies."
   ]
  },
  {
   "cell_type": "markdown",
   "id": "fb126775",
   "metadata": {},
   "source": [
    "**Key Takeaways from Robustness Analysis**\n",
    "\n",
    "1.  **Not All Algorithms Are Equally Robust:** Controllers with planning capabilities, like MPC, are inherently more robust to noise and disturbances because they can adapt and replan. Reactive policies are more brittle.\n",
    "2.  **Identify Failure Modes:** Robustness testing is not about finding a single best algorithm, but about understanding the specific conditions under which each algorithm fails. This is crucial for safe deployment.\n",
    "3.  **Guide for RL Development:** This analysis tells us where an advanced RL agent can provide the most value. An RL agent should, at a minimum, be as robust as the MPC baseline and ideally handle the corner cases where MPC fails.\n"
   ]
  },
  {
   "cell_type": "markdown",
   "id": "2253243b",
   "metadata": {},
   "source": [
    "### 4.3 Action Distribution Analysis\n",
    "\n",
    "**What this shows:** The distribution of actions reveals algorithm behavior patterns:\n",
    "- **Saturation at 0**: Station is idle (no EV or constraint prevents charging)\n",
    "- **Saturation at 1**: Charging at maximum rate (greedy behavior or high demand)\n",
    "- **Mid-range values**: Careful optimization balancing multiple objectives\n",
    "\n",
    "The `plot_action_distribution()` utility provides comprehensive statistical analysis with a single function call."
   ]
  },
  {
   "cell_type": "code",
   "execution_count": null,
   "id": "99bb742a",
   "metadata": {},
   "outputs": [],
   "source": [
    "# Comprehensive action analysis using utilities\n",
    "for name in ['Greedy', 'MPC-12', 'Offline']:\n",
    "    traj = trajectories[name]\n",
    "    actions = np.stack(traj['action'])\n",
    "\n",
    "    show(\"section: {name} Action Analysis\", name=name)\n",
    "\n",
    "    # Use comprehensive utility function\n",
    "    stats = plot_action_distribution(\n",
    "        actions,\n",
    "        title=f'{name} Action Distribution Analysis',\n",
    "        show_stats=True,\n",
    "        show_saturation=True,\n",
    "        return_stats=True\n",
    "    )\n",
    "\n",
    "    # Key statistics in formatted form\n",
    "    show_metrics({\n",
    "        'Mean action': f\"{stats['mean']:.3f}\",\n",
    "        'Saturation high': f\"{stats['saturation_high']*100:.1f}%\",\n",
    "        'Saturation low': f\"{stats['saturation_low']*100:.1f}%\",\n",
    "    })"
   ]
  },
  {
   "cell_type": "markdown",
   "id": "b623b54c",
   "metadata": {},
   "source": [
    "## 5. Advanced Diagnostics and Results\n",
    "\n",
    "### 5.1 Critical Moment Timeline\n",
    "\n",
    "**What this visualization shows:** A synchronized view of all system variables with critical periods highlighted. This helps identify temporal patterns in system stress and understand the interplay between demand, carbon intensity, constraints, and EV arrivals.\n",
    "\n",
    "**Why this matters:** System stress rarely comes from a single factor. Critical moments emerge from combinations: high demand + high MOER + tight constraints. This integrated view reveals these patterns and guides both operational strategies and infrastructure planning."
   ]
  },
  {
   "cell_type": "code",
   "execution_count": null,
   "id": "5be1e870",
   "metadata": {},
   "outputs": [],
   "source": [
    "def plot_critical_timeline():\n",
    "    \"\"\"\n",
    "    Creates comprehensive timeline with critical events highlighted.\n",
    "    Integrates multiple data streams to identify system stress patterns.\n",
    "    \"\"\"\n",
    "    \n",
    "    show(\"header: CRITICAL MOMENT TIMELINE ANALYSIS\")\n",
    "    \n",
    "    # Use MPC-12 as reference (good balance of performance and feasibility)\n",
    "    traj = trajectories['MPC-12']\n",
    "    \n",
    "    # Re-run to ensure we have fresh constraint data\n",
    "    show(\"progress: Generating fresh constraint data...\")\n",
    "    _ = rollout_baseline(env, mpc_12, seed=42)\n",
    "    \n",
    "    # Get critical windows using utility function\n",
    "    moer = traj['moer']\n",
    "    agg_demand = np.sum(np.stack(traj['demands']), axis=1)\n",
    "    \n",
    "    # Get constraint slack data\n",
    "    mags, slacks = constraint_slack_series(env)\n",
    "    min_slack = np.min(slacks, axis=1) if len(slacks) > 0 else None\n",
    "    \n",
    "    # Align series lengths to avoid broadcasting issues (e.g., simulator may record T+1 steps)\n",
    "    # Note: do not depend on 'active_evs' being present; derive it later if needed\n",
    "    T_align = min(\n",
    "        len(moer),\n",
    "        len(agg_demand),\n",
    "        len(min_slack) if min_slack is not None else len(moer),\n",
    "        len(traj['action']),\n",
    "        len(traj['reward']),\n",
    "        len(traj['carbon_cost']),\n",
    "        len(traj['excess_charge']),\n",
    "    )\n",
    "    moer_aligned = np.asarray(moer).reshape(-1)[:T_align]\n",
    "    demand_aligned = np.asarray(agg_demand).reshape(-1)[:T_align]\n",
    "    slack_aligned = np.asarray(min_slack).reshape(-1)[:T_align] if min_slack is not None else None\n",
    "    \n",
    "    # Find critical windows with composite scoring\n",
    "    critical_windows, _ = find_critical_windows_from_series(\n",
    "        moer=moer_aligned,\n",
    "        agg_demand=demand_aligned,\n",
    "        slack=slack_aligned,\n",
    "        topk=10,\n",
    "        window=6  # 30-minute windows\n",
    "    )\n",
    "    \n",
    "    show(\"metric: Critical windows identified: {n}\", n=len(critical_windows))\n",
    "    \n",
    "    # Build aligned time axis and dependent series\n",
    "    time_hours = np.arange(T_align) / 12\n",
    "\n",
    "    # Prepare demands/actions (aligned) for panel 1\n",
    "    try:\n",
    "        demands_arr = np.stack([np.asarray(d, dtype=float) for d in traj['demands']])\n",
    "    except Exception:\n",
    "        demands_arr = np.stack(traj['demands']).astype(float, copy=False)\n",
    "    demand = np.sum(demands_arr, axis=1).astype(float)\n",
    "\n",
    "    try:\n",
    "        actions_arr = np.stack([np.asarray(a, dtype=float) for a in traj['action']])\n",
    "    except Exception:\n",
    "        actions_arr = np.stack(traj['action']).astype(float, copy=False)\n",
    "    charging = np.mean(actions_arr, axis=1).astype(float) * float(getattr(env, 'ACTION_SCALE_FACTOR', 1.0))\n",
    "\n",
    "    x_t = time_hours\n",
    "    demand_t = demand_aligned\n",
    "    charging_t = charging[:T_align]\n",
    "\n",
    "    # EVs and arrivals (aligned) for panel 4\n",
    "    # Derive active EV count if not present: count stations with positive demand\n",
    "    if 'active_evs' in traj:\n",
    "        evs_full = np.asarray(traj['active_evs'], dtype=float)\n",
    "    else:\n",
    "        try:\n",
    "            demands_arr_for_evs = np.stack([np.asarray(d, dtype=float) for d in traj['demands']])\n",
    "        except Exception:\n",
    "            demands_arr_for_evs = np.stack(traj['demands']).astype(float, copy=False)\n",
    "        evs_full = np.sum(demands_arr_for_evs > 1e-9, axis=1).astype(float)\n",
    "    evs_aligned = evs_full[:T_align]\n",
    "    arrivals = np.diff(evs_aligned, prepend=0)\n",
    "    arrivals[arrivals < 0] = 0\n",
    "    avg_evs = float(np.mean(evs_aligned))\n",
    "\n",
    "    # Cumulative series for panel 5\n",
    "    reward_aligned = np.asarray(traj['reward'], dtype=float)[:T_align]\n",
    "    carbon_aligned = np.asarray(traj['carbon_cost'], dtype=float)[:T_align]\n",
    "    viol_aligned = np.asarray(traj['excess_charge'], dtype=float)[:T_align]\n",
    "    cum_reward = np.cumsum(reward_aligned)\n",
    "    cum_carbon = np.cumsum(carbon_aligned)\n",
    "    cum_violations = np.cumsum(viol_aligned)\n",
    "\n",
    "    # Use aligned MOER for threshold computation\n",
    "    moer_threshold = float(np.percentile(moer_aligned, 75))\n",
    "\n",
    "    # Annotations: shaded critical windows for each panel\n",
    "    ann_regions = [\n",
    "        {'region': (start/12, end/12), 'alpha': 0.15, 'color': 'red'}\n",
    "        for (start, end) in critical_windows\n",
    "    ]\n",
    "\n",
    "    # Dataset for quick_plot\n",
    "    data = {\n",
    "        'time': x_t,\n",
    "        'demand_t': demand_t,\n",
    "        'charging_t': charging_t,\n",
    "        'moer_aligned': moer_aligned,\n",
    "        'slack_aligned': (slack_aligned if slack_aligned is not None else np.zeros(T_align)),\n",
    "        'evs_aligned': evs_aligned,\n",
    "        'arrivals': arrivals,\n",
    "        'cum_reward': cum_reward,\n",
    "        'neg_cum_carbon': -cum_carbon,\n",
    "        'neg_cum_violations': -cum_violations,\n",
    "        'zeros': np.zeros(T_align),\n",
    "    }\n",
    "\n",
    "    # Build multi-panel spec leveraging notebook quick_plot utilities\n",
    "    panels = []\n",
    "    # Panel 1: Demand + Charging (twin y)\n",
    "    panels.append({\n",
    "        'type': 'line', 'x': 'time', 'y': 'demand_t', 'color': 'red', 'lw': 2,\n",
    "        'title': 'Demand and Charging (Critical Windows Highlighted in Red)',\n",
    "        'ylabel': 'Demand (kWh)', 'grid': True,\n",
    "        'twin_y': {'type': 'line', 'x': 'time', 'y': 'charging_t', 'color': 'blue', 'alpha': 0.8, 'label': 'Avg Charging Rate (A)', 'ylabel': 'Charging (A)'},\n",
    "        'annotations': ann_regions\n",
    "    })\n",
    "    # Panel 2: MOER with threshold line\n",
    "    panels.append({\n",
    "        'type': 'line', 'x': 'time', 'y': 'moer_aligned', 'color': 'green', 'lw': 2,\n",
    "        'title': 'Carbon Intensity', 'ylabel': 'MOER\\n(kg CO₂/kWh)', 'grid': True,\n",
    "        'hline': {'y': moer_threshold, 'color': 'darkgreen', 'linestyle': '--', 'alpha': 0.5, 'label': f'75th percentile ({moer_threshold:.3f})'},\n",
    "        'annotations': ann_regions,\n",
    "        'legend': True\n",
    "    })\n",
    "    # Panel 3: Slack (or placeholder if not available)\n",
    "    if slack_aligned is not None:\n",
    "        panels.append({\n",
    "            'type': 'line', 'x': 'time', 'y': 'slack_aligned', 'color': 'purple', 'lw': 2,\n",
    "            'title': 'Constraint Slack (Safety Margin)', 'ylabel': 'Min Slack (A)', 'grid': True,\n",
    "            'hline': [\n",
    "                {'y': 0, 'color': 'red', 'linestyle': '-', 'lw': 2, 'label': 'Violation'},\n",
    "                {'y': 5, 'color': 'orange', 'linestyle': '--', 'alpha': 0.7, 'label': 'Critical (5A)'},\n",
    "                {'y': 10, 'color': 'yellow', 'linestyle': '--', 'alpha': 0.5, 'label': 'Warning (10A)'}\n",
    "            ],\n",
    "            'annotations': ann_regions,\n",
    "            'ylim': (-5, 30),\n",
    "            'legend': True\n",
    "        })\n",
    "    else:\n",
    "        panels.append({\n",
    "            'type': 'line', 'x': 'time', 'y': 'zeros', 'color': 'gray', 'lw': 1,\n",
    "            'title': 'Constraint Slack (No data available)', 'ylabel': 'Min Slack (A)', 'grid': True,\n",
    "            'annotations': ann_regions\n",
    "        })\n",
    "    # Panel 4: Active EVs + Arrivals (twin bar)\n",
    "    panels.append({\n",
    "        'type': 'line', 'x': 'time', 'y': 'evs_aligned', 'color': 'darkblue', 'lw': 2,\n",
    "        'title': 'EV Population', 'ylabel': 'Active EVs', 'grid': True,\n",
    "        'twin_y': {'type': 'bar', 'x': 'time', 'y': 'arrivals', 'color': 'cyan', 'alpha': 0.5, 'label': 'New Arrivals', 'ylabel': 'Arrivals', 'legend': True},\n",
    "        'hline': {'y': avg_evs, 'color': 'darkblue', 'linestyle': ':', 'alpha': 0.5, 'label': f'Avg: {avg_evs:.0f}'},\n",
    "        'annotations': ann_regions,\n",
    "        'legend': True\n",
    "    })\n",
    "    # Panel 5: Cumulative curves\n",
    "    panels.append({\n",
    "        'type': 'line', 'x': 'time', 'y': 'cum_reward', 'color': 'black', 'lw': 2.5,\n",
    "        'title': 'Cumulative Performance', 'xlabel': 'Time (hours)', 'ylabel': 'Cumulative Value ($)', 'grid': True,\n",
    "        'overlay': [\n",
    "            {'type': 'line', 'x': 'time', 'y': 'neg_cum_carbon', 'color': 'green', 'lw': 2, 'alpha': 0.7, 'label': 'Carbon Cost'},\n",
    "            {'type': 'line', 'x': 'time', 'y': 'neg_cum_violations', 'color': 'red', 'lw': 2, 'alpha': 0.7, 'label': 'Violations'}\n",
    "        ],\n",
    "        'annotations': ann_regions,\n",
    "        'legend': True\n",
    "    })\n",
    "\n",
    "    quick_plot({\n",
    "        'layout': '5x1',\n",
    "        'figsize': (15, 14),\n",
    "        'sharex': True,\n",
    "        'plots': panels,\n",
    "        'title': 'System Timeline with Critical Periods (MPC-12)',\n",
    "        'tight': True,\n",
    "        'show': True\n",
    "    }, data)\n",
    "    \n",
    "    # Detailed analysis of critical windows\n",
    "    show(\"header: CRITICAL WINDOW DETAILED ANALYSIS\")\n",
    "    \n",
    "    for i, (start, end) in enumerate(critical_windows[:5]):  # Top 5\n",
    "        show(\"section: Critical Window {idx}: Hours {h1:.1f}-{h2:.1f}\", idx=i+1, h1=start/12, h2=end/12)\n",
    "        \n",
    "        # Extract window statistics\n",
    "        window_demand = demand_aligned[start:end]\n",
    "        window_moer = moer_aligned[start:end]\n",
    "        window_slack = slack_aligned[start:end] if slack_aligned is not None else None\n",
    "        window_evs = evs_aligned[start:end]\n",
    "        window_charging = charging_t[start:end]\n",
    "        \n",
    "        metrics = {\n",
    "            'Duration (min)': f\"{(end-start)*5}\",\n",
    "            'Demand (mean±std kWh)': f\"{np.mean(window_demand):.1f} ± {np.std(window_demand):.1f}\",\n",
    "            'MOER (mean±std)': f\"{np.mean(window_moer):.3f} ± {np.std(window_moer):.3f}\",\n",
    "            'Active EVs (mean±std)': f\"{np.mean(window_evs):.0f} ± {np.std(window_evs):.1f}\",\n",
    "            'Avg charging (A)': f\"{np.mean(window_charging):.1f}\",\n",
    "        }\n",
    "        if window_slack is not None and len(window_slack) > 0:\n",
    "            metrics.update({\n",
    "                'Min slack (A)': f\"{np.min(window_slack):.1f}\",\n",
    "                'Constraint stress': 'HIGH' if np.min(window_slack) < 5 else 'MODERATE',\n",
    "            })\n",
    "        show_metrics(metrics)\n",
    "        \n",
    "        # Identify primary stress factor\n",
    "        factors = []\n",
    "        if np.mean(window_demand) > np.percentile(demand_aligned, 75):\n",
    "            factors.append(\"High demand\")\n",
    "        if np.mean(window_moer) > np.percentile(moer_aligned, 75):\n",
    "            factors.append(\"High carbon\")\n",
    "        if window_slack is not None and np.min(window_slack) < 5:\n",
    "            factors.append(\"Constraint binding\")\n",
    "        if np.mean(window_evs) > np.percentile(evs_aligned, 75):\n",
    "            factors.append(\"Many EVs\")\n",
    "        \n",
    "        show(\"text: Stress factors: {f}\", f=(', '.join(factors) if factors else 'Multiple moderate factors'))\n",
    "    \n",
    "    # System-wide patterns\n",
    "    show(\"header: TEMPORAL PATTERNS\")\n",
    "    \n",
    "    # Find peak hours for different metrics (use aligned arrays)\n",
    "    peak_demand_hour = np.argmax(demand_aligned) / 12\n",
    "    peak_moer_hour = np.argmax(moer_aligned) / 12\n",
    "    peak_evs_hour = np.argmax(evs_aligned) / 12\n",
    "    if slack_aligned is not None:\n",
    "        min_slack_hour = np.argmin(slack_aligned) / 12\n",
    "    else:\n",
    "        min_slack_hour = None\n",
    "    \n",
    "    show(\"section: Peak hours\")\n",
    "    show_metrics({\n",
    "        'Highest demand': f\"{peak_demand_hour:.1f}h\",\n",
    "        'Highest MOER': f\"{peak_moer_hour:.1f}h\",\n",
    "        'Most EVs': f\"{peak_evs_hour:.1f}h\",\n",
    "        **({'Tightest constraint': f\"{min_slack_hour:.1f}h\"} if min_slack_hour is not None else {})\n",
    "    })\n",
    "    \n",
    "    # Check if peaks align (system stress)\n",
    "    peak_hours = [peak_demand_hour, peak_moer_hour, peak_evs_hour]\n",
    "    if min_slack_hour is not None:\n",
    "        peak_hours.append(min_slack_hour)\n",
    "    \n",
    "    peak_spread = max(peak_hours) - min(peak_hours)\n",
    "    if peak_spread < 2:\n",
    "        show(\"text: ⚠️ PEAKS ALIGN: System experiences compounded stress\")\n",
    "        show(\"text: Recommendation: Implement pre-charging or load shifting\")\n",
    "    else:\n",
    "        show(\"text: ✓ PEAKS DISTRIBUTED: Natural load balancing occurs\")\n",
    "        show(\"text: Opportunity: Leverage temporal diversity for optimization\")\n",
    "\n",
    "plot_critical_timeline()"
   ]
  },
  {
   "cell_type": "markdown",
   "id": "d56ef205",
   "metadata": {},
   "source": [
    "**Key Insights from Timeline Analysis**\n",
    "\n",
    "- **System stress is a composite effect:** Critical moments are rarely caused by a single factor. They emerge from the interplay of high demand, high carbon intensity, and tight infrastructure constraints.\n",
    "- **Temporal misalignment creates opportunity:** The fact that demand peaks and carbon intensity peaks do not perfectly align is the fundamental reason why intelligent, forward-looking control is valuable. Shifting load from a high-carbon peak to a low-carbon off-peak is the primary way to reduce emissions.\n",
    "- **Bottlenecks are predictable:** The analysis consistently highlights the morning rush (e.g., 8-10 AM) as a period of high stress, providing a clear target for operational planning and potential infrastructure upgrades.\n",
    "\n",
    "### 5.2 Constraint Binding Patterns\n",
    "\n",
    "**Deep dive purpose:** Infrastructure constraints are often the limiting factor in EV charging operations. This analysis identifies:\n",
    "1. Which specific constraints bind most frequently (infrastructure bottlenecks)\n",
    "2. When constraints bind (temporal patterns)\n",
    "3. How binding correlates with demand and other factors\n",
    "4. Differences in how algorithms handle constraints\n",
    "\n",
    "**Why this matters for RL:** Understanding constraint patterns helps design:\n",
    "- Safe exploration strategies that avoid violations\n",
    "- Reward shaping that anticipates constraints\n",
    "- Curriculum learning that gradually increases constraint difficulty\n",
    "- Infrastructure recommendations for real deployments"
   ]
  },
  {
   "cell_type": "code",
   "execution_count": null,
   "id": "58c00aff",
   "metadata": {},
   "outputs": [],
   "source": [
    "def analyze_constraint_binding_patterns():\n",
    "    \"\"\"Comprehensive analysis of constraint binding patterns.\"\"\"\n",
    "    \n",
    "    show(\"header: CONSTRAINT BINDING PATTERN ANALYSIS\")\n",
    "    show(\"text: Identifying infrastructure limitations and algorithmic differences\")\n",
    "    \n",
    "    binding_analysis = {}\n",
    "    binding_data = []\n",
    "    \n",
    "    # Analyze each algorithm (fresh instance per analysis to avoid internal state issues)\n",
    "    for name in ['Greedy', 'MPC-12', 'Offline']:\n",
    "        show(\"progress: Analyzing {name}\", name=name)\n",
    "        \n",
    "        # Re-run to get fresh constraint data with a fresh algorithm instance\n",
    "        if name == 'Greedy':\n",
    "            algo = GreedyAlgorithm(env)\n",
    "        elif name == 'MPC-12':\n",
    "            algo = MPC(env, lookahead=12)\n",
    "        else:\n",
    "            algo = OfflineOptimal(env)\n",
    "        traj = rollout_baseline(env, algo, seed=42)\n",
    "        \n",
    "        # Get constraint slack using utilities\n",
    "        mags, slacks = constraint_slack_series(env)\n",
    "        \n",
    "        if len(slacks) > 0:\n",
    "            # Thresholds\n",
    "            binding_threshold = 5.0\n",
    "            critical_threshold = 2.0\n",
    "            \n",
    "            min_slacks = np.min(slacks, axis=1)\n",
    "            \n",
    "            # Per-constraint frequencies (needed for Panel 1)\n",
    "            constraint_binding_freq = np.mean(slacks < binding_threshold, axis=0)\n",
    "            \n",
    "            # Store analysis\n",
    "            binding_analysis[name] = {\n",
    "                'slacks': slacks,\n",
    "                'min_slacks': min_slacks,\n",
    "                'binding_rate': np.mean(min_slacks < binding_threshold),\n",
    "                'critical_rate': np.mean(min_slacks < critical_threshold),\n",
    "                'violation_rate': np.mean(min_slacks < 0),\n",
    "                'constraint_binding_freq': constraint_binding_freq,\n",
    "                'traj': traj\n",
    "            }\n",
    "            \n",
    "            # Collect data for DataFrame\n",
    "            for t in range(len(min_slacks)):\n",
    "                # Derive active EVs if not present\n",
    "                if 'active_evs' in traj and t < len(traj['active_evs']):\n",
    "                    active_evs_t = float(traj['active_evs'][t])\n",
    "                else:\n",
    "                    try:\n",
    "                        dem_t = np.asarray(traj['demands'][t], dtype=float)\n",
    "                        active_evs_t = float(np.sum(dem_t > 1e-9))\n",
    "                    except Exception:\n",
    "                        active_evs_t = 0.0\n",
    "\n",
    "                binding_data.append({\n",
    "                    'algorithm': name,\n",
    "                    't': t,\n",
    "                    'hour': t / 12,\n",
    "                    'min_slack': min_slacks[t],\n",
    "                    'binding': min_slacks[t] < binding_threshold,\n",
    "                    'demand': np.sum(traj['demands'][t]) if t < len(traj['demands']) else 0,\n",
    "                    'active_evs': active_evs_t\n",
    "                })\n",
    "    \n",
    "    binding_df = pd.DataFrame(binding_data)\n",
    "    \n",
    "    # Determine number of constraints for plotting\n",
    "    n_constraints = 0\n",
    "    if binding_analysis:\n",
    "        example = next(iter(binding_analysis.values()))\n",
    "        n_constraints = example['slacks'].shape[1]\n",
    "    \n",
    "    # Prepare heatmap data for Panel 2 (algorithm × hour -> binding probability)\n",
    "    algo_order = [n for n in ['Greedy', 'MPC-12', 'Offline'] if n in binding_analysis]\n",
    "    hour_bins = np.arange(24)\n",
    "    heat_df = binding_df.copy()\n",
    "    heat_df['hour_bin'] = heat_df['hour'].astype(int)\n",
    "    pvt = heat_df.groupby(['algorithm', 'hour_bin'])['binding'].mean().unstack(fill_value=0.0)\n",
    "    pvt = pvt.reindex(index=algo_order, columns=hour_bins, fill_value=0.0)\n",
    "    binding_heatmap = pvt.values\n",
    "\n",
    "    # Create visualizations using quick_plot (4 panels, 2x2)\n",
    "    color_map = {\n",
    "        'Greedy': '#d62728',        # red\n",
    "        'MPC-12': '#9ca3af',        # gray (neutral)\n",
    "        'Offline': '#6b7280',       # darker gray (neutral)\n",
    "    }\n",
    "    plots_config = {\n",
    "        'layout': '2x2',\n",
    "        'figsize': (14, 9),\n",
    "        'plots': [\n",
    "            # Panel 1: Per-constraint binding frequency (colored per algorithm)\n",
    "            {\n",
    "                'type': 'bar_multi',\n",
    "                'bars': [\n",
    "                    {\n",
    "                        'x': np.arange(n_constraints),\n",
    "                        'y': binding_analysis[name]['constraint_binding_freq'] * 100,\n",
    "                        'offset': i*0.28,\n",
    "                        'width': 0.28,\n",
    "                        'label': name,\n",
    "                        'color': color_map.get(name, 'steelblue')\n",
    "                    }\n",
    "                    for i, name in enumerate(algo_order)\n",
    "                ],\n",
    "                'title': 'Which Constraints Bind Most?',\n",
    "                'xlabel': 'Constraint Index',\n",
    "                'ylabel': 'Binding Frequency (%)'\n",
    "            },\n",
    "            # Panel 2: Temporal binding heatmap (Algorithm × Hour)\n",
    "            {\n",
    "                'type': 'heatmap',\n",
    "                'data': 'binding_heatmap',\n",
    "                'cmap': 'YlOrRd',\n",
    "                'clabel': 'Binding Probability',\n",
    "                'vmin': 0.0,\n",
    "                'vmax': 1.0,\n",
    "                'xticklabels': 'hours',\n",
    "                'yticklabels': 'algo_order',\n",
    "                'xtickrot': 0,\n",
    "                'title': 'When Do Constraints Bind? (Probability Heatmap)',\n",
    "                'xlabel': 'Hour of Day',\n",
    "                'ylabel': 'Algorithm'\n",
    "            },\n",
    "            # Panel 3: Slack distribution (with thresholds)\n",
    "            {\n",
    "                'type': 'hist',\n",
    "                'data': {name: binding_analysis[name]['slacks'].flatten() \n",
    "                        for name in algo_order if name in binding_analysis},\n",
    "                'bins': 50,\n",
    "                'title': 'Slack Distribution',\n",
    "                'xlabel': 'Slack (A)',\n",
    "                'vline': [\n",
    "                    {'x': 0, 'color': 'red', 'linestyle': '-', 'label': 'Violation'},\n",
    "                    {'x': 2, 'color': 'orange', 'linestyle': '--', 'label': 'Critical'},\n",
    "                    {'x': 5, 'color': 'yellow', 'linestyle': '--', 'label': 'Binding'}\n",
    "                ]\n",
    "            },\n",
    "            # Panel 4: Demand vs Slack\n",
    "            {\n",
    "                'type': 'scatter',\n",
    "                'data': binding_df,\n",
    "                'x': 'demand',\n",
    "                'y': 'min_slack',\n",
    "                'hue': 'algorithm',\n",
    "                'title': 'How Demand Affects Constraints',\n",
    "                'xlabel': 'Aggregate Demand (kWh)',\n",
    "                'ylabel': 'Min Slack (A)',\n",
    "                'hline': [\n",
    "                    {'y': 0, 'color': 'red', 'linestyle': '--'},\n",
    "                    {'y': 5, 'color': 'orange', 'linestyle': '--'}\n",
    "                ]\n",
    "            },\n",
    "        ]\n",
    "    }\n",
    "    \n",
    "    # Render with notebook utility\n",
    "    quick_plot({\n",
    "        **plots_config,\n",
    "        'tight': True,\n",
    "        'show': True\n",
    "    }, {\n",
    "        'binding_df': binding_df,\n",
    "        'binding_heatmap': binding_heatmap,\n",
    "        'algo_order': algo_order,\n",
    "        'hours': np.arange(binding_heatmap.shape[1]) if binding_heatmap.size else np.arange(0),\n",
    "    })\n",
    "    \n",
    "    # Statistics summary\n",
    "    show(\"header: CONSTRAINT BINDING STATISTICS\")\n",
    "    \n",
    "    for name in ['Greedy', 'MPC-12', 'Offline']:\n",
    "        if name not in binding_analysis:\n",
    "            continue\n",
    "        analysis = binding_analysis[name]\n",
    "        show(\"section: {name} Algorithm\", name=name)\n",
    "        show_metrics({\n",
    "            'Binding rate': f\"{analysis['binding_rate']*100:.1f}% of timesteps\",\n",
    "            'Critical rate': f\"{analysis['critical_rate']*100:.1f}%\",\n",
    "            'Violation rate': f\"{analysis['violation_rate']*100:.1f}%\",\n",
    "            'Average min slack': f\"{np.mean(analysis['min_slacks']):.2f} A\",\n",
    "            'Minimum slack': f\"{np.min(analysis['min_slacks']):.2f} A\"\n",
    "        })\n",
    "    \n",
    "    # Infrastructure recommendations\n",
    "    show(\"header: INFRASTRUCTURE RECOMMENDATIONS\")\n",
    "    \n",
    "    if binding_analysis:\n",
    "        all_binding_freqs = np.array([binding_analysis[name]['constraint_binding_freq'] \n",
    "                                      for name in ['Greedy', 'MPC-12', 'Offline'] if name in binding_analysis])\n",
    "        if len(all_binding_freqs) > 0:\n",
    "            avg_binding_freq = np.mean(all_binding_freqs, axis=0)\n",
    "            problem_constraints = np.where(avg_binding_freq > 0.3)[0]\n",
    "            \n",
    "            if len(problem_constraints) > 0:\n",
    "                show(\"text: Constraints requiring upgrade (>30% binding across algorithms):\")\n",
    "                for idx in problem_constraints:\n",
    "                    show(\"metric: Constraint C{idx}: {freq:.1f}% average binding\", \n",
    "                         idx=int(idx), freq=avg_binding_freq[idx]*100)\n",
    "            else:\n",
    "                show(\"text: No single constraint is critically limiting. System is well-balanced for current demand.\")\n",
    "        else:\n",
    "            show(\"text: No constraint frequency data available.\")\n",
    "    else:\n",
    "        show(\"text: No binding analysis available.\")\n",
    "    \n",
    "    # Save results\n",
    "    save_path = save_timeseries('constraint_binding_patterns', binding_df, kind='baselines')\n",
    "    show(\"result: Analysis saved to: {p}\", p=save_path)\n",
    "    \n",
    "    return binding_analysis\n",
    "\n",
    "binding_analysis = analyze_constraint_binding_patterns()"
   ]
  },
  {
   "cell_type": "markdown",
   "id": "d3bb9a26",
   "metadata": {},
   "source": [
    "### Key Diagnostic Takeaways for RL\n",
    "\n",
    "This tutorial introduces several diagnostic concepts that are critical for developing and debugging RL agents in complex, constrained environments.\n",
    "\n",
    "1.  **Establish Performance Baselines:** Before training an RL agent, always establish performance bounds using simple and expert controllers. The gap between a myopic **Greedy** policy and a clairvoyant **Offline Optimal** policy defines the space for improvement. A strong **MPC** controller provides a realistic and often difficult-to-beat benchmark that any sophisticated RL agent must outperform.\n",
    "\n",
    "2.  **Identify Critical States:** Not all states are equally important. Critical windows—periods of high demand, high carbon intensity, or tight network constraints—are where a policy's intelligence truly matters. By identifying these states, you can focus analysis, guide exploration, and design more effective training curricula for your RL agent.\n",
    "\n",
    "3.  **Analyze Constraint-Binding Behavior:** In safety-critical systems, it's not enough to be optimal; you must also be safe. Analyzing when and where network constraints are close to being violated (i.e., when \"slack\" is low) is fundamental. This is the first step toward building a safety-aware agent that can manage trade-offs between reward and constraint satisfaction.\n",
    "\n",
    "4.  **Perform Counterfactual Action Analysis:** To understand if an agent's action was truly good, compare it to what an expert (like a one-step MPC) would have done in the exact same situation. This \"action critique\" provides a powerful, localized signal for credit assignment and can help diagnose systematic biases in an agent's policy, such as being too greedy or too conservative.\n",
    "\n",
    "**Key insights from constraint binding analysis:**\n",
    "- Infrastructure bottlenecks are clearly identified (constraints that bind >30% of time)\n",
    "- Greedy binds constraints most frequently due to lack of planning\n",
    "- MPC and Offline better anticipate and avoid constraint violations\n",
    "- Peak binding occurs during predictable periods (morning/evening rush)\n",
    "- Sustained binding periods indicate infrastructure inadequacy\n",
    "- Specific capacity recommendations can be made for infrastructure upgrades\n",
    "\n",
    "### 5.3 Results Persistence\n",
    "\n",
    "**Critical step:** Save all results in a standardized format that other tutorials can load. This enables:\n",
    "- Consistent baselines across experiments\n",
    "- Reproducible research\n",
    "- Easy comparison with RL agents in Tutorial 03\n",
    "\n",
    "Using utility functions ensures all tutorials save data in compatible formats."
   ]
  },
  {
   "cell_type": "code",
   "execution_count": null,
   "id": "170d03fa",
   "metadata": {},
   "outputs": [],
   "source": [
    "# All saving now uses utility functions\n",
    "show(\"header: Saving all baseline results\")\n",
    "\n",
    "cache_dir = get_cache_dir('baselines')\n",
    "\n",
    "for name, traj in trajectories.items():\n",
    "    tag = f\"baseline_{name.lower().replace('-', '_')}\"\n",
    "    \n",
    "    # Save timeseries data\n",
    "    ts_df = traj_to_timeseries_df(traj, name)\n",
    "    path = save_timeseries(tag, ts_df, kind='baselines')\n",
    "    show(\"result: Saved {name} to {path}\", name=name, path=path)\n",
    "    \n",
    "    # Save actions separately if needed for MARL comparison\n",
    "    action_df = pd.DataFrame({\n",
    "        't': np.repeat(np.arange(len(traj['action'])), env.num_stations),\n",
    "        'station': np.tile(np.arange(env.num_stations), len(traj['action'])),\n",
    "        'action': np.stack(traj['action']).reshape(-1)\n",
    "    })\n",
    "    \n",
    "    action_path = os.path.join(cache_dir, f'{tag}_actions.csv.gz')\n",
    "    save_df_gz(action_df, action_path)\n",
    "\n",
    "show(\"result: All trajectories saved to {dir}\", dir=cache_dir)"
   ]
  },
  {
   "cell_type": "markdown",
   "id": "4a0a253e",
   "metadata": {},
   "source": [
    "## Key Takeaways\n",
    "\n",
    "- **Utility Integration Benefits**: By leveraging shared utilities, we've reduced boilerplate while maintaining functionality. This improves maintainability and ensures consistency across tutorials.\n",
    "\n",
    "**What we did (and why it matters for RL)**\n",
    "- `evaluate_policy()` + baseline rollouts: establishes performance and safety baselines that RL should match/exceed. The gap to `Offline` and `MPC-12` bounds your achievable improvements.\n",
    "- Critical-state ranking via `find_critical_windows_from_series()`: surfaces the small set of timesteps that drive most return and cost. RL should prioritize experience in these states (prioritized replay, curricula, or targeted data collection).\n",
    "- Integrated timeline `plot_critical_timeline()`: synchronizes demand, charging, MOER, slack, EV arrivals, and cumulative metrics to explain why stress emerges (e.g., high demand × high MOER × tight slack). This informs reward design and constraints.\n",
    "- Constraint analysis `constraint_slack_series()` and `plot_slack_from_env()`: reveals when/where the network is near binding. This is crucial in a CMDP framing where safety costs (e.g., `excess_charge`) must be controlled.\n",
    "- Behavior views (pilot signals, action saturation, per-station utilization): shows whether policies saturate, balance load, or shift in time. These expose policy biases and capacity bottlenecks.\n",
    "- Local action critique `action_critique_with_one_step_mpc()`: isolates immediate, per-step suboptimality and attributes deltas to reward components (profit/carbon/violations). This helps with credit assignment and reward shaping.\n",
    "\n",
    "**Why these diagnostics are informative for RL**\n",
    "- **State criticality and exploration:** Most of the value (and risk) concentrates in a few windows. Sampling and exploration should upweight these. Practical knobs: prioritized replay keyed by `critical_windows`, curriculum starting from stress windows, or sampling schedules that mimic peak hours.\n",
    "- **Credit assignment:** Immediate deltas from one-step MPC show if the agent is systematically myopic (e.g., charging during high MOER). If local deltas are small but cumulative returns lag, issues likely stem from longer-horizon planning or poor forecasting features.\n",
    "- **Safety as a cost (CMDP view):** Treat `excess_charge` as a cost and track slack distributions. If RL outperforms on reward but violates constraints more than MPC, consider Lagrangian/constrained RL, safety critics, or action filters.\n",
    "- **Forecasts and lookahead:** The `moer_forecast_steps` and MPC horizon experiments quantify the value of anticipation. RL should ingest forecast features; ablations can confirm if the policy is using them.\n",
    "- **Action scaling and projection:** If actions saturate at bounds (or the environment projects them), learning signals may be distorted. Compare training/eval with `project_action_in_env` on vs off and monitor saturation statistics.\n",
    "- **Bottlenecks and coordination:** Station-level utilization plus slack heatmaps identify structural constraints. For MARL, these guide shaping terms or coordination rewards to avoid local greediness.\n",
    "\n",
    "**How to use this during RL training (Tutorial 03+)**\n",
    "- Add callbacks that:\n",
    "  - compute slack histograms and critical-window coverage per epoch;\n",
    "  - log action saturation rates and per-station utilization;\n",
    "  - evaluate on held-out stress windows discovered by `find_critical_windows_from_series()`;\n",
    "  - run robustness sweeps (noise/perturbations) to monitor generalization.\n",
    "- Always compare against `MPC-12` via `algorithm_arena()` and standardized `evaluate_policy()` metrics (return, carbon cost, violations/safety cost, satisfaction).\n",
    "- If performance regresses, use the provided targeted debuggers: `debug_reward_scaling()` (reward accounting), `debug_constraint_violations()` (safety mechanics and projection), `debug_dense_mode()` (data density), `debug_critical_windows()` (data alignment).\n",
    "\n",
    "**Reading the signs**\n",
    "- When it’s working:\n",
    "  - peaks are distributed (timeline), slack rarely hits critical thresholds, carbon-aligned load shifting occurs, and action saturation decreases over training.\n",
    "- When it’s not:\n",
    "  - peaks align across demand/MOER/EVs/slack, violations spike despite good returns, actions clip at bounds, or forecasts are ignored (no temporal shifting). Use the diagnostics above to localize the failure mode."
   ]
  },
  {
   "cell_type": "markdown",
   "id": "c696c300",
   "metadata": {},
   "source": [
    "## What's Next\n",
    "\n",
    "**Tutorial 03: Standard RL** — Train RL agents to match or exceed MPC performance; Focus learning on the critical states identified here; Use the robustness testing framework to evaluate learned policies\n",
    "\n",
    "\n",
    "## Acknowledgments\n",
    "\n",
    "This tutorial series builds on:\n",
    "- **[SustainGym](https://chrisyeh96.github.io/sustaingym/)** ([Yeh et al., 2023](https://openreview.net/forum?id=vZ9tA3o3hr)) — Base environment and baseline algorithms\n",
    "- **[ACN-Data/Sim](https://github.com/zach401/acnportal)** ([Lee et al., 2019](https://doi.org/10.1145/3307772.3331015)) — Real charging data\n",
    "- **[CVXPY](https://www.cvxpy.org/)** ([Diamond & Boyd, 2016](https://doi.org/10.1109/MCS.2018.2813306)) — Convex optimization for MPC implementation\n",
    "\n",
    "**Survey:** Jin, M. (2025). [RL Meets the Power Grid](https://jinming.tech/assets/pdfs/2025-fnt-safe-rl-power-grid-survey.pdf). *Foundations and Trends in Electric Energy Systems*.\n",
    "\n",
    "**Note:** AI-assisted tools were used in developing these materials.\n",
    "\n"
   ]
  }
 ],
 "metadata": {
  "jupytext": {
   "cell_metadata_filter": "-all",
   "formats": "ipynb,py:percent",
   "main_language": "python",
   "notebook_metadata_filter": "-kernelspec,-language_info"
  },
  "kernelspec": {
   "display_name": "Python (gridguardian)",
   "language": "python",
   "name": "gridguardian"
  },
  "language_info": {
   "codemirror_mode": {
    "name": "ipython",
    "version": 3
   },
   "file_extension": ".py",
   "mimetype": "text/x-python",
   "name": "python",
   "nbconvert_exporter": "python",
   "pygments_lexer": "ipython3",
   "version": "3.9.6"
  }
 },
 "nbformat": 4,
 "nbformat_minor": 5
}
